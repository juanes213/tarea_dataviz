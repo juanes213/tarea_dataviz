{
 "cells": [
  {
   "cell_type": "markdown",
   "metadata": {},
   "source": [
    "# Errores Comunes"
   ]
  },
  {
   "cell_type": "code",
   "execution_count": null,
   "metadata": {},
   "outputs": [],
   "source": [
    "import pandas as pd\n",
    "import numpy as np\n",
    "import plotly.express as px\n",
    "import warnings\n",
    "warnings.filterwarnings(\"ignore\")"
   ]
  },
  {
   "cell_type": "markdown",
   "metadata": {},
   "source": [
    "## Parte 1"
   ]
  },
  {
   "cell_type": "code",
   "execution_count": 2,
   "metadata": {},
   "outputs": [],
   "source": [
    "url = \"https://raw.githubusercontent.com/lihkir/Uninorte/main/AppliedStatisticMS/DataVisualizationRPython/Lectures/Python/PythonDataSets/co2.csv\"\n",
    "df = pd.read_csv(url)\n",
    "\n",
    "url2 = \"https://raw.githubusercontent.com/lihkir/Uninorte/main/AppliedStatisticMS/DataVisualizationRPython/Lectures/Python/PythonDataSets/gapminder.csv\"\n",
    "df2 = pd.read_csv(url2)\n",
    "\n",
    "df2_subset = df2[['fertility', 'life', 'population']]"
   ]
  },
  {
   "cell_type": "markdown",
   "metadata": {},
   "source": [
    "Subimos los datos de github y para el segundo dataframe solo necesitamos las columnas fertility, life y population"
   ]
  },
  {
   "cell_type": "code",
   "execution_count": 4,
   "metadata": {},
   "outputs": [
    {
     "data": {
      "text/html": [
       "<div>\n",
       "<style scoped>\n",
       "    .dataframe tbody tr th:only-of-type {\n",
       "        vertical-align: middle;\n",
       "    }\n",
       "\n",
       "    .dataframe tbody tr th {\n",
       "        vertical-align: top;\n",
       "    }\n",
       "\n",
       "    .dataframe thead th {\n",
       "        text-align: right;\n",
       "    }\n",
       "</style>\n",
       "<table border=\"1\" class=\"dataframe\">\n",
       "  <thead>\n",
       "    <tr style=\"text-align: right;\">\n",
       "      <th></th>\n",
       "      <th>country</th>\n",
       "      <th>year</th>\n",
       "      <th>co2_emissions</th>\n",
       "      <th>fertility</th>\n",
       "      <th>life</th>\n",
       "      <th>population</th>\n",
       "    </tr>\n",
       "  </thead>\n",
       "  <tbody>\n",
       "    <tr>\n",
       "      <th>30</th>\n",
       "      <td>Canada</td>\n",
       "      <td>1800</td>\n",
       "      <td>0.00568</td>\n",
       "      <td>7.796</td>\n",
       "      <td>51.738</td>\n",
       "      <td>18553819.0</td>\n",
       "    </tr>\n",
       "    <tr>\n",
       "      <th>63</th>\n",
       "      <td>Germany</td>\n",
       "      <td>1800</td>\n",
       "      <td>0.03480</td>\n",
       "      <td>4.094</td>\n",
       "      <td>69.459</td>\n",
       "      <td>2508026.0</td>\n",
       "    </tr>\n",
       "    <tr>\n",
       "      <th>136</th>\n",
       "      <td>Poland</td>\n",
       "      <td>1800</td>\n",
       "      <td>0.04280</td>\n",
       "      <td>2.514</td>\n",
       "      <td>68.963</td>\n",
       "      <td>30533827.0</td>\n",
       "    </tr>\n",
       "    <tr>\n",
       "      <th>182</th>\n",
       "      <td>United Kingdom</td>\n",
       "      <td>1800</td>\n",
       "      <td>2.16000</td>\n",
       "      <td>6.984</td>\n",
       "      <td>42.526</td>\n",
       "      <td>12452725.0</td>\n",
       "    </tr>\n",
       "    <tr>\n",
       "      <th>183</th>\n",
       "      <td>United States</td>\n",
       "      <td>1800</td>\n",
       "      <td>0.03720</td>\n",
       "      <td>6.949</td>\n",
       "      <td>43.088</td>\n",
       "      <td>12792237.0</td>\n",
       "    </tr>\n",
       "  </tbody>\n",
       "</table>\n",
       "</div>"
      ],
      "text/plain": [
       "            country  year  co2_emissions  fertility    life  population\n",
       "30           Canada  1800        0.00568      7.796  51.738  18553819.0\n",
       "63          Germany  1800        0.03480      4.094  69.459   2508026.0\n",
       "136          Poland  1800        0.04280      2.514  68.963  30533827.0\n",
       "182  United Kingdom  1800        2.16000      6.984  42.526  12452725.0\n",
       "183   United States  1800        0.03720      6.949  43.088  12792237.0"
      ]
     },
     "execution_count": 4,
     "metadata": {},
     "output_type": "execute_result"
    }
   ],
   "source": [
    "df_melted = df.melt(id_vars=[\"country\"], var_name=\"year\", value_name=\"co2_emissions\")\n",
    "df_melted[\"year\"] = pd.to_numeric(df_melted[\"year\"])\n",
    "\n",
    "df_merge = pd.merge(df_melted, df2_subset, left_index=True, right_index=True, how='inner')\n",
    "df_merge = df_merge.dropna()\n",
    "df_merge.head()"
   ]
  },
  {
   "cell_type": "markdown",
   "metadata": {},
   "source": [
    "En esta parte hacemos el melt para poder tener el año como una sola columna y no varias. Después hacemos el merge de los dos dataframes."
   ]
  },
  {
   "cell_type": "code",
   "execution_count": 6,
   "metadata": {},
   "outputs": [
    {
     "data": {
      "application/vnd.plotly.v1+json": {
       "config": {
        "plotlyServerURL": "https://plot.ly"
       },
       "data": [
        {
         "hovertemplate": "<b>%{hovertext}</b><br><br>year=1800<br>CO2 Emissions (Metric Tons per Capita)=%{x}<br>Life Expectancy (Years)=%{marker.color}<extra></extra>",
         "hovertext": [
          "Canada",
          "Germany",
          "Poland",
          "United Kingdom",
          "United States"
         ],
         "ids": [
          "Canada",
          "Germany",
          "Poland",
          "United Kingdom",
          "United States"
         ],
         "legendgroup": "",
         "marker": {
          "color": [
           51.738,
           69.459,
           68.96300000000001,
           42.526,
           43.088
          ],
          "coloraxis": "coloraxis",
          "symbol": "circle"
         },
         "mode": "markers",
         "name": "",
         "orientation": "v",
         "showlegend": false,
         "type": "scatter",
         "x": [
          0.00568,
          0.0348,
          0.0428,
          2.16,
          0.0372
         ],
         "xaxis": "x",
         "y": [
          51.738,
          69.459,
          68.96300000000001,
          42.526,
          43.088
         ],
         "yaxis": "y"
        }
       ],
       "frames": [
        {
         "data": [
          {
           "hovertemplate": "<b>%{hovertext}</b><br><br>year=1800<br>CO2 Emissions (Metric Tons per Capita)=%{x}<br>Life Expectancy (Years)=%{marker.color}<extra></extra>",
           "hovertext": [
            "Canada",
            "Germany",
            "Poland",
            "United Kingdom",
            "United States"
           ],
           "ids": [
            "Canada",
            "Germany",
            "Poland",
            "United Kingdom",
            "United States"
           ],
           "legendgroup": "",
           "marker": {
            "color": [
             51.738,
             69.459,
             68.96300000000001,
             42.526,
             43.088
            ],
            "coloraxis": "coloraxis",
            "symbol": "circle"
           },
           "mode": "markers",
           "name": "",
           "orientation": "v",
           "showlegend": false,
           "type": "scatter",
           "x": [
            0.00568,
            0.0348,
            0.0428,
            2.16,
            0.0372
           ],
           "xaxis": "x",
           "y": [
            51.738,
            69.459,
            68.96300000000001,
            42.526,
            43.088
           ],
           "yaxis": "y"
          }
         ],
         "name": "1800"
        },
        {
         "data": [
          {
           "hovertemplate": "<b>%{hovertext}</b><br><br>year=1801<br>CO2 Emissions (Metric Tons per Capita)=%{x}<br>Life Expectancy (Years)=%{marker.color}<extra></extra>",
           "hovertext": [
            "Canada",
            "Germany",
            "Poland",
            "United Kingdom",
            "United States"
           ],
           "ids": [
            "Canada",
            "Germany",
            "Poland",
            "United Kingdom",
            "United States"
           ],
           "legendgroup": "",
           "marker": {
            "color": [
             70.435,
             66.184,
             67.979,
             73.378,
             73.425
            ],
            "coloraxis": "coloraxis",
            "symbol": "circle"
           },
           "mode": "markers",
           "name": "",
           "orientation": "v",
           "showlegend": false,
           "type": "scatter",
           "x": [
            0.00561,
            0.0233,
            0.0464,
            2.14,
            0.0386
           ],
           "xaxis": "x",
           "y": [
            70.435,
            66.184,
            67.979,
            73.378,
            73.425
           ],
           "yaxis": "y"
          }
         ],
         "name": "1801"
        },
        {
         "data": [
          {
           "hovertemplate": "<b>%{hovertext}</b><br><br>year=1802<br>CO2 Emissions (Metric Tons per Capita)=%{x}<br>Life Expectancy (Years)=%{marker.color}<extra></extra>",
           "hovertext": [
            "Belgium",
            "Canada",
            "France",
            "Germany",
            "Poland",
            "United Kingdom",
            "United States"
           ],
           "ids": [
            "Belgium",
            "Canada",
            "France",
            "Germany",
            "Poland",
            "United Kingdom",
            "United States"
           ],
           "legendgroup": "",
           "marker": {
            "color": [
             70.65,
             73.88,
             81.67,
             82.23100000000001,
             65.499,
             68.524,
             68.755
            ],
            "coloraxis": "coloraxis",
            "symbol": "circle"
           },
           "mode": "markers",
           "name": "",
           "orientation": "v",
           "showlegend": false,
           "type": "scatter",
           "x": [
            2.02,
            0.00555,
            0.0759,
            0.024,
            0.047,
            2.13,
            0.041
           ],
           "xaxis": "x",
           "y": [
            70.65,
            73.88,
            81.67,
            82.23100000000001,
            65.499,
            68.524,
            68.755
           ],
           "yaxis": "y"
          }
         ],
         "name": "1802"
        },
        {
         "data": [
          {
           "hovertemplate": "<b>%{hovertext}</b><br><br>year=1803<br>CO2 Emissions (Metric Tons per Capita)=%{x}<br>Life Expectancy (Years)=%{marker.color}<extra></extra>",
           "hovertext": [
            "Canada",
            "Germany",
            "Poland",
            "United Kingdom",
            "United States"
           ],
           "ids": [
            "Canada",
            "Germany",
            "Poland",
            "United Kingdom",
            "United States"
           ],
           "legendgroup": "",
           "marker": {
            "color": [
             63.45,
             75.064,
             67.145,
             72.67,
             72.71
            ],
            "coloraxis": "coloraxis",
            "symbol": "circle"
           },
           "mode": "markers",
           "name": "",
           "orientation": "v",
           "showlegend": false,
           "type": "scatter",
           "x": [
            0.00548,
            0.0231,
            0.0479,
            2.36,
            0.0412
           ],
           "xaxis": "x",
           "y": [
            63.45,
            75.064,
            67.145,
            72.67,
            72.71
           ],
           "yaxis": "y"
          }
         ],
         "name": "1803"
        },
        {
         "data": [
          {
           "hovertemplate": "<b>%{hovertext}</b><br><br>year=1804<br>CO2 Emissions (Metric Tons per Capita)=%{x}<br>Life Expectancy (Years)=%{marker.color}<extra></extra>",
           "hovertext": [
            "Canada",
            "France",
            "Germany",
            "Poland",
            "United Kingdom",
            "United States"
           ],
           "ids": [
            "Canada",
            "France",
            "Germany",
            "Poland",
            "United Kingdom",
            "United States"
           ],
           "legendgroup": "",
           "marker": {
            "color": [
             69.829,
             76.3,
             76.97,
             41.252,
             33.827,
             34.212
            ],
            "coloraxis": "coloraxis",
            "symbol": "circle"
           },
           "mode": "markers",
           "name": "",
           "orientation": "v",
           "showlegend": false,
           "type": "scatter",
           "x": [
            0.00542,
            0.0733,
            0.0433,
            0.0473,
            2.34,
            0.0454
           ],
           "xaxis": "x",
           "y": [
            69.829,
            76.3,
            76.97,
            41.252,
            33.827,
            34.212
           ],
           "yaxis": "y"
          }
         ],
         "name": "1804"
        },
        {
         "data": [
          {
           "hovertemplate": "<b>%{hovertext}</b><br><br>year=1805<br>CO2 Emissions (Metric Tons per Capita)=%{x}<br>Life Expectancy (Years)=%{marker.color}<extra></extra>",
           "hovertext": [
            "Canada",
            "Germany",
            "Poland",
            "United Kingdom",
            "United States"
           ],
           "ids": [
            "Canada",
            "Germany",
            "Poland",
            "United Kingdom",
            "United States"
           ],
           "legendgroup": "",
           "marker": {
            "color": [
             63.323,
             57.043,
             75.898,
             46.565,
             46.422
            ],
            "coloraxis": "coloraxis",
            "symbol": "circle"
           },
           "mode": "markers",
           "name": "",
           "orientation": "v",
           "showlegend": false,
           "type": "scatter",
           "x": [
            0.00536,
            0.0445,
            0.0588,
            2.4,
            0.0456
           ],
           "xaxis": "x",
           "y": [
            63.323,
            57.043,
            75.898,
            46.565,
            46.422
           ],
           "yaxis": "y"
          }
         ],
         "name": "1805"
        },
        {
         "data": [
          {
           "hovertemplate": "<b>%{hovertext}</b><br><br>year=1806<br>CO2 Emissions (Metric Tons per Capita)=%{x}<br>Life Expectancy (Years)=%{marker.color}<extra></extra>",
           "hovertext": [
            "Canada",
            "Germany",
            "Poland",
            "United Kingdom",
            "United States"
           ],
           "ids": [
            "Canada",
            "Germany",
            "Poland",
            "United Kingdom",
            "United States"
           ],
           "legendgroup": "",
           "marker": {
            "color": [
             68.846,
             70.45100000000001,
             72.14,
             49.984,
             50.262
            ],
            "coloraxis": "coloraxis",
            "symbol": "circle"
           },
           "mode": "markers",
           "name": "",
           "orientation": "v",
           "showlegend": false,
           "type": "scatter",
           "x": [
            0.00529,
            0.04,
            0.0533,
            2.5,
            0.0437
           ],
           "xaxis": "x",
           "y": [
            68.846,
            70.45100000000001,
            72.14,
            49.984,
            50.262
           ],
           "yaxis": "y"
          }
         ],
         "name": "1806"
        },
        {
         "data": [
          {
           "hovertemplate": "<b>%{hovertext}</b><br><br>year=1807<br>CO2 Emissions (Metric Tons per Capita)=%{x}<br>Life Expectancy (Years)=%{marker.color}<extra></extra>",
           "hovertext": [
            "Austria",
            "Canada",
            "Germany",
            "Poland",
            "United Kingdom",
            "United States"
           ],
           "ids": [
            "Austria",
            "Canada",
            "Germany",
            "Poland",
            "United Kingdom",
            "United States"
           ],
           "legendgroup": "",
           "marker": {
            "color": [
             43.332,
             48.254,
             40,
             53.426,
             77.51,
             77.69
            ],
            "coloraxis": "coloraxis",
            "symbol": "circle"
           },
           "mode": "markers",
           "name": "",
           "orientation": "v",
           "showlegend": false,
           "type": "scatter",
           "x": [
            0.0517,
            0.00523,
            0.114,
            0.0385,
            2.47,
            0.0486
           ],
           "xaxis": "x",
           "y": [
            43.332,
            48.254,
            40,
            53.426,
            77.51,
            77.69
           ],
           "yaxis": "y"
          }
         ],
         "name": "1807"
        },
        {
         "data": [
          {
           "hovertemplate": "<b>%{hovertext}</b><br><br>year=1808<br>CO2 Emissions (Metric Tons per Capita)=%{x}<br>Life Expectancy (Years)=%{marker.color}<extra></extra>",
           "hovertext": [
            "Canada",
            "Germany",
            "Poland",
            "United Kingdom",
            "United States"
           ],
           "ids": [
            "Canada",
            "Germany",
            "Poland",
            "United Kingdom",
            "United States"
           ],
           "legendgroup": "",
           "marker": {
            "color": [
             60.31399999999999,
             75.093,
             46.084,
             73.89,
             74.101
            ],
            "coloraxis": "coloraxis",
            "symbol": "circle"
           },
           "mode": "markers",
           "name": "",
           "orientation": "v",
           "showlegend": false,
           "type": "scatter",
           "x": [
            0.00517,
            0.0379,
            0.0509,
            2.44,
            0.0495
           ],
           "xaxis": "x",
           "y": [
            60.31399999999999,
            75.093,
            46.084,
            73.89,
            74.101
           ],
           "yaxis": "y"
          }
         ],
         "name": "1808"
        },
        {
         "data": [
          {
           "hovertemplate": "<b>%{hovertext}</b><br><br>year=1809<br>CO2 Emissions (Metric Tons per Capita)=%{x}<br>Life Expectancy (Years)=%{marker.color}<extra></extra>",
           "hovertext": [
            "Canada",
            "Germany",
            "Poland",
            "United Kingdom",
            "United States"
           ],
           "ids": [
            "Canada",
            "Germany",
            "Poland",
            "United Kingdom",
            "United States"
           ],
           "legendgroup": "",
           "marker": {
            "color": [
             63.266000000000005,
             77.93,
             64.34899999999999,
             49.576,
             49.993
            ],
            "coloraxis": "coloraxis",
            "symbol": "circle"
           },
           "mode": "markers",
           "name": "",
           "orientation": "v",
           "showlegend": false,
           "type": "scatter",
           "x": [
            0.00511,
            0.0392,
            0.0477,
            2.41,
            0.0499
           ],
           "xaxis": "x",
           "y": [
            63.266000000000005,
            77.93,
            64.34899999999999,
            49.576,
            49.993
           ],
           "yaxis": "y"
          }
         ],
         "name": "1809"
        },
        {
         "data": [
          {
           "hovertemplate": "<b>%{hovertext}</b><br><br>year=1810<br>CO2 Emissions (Metric Tons per Capita)=%{x}<br>Life Expectancy (Years)=%{marker.color}<extra></extra>",
           "hovertext": [
            "Canada",
            "France",
            "Germany",
            "Poland",
            "United Kingdom",
            "United States"
           ],
           "ids": [
            "Canada",
            "France",
            "Germany",
            "Poland",
            "United Kingdom",
            "United States"
           ],
           "legendgroup": "",
           "marker": {
            "color": [
             41.995,
             47.088,
             46.051,
             66.792,
             40.736,
             41.406000000000006
            ],
            "coloraxis": "coloraxis",
            "symbol": "circle"
           },
           "mode": "markers",
           "name": "",
           "orientation": "v",
           "showlegend": false,
           "type": "scatter",
           "x": [
            0.00504,
            0.0701,
            0.041,
            0.0571,
            2.36,
            0.0504
           ],
           "xaxis": "x",
           "y": [
            41.995,
            47.088,
            46.051,
            66.792,
            40.736,
            41.406000000000006
           ],
           "yaxis": "y"
          }
         ],
         "name": "1810"
        },
        {
         "data": [
          {
           "hovertemplate": "<b>%{hovertext}</b><br><br>year=1811<br>CO2 Emissions (Metric Tons per Capita)=%{x}<br>Life Expectancy (Years)=%{marker.color}<extra></extra>",
           "hovertext": [
            "Canada",
            "France",
            "Germany",
            "Poland",
            "United Kingdom",
            "United States"
           ],
           "ids": [
            "Canada",
            "France",
            "Germany",
            "Poland",
            "United Kingdom",
            "United States"
           ],
           "legendgroup": "",
           "marker": {
            "color": [
             47.705,
             71.301,
             72.143,
             79.08800000000001,
             79.045,
             79.193
            ],
            "coloraxis": "coloraxis",
            "symbol": "circle"
           },
           "mode": "markers",
           "name": "",
           "orientation": "v",
           "showlegend": false,
           "type": "scatter",
           "x": [
            0.00497,
            0.0676,
            0.0387,
            0.059,
            2.49,
            0.0529
           ],
           "xaxis": "x",
           "y": [
            47.705,
            71.301,
            72.143,
            79.08800000000001,
            79.045,
            79.193
           ],
           "yaxis": "y"
          }
         ],
         "name": "1811"
        },
        {
         "data": [
          {
           "hovertemplate": "<b>%{hovertext}</b><br><br>year=1812<br>CO2 Emissions (Metric Tons per Capita)=%{x}<br>Life Expectancy (Years)=%{marker.color}<extra></extra>",
           "hovertext": [
            "Canada",
            "France",
            "Germany",
            "Poland",
            "United Kingdom",
            "United States"
           ],
           "ids": [
            "Canada",
            "France",
            "Germany",
            "Poland",
            "United Kingdom",
            "United States"
           ],
           "legendgroup": "",
           "marker": {
            "color": [
             74.62,
             74.69,
             74.29,
             57.678,
             70.553,
             70.759
            ],
            "coloraxis": "coloraxis",
            "symbol": "circle"
           },
           "mode": "markers",
           "name": "",
           "orientation": "v",
           "showlegend": false,
           "type": "scatter",
           "x": [
            0.0049,
            0.0727,
            0.0379,
            0.0452,
            2.55,
            0.056
           ],
           "xaxis": "x",
           "y": [
            74.62,
            74.69,
            74.29,
            57.678,
            70.553,
            70.759
           ],
           "yaxis": "y"
          }
         ],
         "name": "1812"
        },
        {
         "data": [
          {
           "hovertemplate": "<b>%{hovertext}</b><br><br>year=1813<br>CO2 Emissions (Metric Tons per Capita)=%{x}<br>Life Expectancy (Years)=%{marker.color}<extra></extra>",
           "hovertext": [
            "Canada",
            "France",
            "Germany",
            "Poland",
            "United Kingdom",
            "United States"
           ],
           "ids": [
            "Canada",
            "France",
            "Germany",
            "Poland",
            "United Kingdom",
            "United States"
           ],
           "legendgroup": "",
           "marker": {
            "color": [
             68.839,
             51.898,
             53.44,
             69.097,
             47.07899999999999,
             47.293
            ],
            "coloraxis": "coloraxis",
            "symbol": "circle"
           },
           "mode": "markers",
           "name": "",
           "orientation": "v",
           "showlegend": false,
           "type": "scatter",
           "x": [
            0.00483,
            0.067,
            0.0367,
            0.0377,
            2.54,
            0.059
           ],
           "xaxis": "x",
           "y": [
            68.839,
            51.898,
            53.44,
            69.097,
            47.07899999999999,
            47.293
           ],
           "yaxis": "y"
          }
         ],
         "name": "1813"
        },
        {
         "data": [
          {
           "hovertemplate": "<b>%{hovertext}</b><br><br>year=1814<br>CO2 Emissions (Metric Tons per Capita)=%{x}<br>Life Expectancy (Years)=%{marker.color}<extra></extra>",
           "hovertext": [
            "Canada",
            "France",
            "Germany",
            "Poland",
            "United Kingdom",
            "United States"
           ],
           "ids": [
            "Canada",
            "France",
            "Germany",
            "Poland",
            "United Kingdom",
            "United States"
           ],
           "legendgroup": "",
           "marker": {
            "color": [
             43.841,
             61.802,
             70.71,
             46.07899999999999,
             64.074,
             64.329
            ],
            "coloraxis": "coloraxis",
            "symbol": "circle"
           },
           "mode": "markers",
           "name": "",
           "orientation": "v",
           "showlegend": false,
           "type": "scatter",
           "x": [
            0.00475,
            0.0681,
            0.0362,
            0.0495,
            2.56,
            0.0622
           ],
           "xaxis": "x",
           "y": [
            43.841,
            61.802,
            70.71,
            46.07899999999999,
            64.074,
            64.329
           ],
           "yaxis": "y"
          }
         ],
         "name": "1814"
        },
        {
         "data": [
          {
           "hovertemplate": "<b>%{hovertext}</b><br><br>year=1815<br>CO2 Emissions (Metric Tons per Capita)=%{x}<br>Life Expectancy (Years)=%{marker.color}<extra></extra>",
           "hovertext": [
            "Canada",
            "France",
            "Germany",
            "Poland",
            "United Kingdom",
            "United States"
           ],
           "ids": [
            "Canada",
            "France",
            "Germany",
            "Poland",
            "United Kingdom",
            "United States"
           ],
           "legendgroup": "",
           "marker": {
            "color": [
             71.3,
             78.63,
             79.53,
             67.786,
             62.23,
             62.717
            ],
            "coloraxis": "coloraxis",
            "symbol": "circle"
           },
           "mode": "markers",
           "name": "",
           "orientation": "v",
           "showlegend": false,
           "type": "scatter",
           "x": [
            0.00466,
            0.0759,
            0.0419,
            0.0578,
            2.58,
            0.0652
           ],
           "xaxis": "x",
           "y": [
            71.3,
            78.63,
            79.53,
            67.786,
            62.23,
            62.717
           ],
           "yaxis": "y"
          }
         ],
         "name": "1815"
        },
        {
         "data": [
          {
           "hovertemplate": "<b>%{hovertext}</b><br><br>year=1816<br>CO2 Emissions (Metric Tons per Capita)=%{x}<br>Life Expectancy (Years)=%{marker.color}<extra></extra>",
           "hovertext": [
            "Canada",
            "France",
            "Germany",
            "Poland",
            "United Kingdom",
            "United States"
           ],
           "ids": [
            "Canada",
            "France",
            "Germany",
            "Poland",
            "United Kingdom",
            "United States"
           ],
           "legendgroup": "",
           "marker": {
            "color": [
             43.184,
             61.159,
             60.027,
             68.086,
             70.61544438840001,
             70.4648962092
            ],
            "coloraxis": "coloraxis",
            "symbol": "circle"
           },
           "mode": "markers",
           "name": "",
           "orientation": "v",
           "showlegend": false,
           "type": "scatter",
           "x": [
            0.00457,
            0.0807,
            0.0965,
            0.0661,
            2.7,
            0.0704
           ],
           "xaxis": "x",
           "y": [
            43.184,
            61.159,
            60.027,
            68.086,
            70.61544438840001,
            70.4648962092
           ],
           "yaxis": "y"
          }
         ],
         "name": "1816"
        },
        {
         "data": [
          {
           "hovertemplate": "<b>%{hovertext}</b><br><br>year=1817<br>CO2 Emissions (Metric Tons per Capita)=%{x}<br>Life Expectancy (Years)=%{marker.color}<extra></extra>",
           "hovertext": [
            "Canada",
            "France",
            "Germany",
            "Poland",
            "United Kingdom",
            "United States"
           ],
           "ids": [
            "Canada",
            "France",
            "Germany",
            "Poland",
            "United Kingdom",
            "United States"
           ],
           "legendgroup": "",
           "marker": {
            "color": [
             79.969258733,
             55.14,
             57.16,
             63.2365350004,
             70.775,
             71.025
            ],
            "coloraxis": "coloraxis",
            "symbol": "circle"
           },
           "mode": "markers",
           "name": "",
           "orientation": "v",
           "showlegend": false,
           "type": "scatter",
           "x": [
            0.00447,
            0.0856,
            0.136,
            0.0721,
            2.7,
            0.0745
           ],
           "xaxis": "x",
           "y": [
            79.969258733,
            55.14,
            57.16,
            63.2365350004,
            70.775,
            71.025
           ],
           "yaxis": "y"
          }
         ],
         "name": "1817"
        },
        {
         "data": [
          {
           "hovertemplate": "<b>%{hovertext}</b><br><br>year=1818<br>CO2 Emissions (Metric Tons per Capita)=%{x}<br>Life Expectancy (Years)=%{marker.color}<extra></extra>",
           "hovertext": [
            "Canada",
            "France",
            "Germany",
            "Poland",
            "United Kingdom",
            "United States"
           ],
           "ids": [
            "Canada",
            "France",
            "Germany",
            "Poland",
            "United Kingdom",
            "United States"
           ],
           "legendgroup": "",
           "marker": {
            "color": [
             70.34100000000001,
             69.308,
             71.01100000000001,
             76.957,
             68.70100000000001,
             69.082
            ],
            "coloraxis": "coloraxis",
            "symbol": "circle"
           },
           "mode": "markers",
           "name": "",
           "orientation": "v",
           "showlegend": false,
           "type": "scatter",
           "x": [
            0.00438,
            0.0762,
            0.141,
            0.089,
            2.67,
            0.0791
           ],
           "xaxis": "x",
           "y": [
            70.34100000000001,
            69.308,
            71.01100000000001,
            76.957,
            68.70100000000001,
            69.082
           ],
           "yaxis": "y"
          }
         ],
         "name": "1818"
        },
        {
         "data": [
          {
           "hovertemplate": "<b>%{hovertext}</b><br><br>year=1819<br>CO2 Emissions (Metric Tons per Capita)=%{x}<br>Life Expectancy (Years)=%{marker.color}<extra></extra>",
           "hovertext": [
            "Austria",
            "Canada",
            "France",
            "Germany",
            "Poland",
            "United Kingdom",
            "United States"
           ],
           "ids": [
            "Austria",
            "Canada",
            "France",
            "Germany",
            "Poland",
            "United Kingdom",
            "United States"
           ],
           "legendgroup": "",
           "marker": {
            "color": [
             36.933,
             51.033,
             44.209,
             44.85,
             63.033,
             55.805,
             56.13
            ],
            "coloraxis": "coloraxis",
            "symbol": "circle"
           },
           "mode": "markers",
           "name": "",
           "orientation": "v",
           "showlegend": false,
           "type": "scatter",
           "x": [
            0.0749,
            0.00427,
            0.0815,
            0.13,
            0.0727,
            2.65,
            0.0754
           ],
           "xaxis": "x",
           "y": [
            36.933,
            51.033,
            44.209,
            44.85,
            63.033,
            55.805,
            56.13
           ],
           "yaxis": "y"
          }
         ],
         "name": "1819"
        },
        {
         "data": [
          {
           "hovertemplate": "<b>%{hovertext}</b><br><br>year=1820<br>CO2 Emissions (Metric Tons per Capita)=%{x}<br>Life Expectancy (Years)=%{marker.color}<extra></extra>",
           "hovertext": [
            "Austria",
            "Canada",
            "France",
            "Germany",
            "Poland",
            "United Kingdom",
            "United States"
           ],
           "ids": [
            "Austria",
            "Canada",
            "France",
            "Germany",
            "Poland",
            "United Kingdom",
            "United States"
           ],
           "legendgroup": "",
           "marker": {
            "color": [
             63.102,
             62.828,
             73.817,
             70.765,
             69.41,
             78.09,
             77.23
            ],
            "coloraxis": "coloraxis",
            "symbol": "circle"
           },
           "mode": "markers",
           "name": "",
           "orientation": "v",
           "showlegend": false,
           "type": "scatter",
           "x": [
            0.0984,
            0.00417,
            0.0921,
            0.133,
            0.0712,
            2.62,
            0.0764
           ],
           "xaxis": "x",
           "y": [
            63.102,
            62.828,
            73.817,
            70.765,
            69.41,
            78.09,
            77.23
           ],
           "yaxis": "y"
          }
         ],
         "name": "1820"
        },
        {
         "data": [
          {
           "hovertemplate": "<b>%{hovertext}</b><br><br>year=1821<br>CO2 Emissions (Metric Tons per Capita)=%{x}<br>Life Expectancy (Years)=%{marker.color}<extra></extra>",
           "hovertext": [
            "Austria",
            "Canada",
            "France",
            "Germany",
            "Poland",
            "United Kingdom",
            "United States"
           ],
           "ids": [
            "Austria",
            "Canada",
            "France",
            "Germany",
            "Poland",
            "United Kingdom",
            "United States"
           ],
           "legendgroup": "",
           "marker": {
            "color": [
             81.43,
             53.159,
             64.056,
             65.369,
             53.117,
             60.951,
             60.507
            ],
            "coloraxis": "coloraxis",
            "symbol": "circle"
           },
           "mode": "markers",
           "name": "",
           "orientation": "v",
           "showlegend": false,
           "type": "scatter",
           "x": [
            0.106,
            0.00406,
            0.0951,
            0.137,
            0.0784,
            2.61,
            0.078
           ],
           "xaxis": "x",
           "y": [
            81.43,
            53.159,
            64.056,
            65.369,
            53.117,
            60.951,
            60.507
           ],
           "yaxis": "y"
          }
         ],
         "name": "1821"
        },
        {
         "data": [
          {
           "hovertemplate": "<b>%{hovertext}</b><br><br>year=1822<br>CO2 Emissions (Metric Tons per Capita)=%{x}<br>Life Expectancy (Years)=%{marker.color}<extra></extra>",
           "hovertext": [
            "Austria",
            "Canada",
            "France",
            "Germany",
            "Poland",
            "United Kingdom",
            "United States"
           ],
           "ids": [
            "Austria",
            "Canada",
            "France",
            "Germany",
            "Poland",
            "United Kingdom",
            "United States"
           ],
           "legendgroup": "",
           "marker": {
            "color": [
             71.053,
             70.93,
             76.08,
             77.24,
             72.85,
             68.259,
             68.52199999999999
            ],
            "coloraxis": "coloraxis",
            "symbol": "circle"
           },
           "mode": "markers",
           "name": "",
           "orientation": "v",
           "showlegend": false,
           "type": "scatter",
           "x": [
            0.107,
            0.00395,
            0.0996,
            0.14,
            0.0855,
            2.67,
            0.0795
           ],
           "xaxis": "x",
           "y": [
            71.053,
            70.93,
            76.08,
            77.24,
            72.85,
            68.259,
            68.52199999999999
           ],
           "yaxis": "y"
          }
         ],
         "name": "1822"
        },
        {
         "data": [
          {
           "hovertemplate": "<b>%{hovertext}</b><br><br>year=1823<br>CO2 Emissions (Metric Tons per Capita)=%{x}<br>Life Expectancy (Years)=%{marker.color}<extra></extra>",
           "hovertext": [
            "Austria",
            "Canada",
            "France",
            "Germany",
            "Poland",
            "United Kingdom",
            "United States"
           ],
           "ids": [
            "Austria",
            "Canada",
            "France",
            "Germany",
            "Poland",
            "United Kingdom",
            "United States"
           ],
           "legendgroup": "",
           "marker": {
            "color": [
             70.809,
             72.89699999999999,
             79.01,
             79.5,
             61.055,
             66.39399999999999,
             66.536
            ],
            "coloraxis": "coloraxis",
            "symbol": "circle"
           },
           "mode": "markers",
           "name": "",
           "orientation": "v",
           "showlegend": false,
           "type": "scatter",
           "x": [
            0.102,
            0.00384,
            0.0991,
            0.154,
            0.114,
            2.77,
            0.0807
           ],
           "xaxis": "x",
           "y": [
            70.809,
            72.89699999999999,
            79.01,
            79.5,
            61.055,
            66.39399999999999,
            66.536
           ],
           "yaxis": "y"
          }
         ],
         "name": "1823"
        },
        {
         "data": [
          {
           "hovertemplate": "<b>%{hovertext}</b><br><br>year=1824<br>CO2 Emissions (Metric Tons per Capita)=%{x}<br>Life Expectancy (Years)=%{marker.color}<extra></extra>",
           "hovertext": [
            "Austria",
            "Canada",
            "France",
            "Germany",
            "Poland",
            "United Kingdom",
            "United States"
           ],
           "ids": [
            "Austria",
            "Canada",
            "France",
            "Germany",
            "Poland",
            "United Kingdom",
            "United States"
           ],
           "legendgroup": "",
           "marker": {
            "color": [
             58.324,
             52.98,
             56.364,
             58.442,
             68.738,
             78.223,
             78.749
            ],
            "coloraxis": "coloraxis",
            "symbol": "circle"
           },
           "mode": "markers",
           "name": "",
           "orientation": "v",
           "showlegend": false,
           "type": "scatter",
           "x": [
            0.116,
            0.00373,
            0.109,
            0.123,
            0.118,
            2.87,
            0.0886
           ],
           "xaxis": "x",
           "y": [
            58.324,
            52.98,
            56.364,
            58.442,
            68.738,
            78.223,
            78.749
           ],
           "yaxis": "y"
          }
         ],
         "name": "1824"
        },
        {
         "data": [
          {
           "hovertemplate": "<b>%{hovertext}</b><br><br>year=1825<br>CO2 Emissions (Metric Tons per Capita)=%{x}<br>Life Expectancy (Years)=%{marker.color}<extra></extra>",
           "hovertext": [
            "Austria",
            "Canada",
            "France",
            "Germany",
            "Poland",
            "United Kingdom",
            "United States"
           ],
           "ids": [
            "Austria",
            "Canada",
            "France",
            "Germany",
            "Poland",
            "United Kingdom",
            "United States"
           ],
           "legendgroup": "",
           "marker": {
            "color": [
             67.08,
             72.597,
             61.364,
             62.304,
             61.68899999999999,
             68.6,
             69.21
            ],
            "coloraxis": "coloraxis",
            "symbol": "circle"
           },
           "mode": "markers",
           "name": "",
           "orientation": "v",
           "showlegend": false,
           "type": "scatter",
           "x": [
            0.117,
            0.00362,
            0.123,
            0.163,
            0.122,
            2.86,
            0.0965
           ],
           "xaxis": "x",
           "y": [
            67.08,
            72.597,
            61.364,
            62.304,
            61.68899999999999,
            68.6,
            69.21
           ],
           "yaxis": "y"
          }
         ],
         "name": "1825"
        },
        {
         "data": [
          {
           "hovertemplate": "<b>%{hovertext}</b><br><br>year=1826<br>CO2 Emissions (Metric Tons per Capita)=%{x}<br>Life Expectancy (Years)=%{marker.color}<extra></extra>",
           "hovertext": [
            "Austria",
            "Canada",
            "France",
            "Germany",
            "Poland",
            "United Kingdom",
            "United States"
           ],
           "ids": [
            "Austria",
            "Canada",
            "France",
            "Germany",
            "Poland",
            "United Kingdom",
            "United States"
           ],
           "legendgroup": "",
           "marker": {
            "color": [
             64.709,
             69.143,
             48.26,
             48.817,
             47.839,
             67.742,
             68.098
            ],
            "coloraxis": "coloraxis",
            "symbol": "circle"
           },
           "mode": "markers",
           "name": "",
           "orientation": "v",
           "showlegend": false,
           "type": "scatter",
           "x": [
            0.132,
            0.0035,
            0.126,
            0.156,
            0.112,
            2.85,
            0.109
           ],
           "xaxis": "x",
           "y": [
            64.709,
            69.143,
            48.26,
            48.817,
            47.839,
            67.742,
            68.098
           ],
           "yaxis": "y"
          }
         ],
         "name": "1826"
        },
        {
         "data": [
          {
           "hovertemplate": "<b>%{hovertext}</b><br><br>year=1827<br>CO2 Emissions (Metric Tons per Capita)=%{x}<br>Life Expectancy (Years)=%{marker.color}<extra></extra>",
           "hovertext": [
            "Austria",
            "Canada",
            "France",
            "Germany",
            "Poland",
            "United Kingdom",
            "United States"
           ],
           "ids": [
            "Austria",
            "Canada",
            "France",
            "Germany",
            "Poland",
            "United Kingdom",
            "United States"
           ],
           "legendgroup": "",
           "marker": {
            "color": [
             74.045,
             70.83,
             71.39,
             71.777,
             73.749,
             68.639,
             68.763
            ],
            "coloraxis": "coloraxis",
            "symbol": "circle"
           },
           "mode": "markers",
           "name": "",
           "orientation": "v",
           "showlegend": false,
           "type": "scatter",
           "x": [
            0.137,
            0.00339,
            0.181,
            0.167,
            0.119,
            2.93,
            0.117
           ],
           "xaxis": "x",
           "y": [
            74.045,
            70.83,
            71.39,
            71.777,
            73.749,
            68.639,
            68.763
           ],
           "yaxis": "y"
          }
         ],
         "name": "1827"
        },
        {
         "data": [
          {
           "hovertemplate": "<b>%{hovertext}</b><br><br>year=1828<br>CO2 Emissions (Metric Tons per Capita)=%{x}<br>Life Expectancy (Years)=%{marker.color}<extra></extra>",
           "hovertext": [
            "Austria",
            "Canada",
            "France",
            "Germany",
            "Poland",
            "United Kingdom",
            "United States"
           ],
           "ids": [
            "Austria",
            "Canada",
            "France",
            "Germany",
            "Poland",
            "United Kingdom",
            "United States"
           ],
           "legendgroup": "",
           "marker": {
            "color": [
             73.017,
             44.771,
             57.782,
             60.256,
             66.73899999999999,
             45.69,
             46.435
            ],
            "coloraxis": "coloraxis",
            "symbol": "circle"
           },
           "mode": "markers",
           "name": "",
           "orientation": "v",
           "showlegend": false,
           "type": "scatter",
           "x": [
            0.131,
            0.00327,
            0.19,
            0.166,
            0.109,
            2.91,
            0.125
           ],
           "xaxis": "x",
           "y": [
            73.017,
            44.771,
            57.782,
            60.256,
            66.73899999999999,
            45.69,
            46.435
           ],
           "yaxis": "y"
          }
         ],
         "name": "1828"
        },
        {
         "data": [
          {
           "hovertemplate": "<b>%{hovertext}</b><br><br>year=1829<br>CO2 Emissions (Metric Tons per Capita)=%{x}<br>Life Expectancy (Years)=%{marker.color}<extra></extra>",
           "hovertext": [
            "Austria",
            "Canada",
            "France",
            "Germany",
            "Norway",
            "Poland",
            "United Kingdom",
            "United States"
           ],
           "ids": [
            "Austria",
            "Canada",
            "France",
            "Germany",
            "Norway",
            "Poland",
            "United Kingdom",
            "United States"
           ],
           "legendgroup": "",
           "marker": {
            "color": [
             61.443000000000005,
             77.564,
             46.84,
             47.665,
             78.873,
             64.926,
             46.077,
             46.648
            ],
            "coloraxis": "coloraxis",
            "symbol": "circle"
           },
           "mode": "markers",
           "name": "",
           "orientation": "v",
           "showlegend": false,
           "type": "scatter",
           "x": [
            0.135,
            0.00316,
            0.184,
            0.131,
            0.00998,
            0.0957,
            2.92,
            0.137
           ],
           "xaxis": "x",
           "y": [
            61.443000000000005,
            77.564,
            46.84,
            47.665,
            78.873,
            64.926,
            46.077,
            46.648
           ],
           "yaxis": "y"
          }
         ],
         "name": "1829"
        },
        {
         "data": [
          {
           "hovertemplate": "<b>%{hovertext}</b><br><br>year=1830<br>CO2 Emissions (Metric Tons per Capita)=%{x}<br>Life Expectancy (Years)=%{marker.color}<extra></extra>",
           "hovertext": [
            "Armenia",
            "Austria",
            "Azerbaijan",
            "Belarus",
            "Belgium",
            "Canada",
            "France",
            "Georgia",
            "Germany",
            "Hungary",
            "Kazakhstan",
            "Kyrgyz Republic",
            "Lithuania",
            "Moldova",
            "Norway",
            "Poland",
            "Russia",
            "Spain",
            "Tajikistan",
            "Turkmenistan",
            "Ukraine",
            "United Kingdom",
            "United States",
            "Uzbekistan"
           ],
           "ids": [
            "Armenia",
            "Austria",
            "Azerbaijan",
            "Belarus",
            "Belgium",
            "Canada",
            "France",
            "Georgia",
            "Germany",
            "Hungary",
            "Kazakhstan",
            "Kyrgyz Republic",
            "Lithuania",
            "Moldova",
            "Norway",
            "Poland",
            "Russia",
            "Spain",
            "Tajikistan",
            "Turkmenistan",
            "Ukraine",
            "United Kingdom",
            "United States",
            "Uzbekistan"
           ],
           "legendgroup": "",
           "marker": {
            "color": [
             54.876000000000005,
             55.986,
             56.476000000000006,
             58.205,
             58.441,
             60.16,
             68.069,
             68.502,
             68.653,
             70.51,
             73.001,
             73.613,
             62.985,
             70.116,
             75.687,
             78.51899999999999,
             59.076,
             67.041,
             71.64,
             74.62899999999999,
             75.36399999999999,
             75.87100000000001,
             76.123,
             76.605
            ],
            "coloraxis": "coloraxis",
            "symbol": "circle"
           },
           "mode": "markers",
           "name": "",
           "orientation": "v",
           "showlegend": false,
           "type": "scatter",
           "x": [
            0.00007,
            0.14,
            0.00032,
            0.00019,
            1.65,
            0.00305,
            0.198,
            0.00007,
            0.171,
            0.0255,
            0.00064,
            0.00011,
            0.00014,
            0.00015,
            0.00657,
            0.0881,
            0.00033,
            0.00028,
            0.00008,
            0.00045,
            0.00028,
            3.66,
            0.155,
            0.00029
           ],
           "xaxis": "x",
           "y": [
            54.876000000000005,
            55.986,
            56.476000000000006,
            58.205,
            58.441,
            60.16,
            68.069,
            68.502,
            68.653,
            70.51,
            73.001,
            73.613,
            62.985,
            70.116,
            75.687,
            78.51899999999999,
            59.076,
            67.041,
            71.64,
            74.62899999999999,
            75.36399999999999,
            75.87100000000001,
            76.123,
            76.605
           ],
           "yaxis": "y"
          }
         ],
         "name": "1830"
        },
        {
         "data": [
          {
           "hovertemplate": "<b>%{hovertext}</b><br><br>year=1831<br>CO2 Emissions (Metric Tons per Capita)=%{x}<br>Life Expectancy (Years)=%{marker.color}<extra></extra>",
           "hovertext": [
            "Armenia",
            "Austria",
            "Azerbaijan",
            "Belarus",
            "Belgium",
            "Canada",
            "France",
            "Georgia",
            "Germany",
            "Hungary",
            "Kazakhstan",
            "Kyrgyz Republic",
            "Lithuania",
            "Moldova",
            "Norway",
            "Poland",
            "Russia",
            "Spain",
            "Tajikistan",
            "Turkmenistan",
            "Ukraine",
            "United Kingdom",
            "United States",
            "Uzbekistan"
           ],
           "ids": [
            "Armenia",
            "Austria",
            "Azerbaijan",
            "Belarus",
            "Belgium",
            "Canada",
            "France",
            "Georgia",
            "Germany",
            "Hungary",
            "Kazakhstan",
            "Kyrgyz Republic",
            "Lithuania",
            "Moldova",
            "Norway",
            "Poland",
            "Russia",
            "Spain",
            "Tajikistan",
            "Turkmenistan",
            "Ukraine",
            "United Kingdom",
            "United States",
            "Uzbekistan"
           ],
           "legendgroup": "",
           "marker": {
            "color": [
             62.971,
             63.843,
             64.225,
             65.281,
             65.369,
             66.884,
             65.209,
             65.03699999999999,
             64.971,
             67.605,
             67.205,
             67.949,
             68.899,
             56.86,
             60.67100000000001,
             63.817,
             65.587,
             71.334,
             73.718,
             74.854,
             74.95100000000001,
             74.645,
             74.396,
             73.875
            ],
            "coloraxis": "coloraxis",
            "symbol": "circle"
           },
           "mode": "markers",
           "name": "",
           "orientation": "v",
           "showlegend": false,
           "type": "scatter",
           "x": [
            0.00008,
            0.135,
            0.00038,
            0.00022,
            1.18,
            0.00294,
            0.182,
            0.00008,
            0.162,
            0.0155,
            0.00076,
            0.00013,
            0.00017,
            0.00017,
            0.00325,
            0.0716,
            0.0004,
            0.00028,
            0.00009,
            0.00053,
            0.00033,
            3.51,
            0.163,
            0.00035
           ],
           "xaxis": "x",
           "y": [
            62.971,
            63.843,
            64.225,
            65.281,
            65.369,
            66.884,
            65.209,
            65.03699999999999,
            64.971,
            67.605,
            67.205,
            67.949,
            68.899,
            56.86,
            60.67100000000001,
            63.817,
            65.587,
            71.334,
            73.718,
            74.854,
            74.95100000000001,
            74.645,
            74.396,
            73.875
           ],
           "yaxis": "y"
          }
         ],
         "name": "1831"
        },
        {
         "data": [
          {
           "hovertemplate": "<b>%{hovertext}</b><br><br>year=1832<br>CO2 Emissions (Metric Tons per Capita)=%{x}<br>Life Expectancy (Years)=%{marker.color}<extra></extra>",
           "hovertext": [
            "Armenia",
            "Austria",
            "Azerbaijan",
            "Belarus",
            "Belgium",
            "Canada",
            "France",
            "Georgia",
            "Germany",
            "Hungary",
            "Kazakhstan",
            "Kyrgyz Republic",
            "Lithuania",
            "Moldova",
            "Poland",
            "Russia",
            "Spain",
            "Tajikistan",
            "Turkmenistan",
            "Ukraine",
            "United Kingdom",
            "United States",
            "Uzbekistan"
           ],
           "ids": [
            "Armenia",
            "Austria",
            "Azerbaijan",
            "Belarus",
            "Belgium",
            "Canada",
            "France",
            "Georgia",
            "Germany",
            "Hungary",
            "Kazakhstan",
            "Kyrgyz Republic",
            "Lithuania",
            "Moldova",
            "Poland",
            "Russia",
            "Spain",
            "Tajikistan",
            "Turkmenistan",
            "Ukraine",
            "United Kingdom",
            "United States",
            "Uzbekistan"
           ],
           "legendgroup": "",
           "marker": {
            "color": [
             50.592,
             51.413,
             51.808,
             53.684,
             54.075,
             63.56100000000001,
             37.971,
             39.247,
             39.707,
             42.948,
             44.881,
             46.747,
             47.894,
             50.43600000000001,
             60.137,
             61.446000000000005,
             49.852,
             55.75,
             59.914,
             60.916,
             61.302,
             61.344,
             61.048
            ],
            "coloraxis": "coloraxis",
            "symbol": "circle"
           },
           "mode": "markers",
           "name": "",
           "orientation": "v",
           "showlegend": false,
           "type": "scatter",
           "x": [
            0.00006,
            0.144,
            0.00025,
            0.00015,
            1.24,
            0.00283,
            0.199,
            0.00006,
            0.12,
            0.0194,
            0.0005,
            0.00008,
            0.00011,
            0.00012,
            0.0907,
            0.00026,
            0.00028,
            0.00006,
            0.00035,
            0.00022,
            3.46,
            0.212,
            0.00023
           ],
           "xaxis": "x",
           "y": [
            50.592,
            51.413,
            51.808,
            53.684,
            54.075,
            63.56100000000001,
            37.971,
            39.247,
            39.707,
            42.948,
            44.881,
            46.747,
            47.894,
            50.43600000000001,
            60.137,
            61.446000000000005,
            49.852,
            55.75,
            59.914,
            60.916,
            61.302,
            61.344,
            61.048
           ],
           "yaxis": "y"
          }
         ],
         "name": "1832"
        },
        {
         "data": [
          {
           "hovertemplate": "<b>%{hovertext}</b><br><br>year=1833<br>CO2 Emissions (Metric Tons per Capita)=%{x}<br>Life Expectancy (Years)=%{marker.color}<extra></extra>",
           "hovertext": [
            "Armenia",
            "Austria",
            "Azerbaijan",
            "Belarus",
            "Belgium",
            "Canada",
            "France",
            "Georgia",
            "Germany",
            "Hungary",
            "Kazakhstan",
            "Kyrgyz Republic",
            "Lithuania",
            "Moldova",
            "Poland",
            "Russia",
            "Spain",
            "Tajikistan",
            "Turkmenistan",
            "Ukraine",
            "United Kingdom",
            "United States",
            "Uzbekistan"
           ],
           "ids": [
            "Armenia",
            "Austria",
            "Azerbaijan",
            "Belarus",
            "Belgium",
            "Canada",
            "France",
            "Georgia",
            "Germany",
            "Hungary",
            "Kazakhstan",
            "Kyrgyz Republic",
            "Lithuania",
            "Moldova",
            "Poland",
            "Russia",
            "Spain",
            "Tajikistan",
            "Turkmenistan",
            "Ukraine",
            "United Kingdom",
            "United States",
            "Uzbekistan"
           ],
           "legendgroup": "",
           "marker": {
            "color": [
             58.861,
             61.543,
             62.594,
             40.469,
             40.863,
             47.653,
             66.66,
             67.98899999999999,
             68.41,
             74.2,
             76.38,
             76.87,
             78.03,
             80.77,
             74.32600000000001,
             74.536,
             75.98100000000001,
             61.334,
             65.814,
             67.092,
             67.891,
             68.27600000000001,
             69.015
            ],
            "coloraxis": "coloraxis",
            "symbol": "circle"
           },
           "mode": "markers",
           "name": "",
           "orientation": "v",
           "showlegend": false,
           "type": "scatter",
           "x": [
            0.00007,
            0.119,
            0.00031,
            0.00018,
            1.19,
            0.00273,
            0.215,
            0.00007,
            0.151,
            0.0145,
            0.00062,
            0.0001,
            0.00014,
            0.00014,
            0.0936,
            0.00032,
            0.00028,
            0.00008,
            0.00044,
            0.00027,
            3.41,
            0.241,
            0.00028
           ],
           "xaxis": "x",
           "y": [
            58.861,
            61.543,
            62.594,
            40.469,
            40.863,
            47.653,
            66.66,
            67.98899999999999,
            68.41,
            74.2,
            76.38,
            76.87,
            78.03,
            80.77,
            74.32600000000001,
            74.536,
            75.98100000000001,
            61.334,
            65.814,
            67.092,
            67.891,
            68.27600000000001,
            69.015
           ],
           "yaxis": "y"
          }
         ],
         "name": "1833"
        },
        {
         "data": [
          {
           "hovertemplate": "<b>%{hovertext}</b><br><br>year=1834<br>CO2 Emissions (Metric Tons per Capita)=%{x}<br>Life Expectancy (Years)=%{marker.color}<extra></extra>",
           "hovertext": [
            "Austria",
            "Belgium",
            "Canada",
            "France",
            "Germany",
            "Hungary",
            "Poland",
            "Spain",
            "Sweden",
            "United Kingdom",
            "United States"
           ],
           "ids": [
            "Austria",
            "Belgium",
            "Canada",
            "France",
            "Germany",
            "Hungary",
            "Poland",
            "Spain",
            "Sweden",
            "United Kingdom",
            "United States"
           ],
           "legendgroup": "",
           "marker": {
            "color": [
             73.70100000000001,
             75.259,
             71.89,
             78.91,
             79.79899999999999,
             50.304,
             38.445,
             49.987,
             55.327,
             42.949,
             43.407
            ],
            "coloraxis": "coloraxis",
            "symbol": "circle"
           },
           "mode": "markers",
           "name": "",
           "orientation": "v",
           "showlegend": false,
           "type": "scatter",
           "x": [
            0.163,
            1.14,
            0.00263,
            0.264,
            0.151,
            0.0152,
            0.0976,
            0.00027,
            0.0111,
            3.37,
            0.224
           ],
           "xaxis": "x",
           "y": [
            73.70100000000001,
            75.259,
            71.89,
            78.91,
            79.79899999999999,
            50.304,
            38.445,
            49.987,
            55.327,
            42.949,
            43.407
           ],
           "yaxis": "y"
          }
         ],
         "name": "1834"
        },
        {
         "data": [
          {
           "hovertemplate": "<b>%{hovertext}</b><br><br>year=1835<br>CO2 Emissions (Metric Tons per Capita)=%{x}<br>Life Expectancy (Years)=%{marker.color}<extra></extra>",
           "hovertext": [
            "Austria",
            "Belgium",
            "Canada",
            "France",
            "Germany",
            "Hungary",
            "Norway",
            "Poland",
            "Spain",
            "United Kingdom",
            "United States"
           ],
           "ids": [
            "Austria",
            "Belgium",
            "Canada",
            "France",
            "Germany",
            "Hungary",
            "Norway",
            "Poland",
            "Spain",
            "United Kingdom",
            "United States"
           ],
           "legendgroup": "",
           "marker": {
            "color": [
             46.077,
             46.629,
             73.61,
             77.28,
             78.32,
             80.61,
             75.721,
             53.482,
             61.435,
             63.705,
             64.146
            ],
            "coloraxis": "coloraxis",
            "symbol": "circle"
           },
           "mode": "markers",
           "name": "",
           "orientation": "v",
           "showlegend": false,
           "type": "scatter",
           "x": [
            0.175,
            1.22,
            0.00253,
            0.272,
            0.167,
            0.0111,
            0.0124,
            0.104,
            0.00027,
            3.32,
            0.278
           ],
           "xaxis": "x",
           "y": [
            46.077,
            46.629,
            73.61,
            77.28,
            78.32,
            80.61,
            75.721,
            53.482,
            61.435,
            63.705,
            64.146
           ],
           "yaxis": "y"
          }
         ],
         "name": "1835"
        },
        {
         "data": [
          {
           "hovertemplate": "<b>%{hovertext}</b><br><br>year=1836<br>CO2 Emissions (Metric Tons per Capita)=%{x}<br>Life Expectancy (Years)=%{marker.color}<extra></extra>",
           "hovertext": [
            "Austria",
            "Belgium",
            "Canada",
            "France",
            "Germany",
            "Hungary",
            "Norway",
            "Poland",
            "Spain",
            "United Kingdom",
            "United States"
           ],
           "ids": [
            "Austria",
            "Belgium",
            "Canada",
            "France",
            "Germany",
            "Hungary",
            "Norway",
            "Poland",
            "Spain",
            "United Kingdom",
            "United States"
           ],
           "legendgroup": "",
           "marker": {
            "color": [
             71.743,
             73.455,
             76.146,
             54.68899999999999,
             55.283,
             58.426,
             70.612,
             72.181,
             61.832,
             73.312,
             73.609
            ],
            "coloraxis": "coloraxis",
            "symbol": "circle"
           },
           "mode": "markers",
           "name": "",
           "orientation": "v",
           "showlegend": false,
           "type": "scatter",
           "x": [
            0.185,
            1.42,
            0.00244,
            0.311,
            0.174,
            0.0181,
            0.0153,
            0.117,
            0.00162,
            3.84,
            0.296
           ],
           "xaxis": "x",
           "y": [
            71.743,
            73.455,
            76.146,
            54.68899999999999,
            55.283,
            58.426,
            70.612,
            72.181,
            61.832,
            73.312,
            73.609
           ],
           "yaxis": "y"
          }
         ],
         "name": "1836"
        },
        {
         "data": [
          {
           "hovertemplate": "<b>%{hovertext}</b><br><br>year=1837<br>CO2 Emissions (Metric Tons per Capita)=%{x}<br>Life Expectancy (Years)=%{marker.color}<extra></extra>",
           "hovertext": [
            "Austria",
            "Belgium",
            "Canada",
            "France",
            "Germany",
            "Hungary",
            "Norway",
            "Poland",
            "Spain",
            "United Kingdom",
            "United States"
           ],
           "ids": [
            "Austria",
            "Belgium",
            "Canada",
            "France",
            "Germany",
            "Hungary",
            "Norway",
            "Poland",
            "Spain",
            "United Kingdom",
            "United States"
           ],
           "legendgroup": "",
           "marker": {
            "color": [
             61.681,
             63.442,
             66.476,
             70.67,
             71.26,
             70.45,
             75.76,
             78.32,
             73.039,
             75.828,
             76.2
            ],
            "coloraxis": "coloraxis",
            "symbol": "circle"
           },
           "mode": "markers",
           "name": "",
           "orientation": "v",
           "showlegend": false,
           "type": "scatter",
           "x": [
            0.193,
            1.51,
            0.00235,
            0.33,
            0.197,
            0.0148,
            0.0212,
            0.125,
            0.00268,
            3.67,
            0.323
           ],
           "xaxis": "x",
           "y": [
            61.681,
            63.442,
            66.476,
            70.67,
            71.26,
            70.45,
            75.76,
            78.32,
            73.039,
            75.828,
            76.2
           ],
           "yaxis": "y"
          }
         ],
         "name": "1837"
        },
        {
         "data": [
          {
           "hovertemplate": "<b>%{hovertext}</b><br><br>year=1838<br>CO2 Emissions (Metric Tons per Capita)=%{x}<br>Life Expectancy (Years)=%{marker.color}<extra></extra>",
           "hovertext": [
            "Austria",
            "Belgium",
            "Canada",
            "France",
            "Germany",
            "Hungary",
            "Norway",
            "Poland",
            "Spain",
            "United Kingdom",
            "United States"
           ],
           "ids": [
            "Austria",
            "Belgium",
            "Canada",
            "France",
            "Germany",
            "Hungary",
            "Norway",
            "Poland",
            "Spain",
            "United Kingdom",
            "United States"
           ],
           "legendgroup": "",
           "marker": {
            "color": [
             67.708,
             71.305,
             75.21600000000001,
             62.41,
             64.887,
             69.87,
             69.587,
             69.58,
             69.3,
             67.98,
             65.24
            ],
            "coloraxis": "coloraxis",
            "symbol": "circle"
           },
           "mode": "markers",
           "name": "",
           "orientation": "v",
           "showlegend": false,
           "type": "scatter",
           "x": [
            0.231,
            1.52,
            0.00227,
            0.344,
            0.218,
            0.0132,
            0.0419,
            0.133,
            0.00186,
            3.73,
            0.297
           ],
           "xaxis": "x",
           "y": [
            67.708,
            71.305,
            75.21600000000001,
            62.41,
            64.887,
            69.87,
            69.587,
            69.58,
            69.3,
            67.98,
            65.24
           ],
           "yaxis": "y"
          }
         ],
         "name": "1838"
        },
        {
         "data": [
          {
           "hovertemplate": "<b>%{hovertext}</b><br><br>year=1839<br>CO2 Emissions (Metric Tons per Capita)=%{x}<br>Life Expectancy (Years)=%{marker.color}<extra></extra>",
           "hovertext": [
            "Austria",
            "Belgium",
            "Canada",
            "France",
            "Germany",
            "Hungary",
            "Norway",
            "Poland",
            "Spain",
            "Sweden",
            "United Kingdom",
            "United States"
           ],
           "ids": [
            "Austria",
            "Belgium",
            "Canada",
            "France",
            "Germany",
            "Hungary",
            "Norway",
            "Poland",
            "Spain",
            "Sweden",
            "United Kingdom",
            "United States"
           ],
           "legendgroup": "",
           "marker": {
            "color": [
             67.764,
             44.165,
             46.666,
             62.99,
             60.602,
             66.02,
             66.935,
             69.76,
             72.038,
             53.27,
             61.773,
             62.265
            ],
            "coloraxis": "coloraxis",
            "symbol": "circle"
           },
           "mode": "markers",
           "name": "",
           "orientation": "v",
           "showlegend": false,
           "type": "scatter",
           "x": [
            0.286,
            1.66,
            0.00218,
            0.334,
            0.229,
            0.0292,
            0.0326,
            0.14,
            0.00344,
            0.0142,
            3.79,
            0.317
           ],
           "xaxis": "x",
           "y": [
            67.764,
            44.165,
            46.666,
            62.99,
            60.602,
            66.02,
            66.935,
            69.76,
            72.038,
            53.27,
            61.773,
            62.265
           ],
           "yaxis": "y"
          }
         ],
         "name": "1839"
        },
        {
         "data": [
          {
           "hovertemplate": "<b>%{hovertext}</b><br><br>year=1840<br>CO2 Emissions (Metric Tons per Capita)=%{x}<br>Life Expectancy (Years)=%{marker.color}<extra></extra>",
           "hovertext": [
            "Austria",
            "Belgium",
            "Canada",
            "France",
            "Germany",
            "Hungary",
            "Norway",
            "Poland",
            "Spain",
            "Sweden",
            "United Kingdom",
            "United States"
           ],
           "ids": [
            "Austria",
            "Belgium",
            "Canada",
            "France",
            "Germany",
            "Hungary",
            "Norway",
            "Poland",
            "Spain",
            "Sweden",
            "United Kingdom",
            "United States"
           ],
           "legendgroup": "",
           "marker": {
            "color": [
             70.265,
             72.283,
             58.389,
             64.023,
             65.26100000000001,
             49.883,
             39.227,
             48.944,
             58.219,
             62.653,
             69.305,
             69.467
            ],
            "coloraxis": "coloraxis",
            "symbol": "circle"
           },
           "mode": "markers",
           "name": "",
           "orientation": "v",
           "showlegend": false,
           "type": "scatter",
           "x": [
            0.314,
            1.89,
            0.0021,
            0.339,
            0.296,
            0.0283,
            0.0351,
            0.163,
            0.00263,
            0.0129,
            3.91,
            0.328
           ],
           "xaxis": "x",
           "y": [
            70.265,
            72.283,
            58.389,
            64.023,
            65.26100000000001,
            49.883,
            39.227,
            48.944,
            58.219,
            62.653,
            69.305,
            69.467
           ],
           "yaxis": "y"
          }
         ],
         "name": "1840"
        },
        {
         "data": [
          {
           "hovertemplate": "<b>%{hovertext}</b><br><br>year=1841<br>CO2 Emissions (Metric Tons per Capita)=%{x}<br>Life Expectancy (Years)=%{marker.color}<extra></extra>",
           "hovertext": [
            "Austria",
            "Belgium",
            "Canada",
            "France",
            "Germany",
            "Hungary",
            "Norway",
            "Poland",
            "Spain",
            "Sweden",
            "United Kingdom",
            "United States"
           ],
           "ids": [
            "Austria",
            "Belgium",
            "Canada",
            "France",
            "Germany",
            "Hungary",
            "Norway",
            "Poland",
            "Spain",
            "Sweden",
            "United Kingdom",
            "United States"
           ],
           "legendgroup": "",
           "marker": {
            "color": [
             71.836,
             72.309,
             64.023,
             70.893,
             71.609,
             72.598,
             45.338,
             68.859,
             76.98899999999999,
             78.666,
             70.5,
             69.81
            ],
            "coloraxis": "coloraxis",
            "symbol": "circle"
           },
           "mode": "markers",
           "name": "",
           "orientation": "v",
           "showlegend": false,
           "type": "scatter",
           "x": [
            0.352,
            1.79,
            0.00202,
            0.395,
            0.305,
            0.0296,
            0.0463,
            0.176,
            0.00731,
            0.0128,
            3.92,
            0.337
           ],
           "xaxis": "x",
           "y": [
            71.836,
            72.309,
            64.023,
            70.893,
            71.609,
            72.598,
            45.338,
            68.859,
            76.98899999999999,
            78.666,
            70.5,
            69.81
           ],
           "yaxis": "y"
          }
         ],
         "name": "1841"
        },
        {
         "data": [
          {
           "hovertemplate": "<b>%{hovertext}</b><br><br>year=1842<br>CO2 Emissions (Metric Tons per Capita)=%{x}<br>Life Expectancy (Years)=%{marker.color}<extra></extra>",
           "hovertext": [
            "Austria",
            "Belgium",
            "Canada",
            "France",
            "Germany",
            "Hungary",
            "Norway",
            "Poland",
            "Spain",
            "Sweden",
            "United Kingdom",
            "United States"
           ],
           "ids": [
            "Austria",
            "Belgium",
            "Canada",
            "France",
            "Germany",
            "Hungary",
            "Norway",
            "Poland",
            "Spain",
            "Sweden",
            "United Kingdom",
            "United States"
           ],
           "legendgroup": "",
           "marker": {
            "color": [
             71.08,
             72.36,
             74.88,
             72.25,
             73.5,
             76.38,
             65.079,
             38.579,
             46.185,
             45.749,
             53,
             50
            ],
            "coloraxis": "coloraxis",
            "symbol": "circle"
           },
           "mode": "markers",
           "name": "",
           "orientation": "v",
           "showlegend": false,
           "type": "scatter",
           "x": [
            0.387,
            1.85,
            0.00195,
            0.414,
            0.345,
            0.0173,
            0.0573,
            0.186,
            0.0101,
            0.0253,
            4.05,
            0.364
           ],
           "xaxis": "x",
           "y": [
            71.08,
            72.36,
            74.88,
            72.25,
            73.5,
            76.38,
            65.079,
            38.579,
            46.185,
            45.749,
            53,
            50
           ],
           "yaxis": "y"
          }
         ],
         "name": "1842"
        },
        {
         "data": [
          {
           "hovertemplate": "<b>%{hovertext}</b><br><br>year=1843<br>CO2 Emissions (Metric Tons per Capita)=%{x}<br>Life Expectancy (Years)=%{marker.color}<extra></extra>",
           "hovertext": [
            "Austria",
            "Belgium",
            "Canada",
            "Denmark",
            "France",
            "Germany",
            "Hungary",
            "Norway",
            "Poland",
            "Spain",
            "Sweden",
            "United Kingdom",
            "United States"
           ],
           "ids": [
            "Austria",
            "Belgium",
            "Canada",
            "Denmark",
            "France",
            "Germany",
            "Hungary",
            "Norway",
            "Poland",
            "Spain",
            "Sweden",
            "United Kingdom",
            "United States"
           ],
           "legendgroup": "",
           "marker": {
            "color": [
             56.37,
             60.409,
             55.892,
             34.21,
             38.857,
             39.674,
             45.615,
             78.26,
             80.94,
             66.893,
             69.108,
             72.51,
             73.04
            ],
            "coloraxis": "coloraxis",
            "symbol": "circle"
           },
           "mode": "markers",
           "name": "",
           "orientation": "v",
           "showlegend": false,
           "type": "scatter",
           "x": [
            0.335,
            1.7,
            0.00188,
            0.0965,
            0.412,
            0.323,
            0.0179,
            0.0482,
            0.182,
            0.0121,
            0.0182,
            4.19,
            0.396
           ],
           "xaxis": "x",
           "y": [
            56.37,
            60.409,
            55.892,
            34.21,
            38.857,
            39.674,
            45.615,
            78.26,
            80.94,
            66.893,
            69.108,
            72.51,
            73.04
           ],
           "yaxis": "y"
          }
         ],
         "name": "1843"
        },
        {
         "data": [
          {
           "hovertemplate": "<b>%{hovertext}</b><br><br>year=1844<br>CO2 Emissions (Metric Tons per Capita)=%{x}<br>Life Expectancy (Years)=%{marker.color}<extra></extra>",
           "hovertext": [
            "Austria",
            "Belgium",
            "Canada",
            "Denmark",
            "France",
            "Germany",
            "Hungary",
            "Norway",
            "Poland",
            "Spain",
            "Sweden",
            "United Kingdom",
            "United States"
           ],
           "ids": [
            "Austria",
            "Belgium",
            "Canada",
            "Denmark",
            "France",
            "Germany",
            "Hungary",
            "Norway",
            "Poland",
            "Spain",
            "Sweden",
            "United Kingdom",
            "United States"
           ],
           "legendgroup": "",
           "marker": {
            "color": [
             52.57899999999999,
             54.057,
             55.887,
             60.986,
             63.568000000000005,
             64.571,
             66.90100000000001,
             58.94,
             51.828,
             74.15,
             75.44,
             78.86,
             78.94
            ],
            "coloraxis": "coloraxis",
            "symbol": "circle"
           },
           "mode": "markers",
           "name": "",
           "orientation": "v",
           "showlegend": false,
           "type": "scatter",
           "x": [
            0.418,
            1.85,
            0.00181,
            0.111,
            0.431,
            0.339,
            0.0378,
            0.0505,
            0.192,
            0.0141,
            0.0304,
            4.36,
            0.461
           ],
           "xaxis": "x",
           "y": [
            52.57899999999999,
            54.057,
            55.887,
            60.986,
            63.568000000000005,
            64.571,
            66.90100000000001,
            58.94,
            51.828,
            74.15,
            75.44,
            78.86,
            78.94
           ],
           "yaxis": "y"
          }
         ],
         "name": "1844"
        },
        {
         "data": [
          {
           "hovertemplate": "<b>%{hovertext}</b><br><br>year=1845<br>CO2 Emissions (Metric Tons per Capita)=%{x}<br>Life Expectancy (Years)=%{marker.color}<extra></extra>",
           "hovertext": [
            "Austria",
            "Belgium",
            "Canada",
            "Denmark",
            "France",
            "Germany",
            "Hungary",
            "Norway",
            "Poland",
            "Spain",
            "Sweden",
            "United Kingdom",
            "United States"
           ],
           "ids": [
            "Austria",
            "Belgium",
            "Canada",
            "Denmark",
            "France",
            "Germany",
            "Hungary",
            "Norway",
            "Poland",
            "Spain",
            "Sweden",
            "United Kingdom",
            "United States"
           ],
           "legendgroup": "",
           "marker": {
            "color": [
             81.818,
             73.14,
             76.82,
             79.99,
             82.604,
             56.976000000000006,
             64.045,
             71.5,
             73.76,
             79.15,
             59.79600000000001,
             63.50899999999999,
             63.498000000000005
            ],
            "coloraxis": "coloraxis",
            "symbol": "circle"
           },
           "mode": "markers",
           "name": "",
           "orientation": "v",
           "showlegend": false,
           "type": "scatter",
           "x": [
            0.469,
            1.93,
            0.00175,
            0.146,
            0.501,
            0.39,
            0.0177,
            0.0749,
            0.222,
            0.0191,
            0.0268,
            4.62,
            0.539
           ],
           "xaxis": "x",
           "y": [
            81.818,
            73.14,
            76.82,
            79.99,
            82.604,
            56.976000000000006,
            64.045,
            71.5,
            73.76,
            79.15,
            59.79600000000001,
            63.50899999999999,
            63.498000000000005
           ],
           "yaxis": "y"
          }
         ],
         "name": "1845"
        },
        {
         "data": [
          {
           "hovertemplate": "<b>%{hovertext}</b><br><br>year=1846<br>CO2 Emissions (Metric Tons per Capita)=%{x}<br>Life Expectancy (Years)=%{marker.color}<extra></extra>",
           "hovertext": [
            "Austria",
            "Belgium",
            "Canada",
            "Denmark",
            "France",
            "Germany",
            "Hungary",
            "Netherlands",
            "Norway",
            "Poland",
            "Spain",
            "Sweden",
            "United Kingdom",
            "United States"
           ],
           "ids": [
            "Austria",
            "Belgium",
            "Canada",
            "Denmark",
            "France",
            "Germany",
            "Hungary",
            "Netherlands",
            "Norway",
            "Poland",
            "Spain",
            "Sweden",
            "United Kingdom",
            "United States"
           ],
           "legendgroup": "",
           "marker": {
            "color": [
             65.449,
             67.118,
             49.32899999999999,
             49.856,
             53.869,
             58.22,
             59.073,
             36.885,
             39.074,
             38.155,
             61.821000000000005,
             66.502,
             51.246,
             51.799
            ],
            "coloraxis": "coloraxis",
            "symbol": "circle"
           },
           "mode": "markers",
           "name": "",
           "orientation": "v",
           "showlegend": false,
           "type": "scatter",
           "x": [
            0.548,
            2.09,
            0.0118,
            0.157,
            0.519,
            0.404,
            0.0124,
            0.948,
            0.0741,
            0.232,
            0.0195,
            0.0243,
            4.39,
            0.594
           ],
           "xaxis": "x",
           "y": [
            65.449,
            67.118,
            49.32899999999999,
            49.856,
            53.869,
            58.22,
            59.073,
            36.885,
            39.074,
            38.155,
            61.821000000000005,
            66.502,
            51.246,
            51.799
           ],
           "yaxis": "y"
          }
         ],
         "name": "1846"
        },
        {
         "data": [
          {
           "hovertemplate": "<b>%{hovertext}</b><br><br>year=1847<br>CO2 Emissions (Metric Tons per Capita)=%{x}<br>Life Expectancy (Years)=%{marker.color}<extra></extra>",
           "hovertext": [
            "Austria",
            "Belgium",
            "Canada",
            "Denmark",
            "France",
            "Germany",
            "Hungary",
            "Netherlands",
            "Norway",
            "Poland",
            "Spain",
            "Sweden",
            "United Kingdom",
            "United States"
           ],
           "ids": [
            "Austria",
            "Belgium",
            "Canada",
            "Denmark",
            "France",
            "Germany",
            "Hungary",
            "Netherlands",
            "Norway",
            "Poland",
            "Spain",
            "Sweden",
            "United Kingdom",
            "United States"
           ],
           "legendgroup": "",
           "marker": {
            "color": [
             54.041,
             54.014,
             63.875,
             68.23,
             70.285,
             70.81,
             72.209,
             69.2,
             69.865,
             54.581,
             71.02600000000001,
             73.613,
             51.683,
             52.291
            ],
            "coloraxis": "coloraxis",
            "symbol": "circle"
           },
           "mode": "markers",
           "name": "",
           "orientation": "v",
           "showlegend": false,
           "type": "scatter",
           "x": [
            0.536,
            2.16,
            0.0147,
            0.118,
            0.581,
            0.421,
            0.0327,
            1.27,
            0.0759,
            0.236,
            0.0179,
            0.0241,
            4.7,
            0.683
           ],
           "xaxis": "x",
           "y": [
            54.041,
            54.014,
            63.875,
            68.23,
            70.285,
            70.81,
            72.209,
            69.2,
            69.865,
            54.581,
            71.02600000000001,
            73.613,
            51.683,
            52.291
           ],
           "yaxis": "y"
          }
         ],
         "name": "1847"
        },
        {
         "data": [
          {
           "hovertemplate": "<b>%{hovertext}</b><br><br>year=1848<br>CO2 Emissions (Metric Tons per Capita)=%{x}<br>Life Expectancy (Years)=%{marker.color}<extra></extra>",
           "hovertext": [
            "Austria",
            "Belgium",
            "Canada",
            "Denmark",
            "France",
            "Germany",
            "Hungary",
            "Netherlands",
            "Norway",
            "Poland",
            "Spain",
            "Sweden",
            "United Kingdom",
            "United States"
           ],
           "ids": [
            "Austria",
            "Belgium",
            "Canada",
            "Denmark",
            "France",
            "Germany",
            "Hungary",
            "Netherlands",
            "Norway",
            "Poland",
            "Spain",
            "Sweden",
            "United Kingdom",
            "United States"
           ],
           "legendgroup": "",
           "marker": {
            "color": [
             63.27,
             66.967,
             73.932,
             59.699,
             62.767,
             62.778,
             64.154,
             47.381,
             52.86,
             71.63,
             71.24,
             67.7,
             68.301,
             68.414
            ],
            "coloraxis": "coloraxis",
            "symbol": "circle"
           },
           "mode": "markers",
           "name": "",
           "orientation": "v",
           "showlegend": false,
           "type": "scatter",
           "x": [
            0.597,
            1.9,
            0.0174,
            0.211,
            0.464,
            0.387,
            0,
            1.19,
            0.0965,
            0.235,
            0.02,
            0.0413,
            4.92,
            0.739
           ],
           "xaxis": "x",
           "y": [
            63.27,
            66.967,
            73.932,
            59.699,
            62.767,
            62.778,
            64.154,
            47.381,
            52.86,
            71.63,
            71.24,
            67.7,
            68.301,
            68.414
           ],
           "yaxis": "y"
          }
         ],
         "name": "1848"
        },
        {
         "data": [
          {
           "hovertemplate": "<b>%{hovertext}</b><br><br>year=1849<br>CO2 Emissions (Metric Tons per Capita)=%{x}<br>Life Expectancy (Years)=%{marker.color}<extra></extra>",
           "hovertext": [
            "Austria",
            "Belgium",
            "Canada",
            "Denmark",
            "France",
            "Germany",
            "Hungary",
            "Netherlands",
            "Norway",
            "Poland",
            "Spain",
            "Sweden",
            "United Kingdom",
            "United States"
           ],
           "ids": [
            "Austria",
            "Belgium",
            "Canada",
            "Denmark",
            "France",
            "Germany",
            "Hungary",
            "Netherlands",
            "Norway",
            "Poland",
            "Spain",
            "Sweden",
            "United Kingdom",
            "United States"
           ],
           "legendgroup": "",
           "marker": {
            "color": [
             67.615,
             70.515,
             74.405,
             72.16,
             73.72,
             74.83,
             76.88,
             75.5,
             76.5,
             77.9,
             69.722,
             71.804,
             75.436,
             75.656
            ],
            "coloraxis": "coloraxis",
            "symbol": "circle"
           },
           "mode": "markers",
           "name": "",
           "orientation": "v",
           "showlegend": false,
           "type": "scatter",
           "x": [
            0.575,
            1.99,
            0.0198,
            0.182,
            0.481,
            0.408,
            0,
            1.08,
            0.0768,
            0.23,
            0.0221,
            0.057,
            5.18,
            0.778
           ],
           "xaxis": "x",
           "y": [
            67.615,
            70.515,
            74.405,
            72.16,
            73.72,
            74.83,
            76.88,
            75.5,
            76.5,
            77.9,
            69.722,
            71.804,
            75.436,
            75.656
           ],
           "yaxis": "y"
          }
         ],
         "name": "1849"
        },
        {
         "data": [
          {
           "hovertemplate": "<b>%{hovertext}</b><br><br>year=1850<br>CO2 Emissions (Metric Tons per Capita)=%{x}<br>Life Expectancy (Years)=%{marker.color}<extra></extra>",
           "hovertext": [
            "Armenia",
            "Austria",
            "Azerbaijan",
            "Belarus",
            "Belgium",
            "Canada",
            "Denmark",
            "France",
            "Georgia",
            "Germany",
            "Hungary",
            "Ireland",
            "Kazakhstan",
            "Kyrgyz Republic",
            "Lithuania",
            "Moldova",
            "Netherlands",
            "Norway",
            "Poland",
            "Russia",
            "Spain",
            "Sweden",
            "Tajikistan",
            "Turkmenistan",
            "Ukraine",
            "United Kingdom",
            "United States",
            "Uzbekistan"
           ],
           "ids": [
            "Armenia",
            "Austria",
            "Azerbaijan",
            "Belarus",
            "Belgium",
            "Canada",
            "Denmark",
            "France",
            "Georgia",
            "Germany",
            "Hungary",
            "Ireland",
            "Kazakhstan",
            "Kyrgyz Republic",
            "Lithuania",
            "Moldova",
            "Netherlands",
            "Norway",
            "Poland",
            "Russia",
            "Spain",
            "Sweden",
            "Tajikistan",
            "Turkmenistan",
            "Ukraine",
            "United Kingdom",
            "United States",
            "Uzbekistan"
           ],
           "legendgroup": "",
           "marker": {
            "color": [
             62.964,
             63.519,
             63.757,
             64.9,
             65.175,
             66.37899999999999,
             67.756,
             53.52,
             55.283,
             55.89,
             61.346,
             63.986,
             66.634,
             68.185,
             70.76100000000001,
             66.574,
             68.96300000000001,
             70.86,
             72.312,
             72.877,
             59.594,
             65.89,
             67.968,
             70.649,
             71.639,
             72.28399999999999,
             72.6,
             73.21300000000001
            ],
            "coloraxis": "coloraxis",
            "symbol": "circle"
           },
           "mode": "markers",
           "name": "",
           "orientation": "v",
           "showlegend": false,
           "type": "scatter",
           "x": [
            0.00036,
            0.588,
            0.00165,
            0.00096,
            2.11,
            0.0236,
            0.226,
            0.541,
            0.00037,
            0.45,
            0,
            0.0781,
            0.00331,
            0.00055,
            0.00073,
            0.00076,
            1.01,
            0.0994,
            0.242,
            0.00172,
            0.0333,
            0.0586,
            0.0004,
            0.00232,
            0.00145,
            5.42,
            0.821,
            0.0015
           ],
           "xaxis": "x",
           "y": [
            62.964,
            63.519,
            63.757,
            64.9,
            65.175,
            66.37899999999999,
            67.756,
            53.52,
            55.283,
            55.89,
            61.346,
            63.986,
            66.634,
            68.185,
            70.76100000000001,
            66.574,
            68.96300000000001,
            70.86,
            72.312,
            72.877,
            59.594,
            65.89,
            67.968,
            70.649,
            71.639,
            72.28399999999999,
            72.6,
            73.21300000000001
           ],
           "yaxis": "y"
          }
         ],
         "name": "1850"
        },
        {
         "data": [
          {
           "hovertemplate": "<b>%{hovertext}</b><br><br>year=1851<br>CO2 Emissions (Metric Tons per Capita)=%{x}<br>Life Expectancy (Years)=%{marker.color}<extra></extra>",
           "hovertext": [
            "Australia",
            "Austria",
            "Belgium",
            "Canada",
            "Denmark",
            "France",
            "Germany",
            "Hungary",
            "Netherlands",
            "Norway",
            "Poland",
            "Spain",
            "Sweden",
            "United Kingdom",
            "United States"
           ],
           "ids": [
            "Australia",
            "Austria",
            "Belgium",
            "Canada",
            "Denmark",
            "France",
            "Germany",
            "Hungary",
            "Netherlands",
            "Norway",
            "Poland",
            "Spain",
            "Sweden",
            "United Kingdom",
            "United States"
           ],
           "legendgroup": "",
           "marker": {
            "color": [
             75.945,
             65.19800000000001,
             68.122,
             73.058,
             77.797,
             51.679,
             54.374,
             61.353,
             45.234,
             50.607,
             58.086000000000006,
             67.473,
             41.176,
             56.458,
             57.003
            ],
            "coloraxis": "coloraxis",
            "symbol": "circle"
           },
           "mode": "markers",
           "name": "",
           "orientation": "v",
           "showlegend": false,
           "type": "scatter",
           "x": [
            0,
            0.586,
            2.28,
            0.0271,
            0.204,
            0.551,
            0.498,
            0.0529,
            0.992,
            0.106,
            0.259,
            0.0341,
            0.0622,
            5.12,
            0.991
           ],
           "xaxis": "x",
           "y": [
            75.945,
            65.19800000000001,
            68.122,
            73.058,
            77.797,
            51.679,
            54.374,
            61.353,
            45.234,
            50.607,
            58.086000000000006,
            67.473,
            41.176,
            56.458,
            57.003
           ],
           "yaxis": "y"
          }
         ],
         "name": "1851"
        },
        {
         "data": [
          {
           "hovertemplate": "<b>%{hovertext}</b><br><br>year=1852<br>CO2 Emissions (Metric Tons per Capita)=%{x}<br>Life Expectancy (Years)=%{marker.color}<extra></extra>",
           "hovertext": [
            "Australia",
            "Austria",
            "Belgium",
            "Canada",
            "Denmark",
            "France",
            "Germany",
            "Hungary"
           ],
           "ids": [
            "Australia",
            "Austria",
            "Belgium",
            "Canada",
            "Denmark",
            "France",
            "Germany",
            "Hungary"
           ],
           "legendgroup": "",
           "marker": {
            "color": [
             61.52,
             61.728,
             63.112,
             51.402,
             41.768,
             48.613,
             54.549,
             54.918
            ],
            "coloraxis": "coloraxis",
            "symbol": "circle"
           },
           "mode": "markers",
           "name": "",
           "orientation": "v",
           "showlegend": false,
           "type": "scatter",
           "x": [
            0,
            0.701,
            2.54,
            0.0318,
            0.216,
            0.591,
            0.561,
            0.0659
           ],
           "xaxis": "x",
           "y": [
            61.52,
            61.728,
            63.112,
            51.402,
            41.768,
            48.613,
            54.549,
            54.918
           ],
           "yaxis": "y"
          }
         ],
         "name": "1852"
        }
       ],
       "layout": {
        "coloraxis": {
         "colorbar": {
          "title": {
           "text": "Life Expectancy (Years)"
          }
         },
         "colorscale": [
          [
           0,
           "#0d0887"
          ],
          [
           0.1111111111111111,
           "#46039f"
          ],
          [
           0.2222222222222222,
           "#7201a8"
          ],
          [
           0.3333333333333333,
           "#9c179e"
          ],
          [
           0.4444444444444444,
           "#bd3786"
          ],
          [
           0.5555555555555556,
           "#d8576b"
          ],
          [
           0.6666666666666666,
           "#ed7953"
          ],
          [
           0.7777777777777778,
           "#fb9f3a"
          ],
          [
           0.8888888888888888,
           "#fdca26"
          ],
          [
           1,
           "#f0f921"
          ]
         ]
        },
        "legend": {
         "tracegroupgap": 0
        },
        "margin": {
         "t": 60
        },
        "sliders": [
         {
          "active": 0,
          "currentvalue": {
           "prefix": "year="
          },
          "len": 0.9,
          "pad": {
           "b": 10,
           "t": 60
          },
          "steps": [
           {
            "args": [
             [
              "1800"
             ],
             {
              "frame": {
               "duration": 0,
               "redraw": false
              },
              "fromcurrent": true,
              "mode": "immediate",
              "transition": {
               "duration": 0,
               "easing": "linear"
              }
             }
            ],
            "label": "1800",
            "method": "animate"
           },
           {
            "args": [
             [
              "1801"
             ],
             {
              "frame": {
               "duration": 0,
               "redraw": false
              },
              "fromcurrent": true,
              "mode": "immediate",
              "transition": {
               "duration": 0,
               "easing": "linear"
              }
             }
            ],
            "label": "1801",
            "method": "animate"
           },
           {
            "args": [
             [
              "1802"
             ],
             {
              "frame": {
               "duration": 0,
               "redraw": false
              },
              "fromcurrent": true,
              "mode": "immediate",
              "transition": {
               "duration": 0,
               "easing": "linear"
              }
             }
            ],
            "label": "1802",
            "method": "animate"
           },
           {
            "args": [
             [
              "1803"
             ],
             {
              "frame": {
               "duration": 0,
               "redraw": false
              },
              "fromcurrent": true,
              "mode": "immediate",
              "transition": {
               "duration": 0,
               "easing": "linear"
              }
             }
            ],
            "label": "1803",
            "method": "animate"
           },
           {
            "args": [
             [
              "1804"
             ],
             {
              "frame": {
               "duration": 0,
               "redraw": false
              },
              "fromcurrent": true,
              "mode": "immediate",
              "transition": {
               "duration": 0,
               "easing": "linear"
              }
             }
            ],
            "label": "1804",
            "method": "animate"
           },
           {
            "args": [
             [
              "1805"
             ],
             {
              "frame": {
               "duration": 0,
               "redraw": false
              },
              "fromcurrent": true,
              "mode": "immediate",
              "transition": {
               "duration": 0,
               "easing": "linear"
              }
             }
            ],
            "label": "1805",
            "method": "animate"
           },
           {
            "args": [
             [
              "1806"
             ],
             {
              "frame": {
               "duration": 0,
               "redraw": false
              },
              "fromcurrent": true,
              "mode": "immediate",
              "transition": {
               "duration": 0,
               "easing": "linear"
              }
             }
            ],
            "label": "1806",
            "method": "animate"
           },
           {
            "args": [
             [
              "1807"
             ],
             {
              "frame": {
               "duration": 0,
               "redraw": false
              },
              "fromcurrent": true,
              "mode": "immediate",
              "transition": {
               "duration": 0,
               "easing": "linear"
              }
             }
            ],
            "label": "1807",
            "method": "animate"
           },
           {
            "args": [
             [
              "1808"
             ],
             {
              "frame": {
               "duration": 0,
               "redraw": false
              },
              "fromcurrent": true,
              "mode": "immediate",
              "transition": {
               "duration": 0,
               "easing": "linear"
              }
             }
            ],
            "label": "1808",
            "method": "animate"
           },
           {
            "args": [
             [
              "1809"
             ],
             {
              "frame": {
               "duration": 0,
               "redraw": false
              },
              "fromcurrent": true,
              "mode": "immediate",
              "transition": {
               "duration": 0,
               "easing": "linear"
              }
             }
            ],
            "label": "1809",
            "method": "animate"
           },
           {
            "args": [
             [
              "1810"
             ],
             {
              "frame": {
               "duration": 0,
               "redraw": false
              },
              "fromcurrent": true,
              "mode": "immediate",
              "transition": {
               "duration": 0,
               "easing": "linear"
              }
             }
            ],
            "label": "1810",
            "method": "animate"
           },
           {
            "args": [
             [
              "1811"
             ],
             {
              "frame": {
               "duration": 0,
               "redraw": false
              },
              "fromcurrent": true,
              "mode": "immediate",
              "transition": {
               "duration": 0,
               "easing": "linear"
              }
             }
            ],
            "label": "1811",
            "method": "animate"
           },
           {
            "args": [
             [
              "1812"
             ],
             {
              "frame": {
               "duration": 0,
               "redraw": false
              },
              "fromcurrent": true,
              "mode": "immediate",
              "transition": {
               "duration": 0,
               "easing": "linear"
              }
             }
            ],
            "label": "1812",
            "method": "animate"
           },
           {
            "args": [
             [
              "1813"
             ],
             {
              "frame": {
               "duration": 0,
               "redraw": false
              },
              "fromcurrent": true,
              "mode": "immediate",
              "transition": {
               "duration": 0,
               "easing": "linear"
              }
             }
            ],
            "label": "1813",
            "method": "animate"
           },
           {
            "args": [
             [
              "1814"
             ],
             {
              "frame": {
               "duration": 0,
               "redraw": false
              },
              "fromcurrent": true,
              "mode": "immediate",
              "transition": {
               "duration": 0,
               "easing": "linear"
              }
             }
            ],
            "label": "1814",
            "method": "animate"
           },
           {
            "args": [
             [
              "1815"
             ],
             {
              "frame": {
               "duration": 0,
               "redraw": false
              },
              "fromcurrent": true,
              "mode": "immediate",
              "transition": {
               "duration": 0,
               "easing": "linear"
              }
             }
            ],
            "label": "1815",
            "method": "animate"
           },
           {
            "args": [
             [
              "1816"
             ],
             {
              "frame": {
               "duration": 0,
               "redraw": false
              },
              "fromcurrent": true,
              "mode": "immediate",
              "transition": {
               "duration": 0,
               "easing": "linear"
              }
             }
            ],
            "label": "1816",
            "method": "animate"
           },
           {
            "args": [
             [
              "1817"
             ],
             {
              "frame": {
               "duration": 0,
               "redraw": false
              },
              "fromcurrent": true,
              "mode": "immediate",
              "transition": {
               "duration": 0,
               "easing": "linear"
              }
             }
            ],
            "label": "1817",
            "method": "animate"
           },
           {
            "args": [
             [
              "1818"
             ],
             {
              "frame": {
               "duration": 0,
               "redraw": false
              },
              "fromcurrent": true,
              "mode": "immediate",
              "transition": {
               "duration": 0,
               "easing": "linear"
              }
             }
            ],
            "label": "1818",
            "method": "animate"
           },
           {
            "args": [
             [
              "1819"
             ],
             {
              "frame": {
               "duration": 0,
               "redraw": false
              },
              "fromcurrent": true,
              "mode": "immediate",
              "transition": {
               "duration": 0,
               "easing": "linear"
              }
             }
            ],
            "label": "1819",
            "method": "animate"
           },
           {
            "args": [
             [
              "1820"
             ],
             {
              "frame": {
               "duration": 0,
               "redraw": false
              },
              "fromcurrent": true,
              "mode": "immediate",
              "transition": {
               "duration": 0,
               "easing": "linear"
              }
             }
            ],
            "label": "1820",
            "method": "animate"
           },
           {
            "args": [
             [
              "1821"
             ],
             {
              "frame": {
               "duration": 0,
               "redraw": false
              },
              "fromcurrent": true,
              "mode": "immediate",
              "transition": {
               "duration": 0,
               "easing": "linear"
              }
             }
            ],
            "label": "1821",
            "method": "animate"
           },
           {
            "args": [
             [
              "1822"
             ],
             {
              "frame": {
               "duration": 0,
               "redraw": false
              },
              "fromcurrent": true,
              "mode": "immediate",
              "transition": {
               "duration": 0,
               "easing": "linear"
              }
             }
            ],
            "label": "1822",
            "method": "animate"
           },
           {
            "args": [
             [
              "1823"
             ],
             {
              "frame": {
               "duration": 0,
               "redraw": false
              },
              "fromcurrent": true,
              "mode": "immediate",
              "transition": {
               "duration": 0,
               "easing": "linear"
              }
             }
            ],
            "label": "1823",
            "method": "animate"
           },
           {
            "args": [
             [
              "1824"
             ],
             {
              "frame": {
               "duration": 0,
               "redraw": false
              },
              "fromcurrent": true,
              "mode": "immediate",
              "transition": {
               "duration": 0,
               "easing": "linear"
              }
             }
            ],
            "label": "1824",
            "method": "animate"
           },
           {
            "args": [
             [
              "1825"
             ],
             {
              "frame": {
               "duration": 0,
               "redraw": false
              },
              "fromcurrent": true,
              "mode": "immediate",
              "transition": {
               "duration": 0,
               "easing": "linear"
              }
             }
            ],
            "label": "1825",
            "method": "animate"
           },
           {
            "args": [
             [
              "1826"
             ],
             {
              "frame": {
               "duration": 0,
               "redraw": false
              },
              "fromcurrent": true,
              "mode": "immediate",
              "transition": {
               "duration": 0,
               "easing": "linear"
              }
             }
            ],
            "label": "1826",
            "method": "animate"
           },
           {
            "args": [
             [
              "1827"
             ],
             {
              "frame": {
               "duration": 0,
               "redraw": false
              },
              "fromcurrent": true,
              "mode": "immediate",
              "transition": {
               "duration": 0,
               "easing": "linear"
              }
             }
            ],
            "label": "1827",
            "method": "animate"
           },
           {
            "args": [
             [
              "1828"
             ],
             {
              "frame": {
               "duration": 0,
               "redraw": false
              },
              "fromcurrent": true,
              "mode": "immediate",
              "transition": {
               "duration": 0,
               "easing": "linear"
              }
             }
            ],
            "label": "1828",
            "method": "animate"
           },
           {
            "args": [
             [
              "1829"
             ],
             {
              "frame": {
               "duration": 0,
               "redraw": false
              },
              "fromcurrent": true,
              "mode": "immediate",
              "transition": {
               "duration": 0,
               "easing": "linear"
              }
             }
            ],
            "label": "1829",
            "method": "animate"
           },
           {
            "args": [
             [
              "1830"
             ],
             {
              "frame": {
               "duration": 0,
               "redraw": false
              },
              "fromcurrent": true,
              "mode": "immediate",
              "transition": {
               "duration": 0,
               "easing": "linear"
              }
             }
            ],
            "label": "1830",
            "method": "animate"
           },
           {
            "args": [
             [
              "1831"
             ],
             {
              "frame": {
               "duration": 0,
               "redraw": false
              },
              "fromcurrent": true,
              "mode": "immediate",
              "transition": {
               "duration": 0,
               "easing": "linear"
              }
             }
            ],
            "label": "1831",
            "method": "animate"
           },
           {
            "args": [
             [
              "1832"
             ],
             {
              "frame": {
               "duration": 0,
               "redraw": false
              },
              "fromcurrent": true,
              "mode": "immediate",
              "transition": {
               "duration": 0,
               "easing": "linear"
              }
             }
            ],
            "label": "1832",
            "method": "animate"
           },
           {
            "args": [
             [
              "1833"
             ],
             {
              "frame": {
               "duration": 0,
               "redraw": false
              },
              "fromcurrent": true,
              "mode": "immediate",
              "transition": {
               "duration": 0,
               "easing": "linear"
              }
             }
            ],
            "label": "1833",
            "method": "animate"
           },
           {
            "args": [
             [
              "1834"
             ],
             {
              "frame": {
               "duration": 0,
               "redraw": false
              },
              "fromcurrent": true,
              "mode": "immediate",
              "transition": {
               "duration": 0,
               "easing": "linear"
              }
             }
            ],
            "label": "1834",
            "method": "animate"
           },
           {
            "args": [
             [
              "1835"
             ],
             {
              "frame": {
               "duration": 0,
               "redraw": false
              },
              "fromcurrent": true,
              "mode": "immediate",
              "transition": {
               "duration": 0,
               "easing": "linear"
              }
             }
            ],
            "label": "1835",
            "method": "animate"
           },
           {
            "args": [
             [
              "1836"
             ],
             {
              "frame": {
               "duration": 0,
               "redraw": false
              },
              "fromcurrent": true,
              "mode": "immediate",
              "transition": {
               "duration": 0,
               "easing": "linear"
              }
             }
            ],
            "label": "1836",
            "method": "animate"
           },
           {
            "args": [
             [
              "1837"
             ],
             {
              "frame": {
               "duration": 0,
               "redraw": false
              },
              "fromcurrent": true,
              "mode": "immediate",
              "transition": {
               "duration": 0,
               "easing": "linear"
              }
             }
            ],
            "label": "1837",
            "method": "animate"
           },
           {
            "args": [
             [
              "1838"
             ],
             {
              "frame": {
               "duration": 0,
               "redraw": false
              },
              "fromcurrent": true,
              "mode": "immediate",
              "transition": {
               "duration": 0,
               "easing": "linear"
              }
             }
            ],
            "label": "1838",
            "method": "animate"
           },
           {
            "args": [
             [
              "1839"
             ],
             {
              "frame": {
               "duration": 0,
               "redraw": false
              },
              "fromcurrent": true,
              "mode": "immediate",
              "transition": {
               "duration": 0,
               "easing": "linear"
              }
             }
            ],
            "label": "1839",
            "method": "animate"
           },
           {
            "args": [
             [
              "1840"
             ],
             {
              "frame": {
               "duration": 0,
               "redraw": false
              },
              "fromcurrent": true,
              "mode": "immediate",
              "transition": {
               "duration": 0,
               "easing": "linear"
              }
             }
            ],
            "label": "1840",
            "method": "animate"
           },
           {
            "args": [
             [
              "1841"
             ],
             {
              "frame": {
               "duration": 0,
               "redraw": false
              },
              "fromcurrent": true,
              "mode": "immediate",
              "transition": {
               "duration": 0,
               "easing": "linear"
              }
             }
            ],
            "label": "1841",
            "method": "animate"
           },
           {
            "args": [
             [
              "1842"
             ],
             {
              "frame": {
               "duration": 0,
               "redraw": false
              },
              "fromcurrent": true,
              "mode": "immediate",
              "transition": {
               "duration": 0,
               "easing": "linear"
              }
             }
            ],
            "label": "1842",
            "method": "animate"
           },
           {
            "args": [
             [
              "1843"
             ],
             {
              "frame": {
               "duration": 0,
               "redraw": false
              },
              "fromcurrent": true,
              "mode": "immediate",
              "transition": {
               "duration": 0,
               "easing": "linear"
              }
             }
            ],
            "label": "1843",
            "method": "animate"
           },
           {
            "args": [
             [
              "1844"
             ],
             {
              "frame": {
               "duration": 0,
               "redraw": false
              },
              "fromcurrent": true,
              "mode": "immediate",
              "transition": {
               "duration": 0,
               "easing": "linear"
              }
             }
            ],
            "label": "1844",
            "method": "animate"
           },
           {
            "args": [
             [
              "1845"
             ],
             {
              "frame": {
               "duration": 0,
               "redraw": false
              },
              "fromcurrent": true,
              "mode": "immediate",
              "transition": {
               "duration": 0,
               "easing": "linear"
              }
             }
            ],
            "label": "1845",
            "method": "animate"
           },
           {
            "args": [
             [
              "1846"
             ],
             {
              "frame": {
               "duration": 0,
               "redraw": false
              },
              "fromcurrent": true,
              "mode": "immediate",
              "transition": {
               "duration": 0,
               "easing": "linear"
              }
             }
            ],
            "label": "1846",
            "method": "animate"
           },
           {
            "args": [
             [
              "1847"
             ],
             {
              "frame": {
               "duration": 0,
               "redraw": false
              },
              "fromcurrent": true,
              "mode": "immediate",
              "transition": {
               "duration": 0,
               "easing": "linear"
              }
             }
            ],
            "label": "1847",
            "method": "animate"
           },
           {
            "args": [
             [
              "1848"
             ],
             {
              "frame": {
               "duration": 0,
               "redraw": false
              },
              "fromcurrent": true,
              "mode": "immediate",
              "transition": {
               "duration": 0,
               "easing": "linear"
              }
             }
            ],
            "label": "1848",
            "method": "animate"
           },
           {
            "args": [
             [
              "1849"
             ],
             {
              "frame": {
               "duration": 0,
               "redraw": false
              },
              "fromcurrent": true,
              "mode": "immediate",
              "transition": {
               "duration": 0,
               "easing": "linear"
              }
             }
            ],
            "label": "1849",
            "method": "animate"
           },
           {
            "args": [
             [
              "1850"
             ],
             {
              "frame": {
               "duration": 0,
               "redraw": false
              },
              "fromcurrent": true,
              "mode": "immediate",
              "transition": {
               "duration": 0,
               "easing": "linear"
              }
             }
            ],
            "label": "1850",
            "method": "animate"
           },
           {
            "args": [
             [
              "1851"
             ],
             {
              "frame": {
               "duration": 0,
               "redraw": false
              },
              "fromcurrent": true,
              "mode": "immediate",
              "transition": {
               "duration": 0,
               "easing": "linear"
              }
             }
            ],
            "label": "1851",
            "method": "animate"
           },
           {
            "args": [
             [
              "1852"
             ],
             {
              "frame": {
               "duration": 0,
               "redraw": false
              },
              "fromcurrent": true,
              "mode": "immediate",
              "transition": {
               "duration": 0,
               "easing": "linear"
              }
             }
            ],
            "label": "1852",
            "method": "animate"
           }
          ],
          "x": 0.1,
          "xanchor": "left",
          "y": 0,
          "yanchor": "top"
         }
        ],
        "template": {
         "data": {
          "bar": [
           {
            "error_x": {
             "color": "#2a3f5f"
            },
            "error_y": {
             "color": "#2a3f5f"
            },
            "marker": {
             "line": {
              "color": "#E5ECF6",
              "width": 0.5
             },
             "pattern": {
              "fillmode": "overlay",
              "size": 10,
              "solidity": 0.2
             }
            },
            "type": "bar"
           }
          ],
          "barpolar": [
           {
            "marker": {
             "line": {
              "color": "#E5ECF6",
              "width": 0.5
             },
             "pattern": {
              "fillmode": "overlay",
              "size": 10,
              "solidity": 0.2
             }
            },
            "type": "barpolar"
           }
          ],
          "carpet": [
           {
            "aaxis": {
             "endlinecolor": "#2a3f5f",
             "gridcolor": "white",
             "linecolor": "white",
             "minorgridcolor": "white",
             "startlinecolor": "#2a3f5f"
            },
            "baxis": {
             "endlinecolor": "#2a3f5f",
             "gridcolor": "white",
             "linecolor": "white",
             "minorgridcolor": "white",
             "startlinecolor": "#2a3f5f"
            },
            "type": "carpet"
           }
          ],
          "choropleth": [
           {
            "colorbar": {
             "outlinewidth": 0,
             "ticks": ""
            },
            "type": "choropleth"
           }
          ],
          "contour": [
           {
            "colorbar": {
             "outlinewidth": 0,
             "ticks": ""
            },
            "colorscale": [
             [
              0,
              "#0d0887"
             ],
             [
              0.1111111111111111,
              "#46039f"
             ],
             [
              0.2222222222222222,
              "#7201a8"
             ],
             [
              0.3333333333333333,
              "#9c179e"
             ],
             [
              0.4444444444444444,
              "#bd3786"
             ],
             [
              0.5555555555555556,
              "#d8576b"
             ],
             [
              0.6666666666666666,
              "#ed7953"
             ],
             [
              0.7777777777777778,
              "#fb9f3a"
             ],
             [
              0.8888888888888888,
              "#fdca26"
             ],
             [
              1,
              "#f0f921"
             ]
            ],
            "type": "contour"
           }
          ],
          "contourcarpet": [
           {
            "colorbar": {
             "outlinewidth": 0,
             "ticks": ""
            },
            "type": "contourcarpet"
           }
          ],
          "heatmap": [
           {
            "colorbar": {
             "outlinewidth": 0,
             "ticks": ""
            },
            "colorscale": [
             [
              0,
              "#0d0887"
             ],
             [
              0.1111111111111111,
              "#46039f"
             ],
             [
              0.2222222222222222,
              "#7201a8"
             ],
             [
              0.3333333333333333,
              "#9c179e"
             ],
             [
              0.4444444444444444,
              "#bd3786"
             ],
             [
              0.5555555555555556,
              "#d8576b"
             ],
             [
              0.6666666666666666,
              "#ed7953"
             ],
             [
              0.7777777777777778,
              "#fb9f3a"
             ],
             [
              0.8888888888888888,
              "#fdca26"
             ],
             [
              1,
              "#f0f921"
             ]
            ],
            "type": "heatmap"
           }
          ],
          "heatmapgl": [
           {
            "colorbar": {
             "outlinewidth": 0,
             "ticks": ""
            },
            "colorscale": [
             [
              0,
              "#0d0887"
             ],
             [
              0.1111111111111111,
              "#46039f"
             ],
             [
              0.2222222222222222,
              "#7201a8"
             ],
             [
              0.3333333333333333,
              "#9c179e"
             ],
             [
              0.4444444444444444,
              "#bd3786"
             ],
             [
              0.5555555555555556,
              "#d8576b"
             ],
             [
              0.6666666666666666,
              "#ed7953"
             ],
             [
              0.7777777777777778,
              "#fb9f3a"
             ],
             [
              0.8888888888888888,
              "#fdca26"
             ],
             [
              1,
              "#f0f921"
             ]
            ],
            "type": "heatmapgl"
           }
          ],
          "histogram": [
           {
            "marker": {
             "pattern": {
              "fillmode": "overlay",
              "size": 10,
              "solidity": 0.2
             }
            },
            "type": "histogram"
           }
          ],
          "histogram2d": [
           {
            "colorbar": {
             "outlinewidth": 0,
             "ticks": ""
            },
            "colorscale": [
             [
              0,
              "#0d0887"
             ],
             [
              0.1111111111111111,
              "#46039f"
             ],
             [
              0.2222222222222222,
              "#7201a8"
             ],
             [
              0.3333333333333333,
              "#9c179e"
             ],
             [
              0.4444444444444444,
              "#bd3786"
             ],
             [
              0.5555555555555556,
              "#d8576b"
             ],
             [
              0.6666666666666666,
              "#ed7953"
             ],
             [
              0.7777777777777778,
              "#fb9f3a"
             ],
             [
              0.8888888888888888,
              "#fdca26"
             ],
             [
              1,
              "#f0f921"
             ]
            ],
            "type": "histogram2d"
           }
          ],
          "histogram2dcontour": [
           {
            "colorbar": {
             "outlinewidth": 0,
             "ticks": ""
            },
            "colorscale": [
             [
              0,
              "#0d0887"
             ],
             [
              0.1111111111111111,
              "#46039f"
             ],
             [
              0.2222222222222222,
              "#7201a8"
             ],
             [
              0.3333333333333333,
              "#9c179e"
             ],
             [
              0.4444444444444444,
              "#bd3786"
             ],
             [
              0.5555555555555556,
              "#d8576b"
             ],
             [
              0.6666666666666666,
              "#ed7953"
             ],
             [
              0.7777777777777778,
              "#fb9f3a"
             ],
             [
              0.8888888888888888,
              "#fdca26"
             ],
             [
              1,
              "#f0f921"
             ]
            ],
            "type": "histogram2dcontour"
           }
          ],
          "mesh3d": [
           {
            "colorbar": {
             "outlinewidth": 0,
             "ticks": ""
            },
            "type": "mesh3d"
           }
          ],
          "parcoords": [
           {
            "line": {
             "colorbar": {
              "outlinewidth": 0,
              "ticks": ""
             }
            },
            "type": "parcoords"
           }
          ],
          "pie": [
           {
            "automargin": true,
            "type": "pie"
           }
          ],
          "scatter": [
           {
            "fillpattern": {
             "fillmode": "overlay",
             "size": 10,
             "solidity": 0.2
            },
            "type": "scatter"
           }
          ],
          "scatter3d": [
           {
            "line": {
             "colorbar": {
              "outlinewidth": 0,
              "ticks": ""
             }
            },
            "marker": {
             "colorbar": {
              "outlinewidth": 0,
              "ticks": ""
             }
            },
            "type": "scatter3d"
           }
          ],
          "scattercarpet": [
           {
            "marker": {
             "colorbar": {
              "outlinewidth": 0,
              "ticks": ""
             }
            },
            "type": "scattercarpet"
           }
          ],
          "scattergeo": [
           {
            "marker": {
             "colorbar": {
              "outlinewidth": 0,
              "ticks": ""
             }
            },
            "type": "scattergeo"
           }
          ],
          "scattergl": [
           {
            "marker": {
             "colorbar": {
              "outlinewidth": 0,
              "ticks": ""
             }
            },
            "type": "scattergl"
           }
          ],
          "scattermapbox": [
           {
            "marker": {
             "colorbar": {
              "outlinewidth": 0,
              "ticks": ""
             }
            },
            "type": "scattermapbox"
           }
          ],
          "scatterpolar": [
           {
            "marker": {
             "colorbar": {
              "outlinewidth": 0,
              "ticks": ""
             }
            },
            "type": "scatterpolar"
           }
          ],
          "scatterpolargl": [
           {
            "marker": {
             "colorbar": {
              "outlinewidth": 0,
              "ticks": ""
             }
            },
            "type": "scatterpolargl"
           }
          ],
          "scatterternary": [
           {
            "marker": {
             "colorbar": {
              "outlinewidth": 0,
              "ticks": ""
             }
            },
            "type": "scatterternary"
           }
          ],
          "surface": [
           {
            "colorbar": {
             "outlinewidth": 0,
             "ticks": ""
            },
            "colorscale": [
             [
              0,
              "#0d0887"
             ],
             [
              0.1111111111111111,
              "#46039f"
             ],
             [
              0.2222222222222222,
              "#7201a8"
             ],
             [
              0.3333333333333333,
              "#9c179e"
             ],
             [
              0.4444444444444444,
              "#bd3786"
             ],
             [
              0.5555555555555556,
              "#d8576b"
             ],
             [
              0.6666666666666666,
              "#ed7953"
             ],
             [
              0.7777777777777778,
              "#fb9f3a"
             ],
             [
              0.8888888888888888,
              "#fdca26"
             ],
             [
              1,
              "#f0f921"
             ]
            ],
            "type": "surface"
           }
          ],
          "table": [
           {
            "cells": {
             "fill": {
              "color": "#EBF0F8"
             },
             "line": {
              "color": "white"
             }
            },
            "header": {
             "fill": {
              "color": "#C8D4E3"
             },
             "line": {
              "color": "white"
             }
            },
            "type": "table"
           }
          ]
         },
         "layout": {
          "annotationdefaults": {
           "arrowcolor": "#2a3f5f",
           "arrowhead": 0,
           "arrowwidth": 1
          },
          "autotypenumbers": "strict",
          "coloraxis": {
           "colorbar": {
            "outlinewidth": 0,
            "ticks": ""
           }
          },
          "colorscale": {
           "diverging": [
            [
             0,
             "#8e0152"
            ],
            [
             0.1,
             "#c51b7d"
            ],
            [
             0.2,
             "#de77ae"
            ],
            [
             0.3,
             "#f1b6da"
            ],
            [
             0.4,
             "#fde0ef"
            ],
            [
             0.5,
             "#f7f7f7"
            ],
            [
             0.6,
             "#e6f5d0"
            ],
            [
             0.7,
             "#b8e186"
            ],
            [
             0.8,
             "#7fbc41"
            ],
            [
             0.9,
             "#4d9221"
            ],
            [
             1,
             "#276419"
            ]
           ],
           "sequential": [
            [
             0,
             "#0d0887"
            ],
            [
             0.1111111111111111,
             "#46039f"
            ],
            [
             0.2222222222222222,
             "#7201a8"
            ],
            [
             0.3333333333333333,
             "#9c179e"
            ],
            [
             0.4444444444444444,
             "#bd3786"
            ],
            [
             0.5555555555555556,
             "#d8576b"
            ],
            [
             0.6666666666666666,
             "#ed7953"
            ],
            [
             0.7777777777777778,
             "#fb9f3a"
            ],
            [
             0.8888888888888888,
             "#fdca26"
            ],
            [
             1,
             "#f0f921"
            ]
           ],
           "sequentialminus": [
            [
             0,
             "#0d0887"
            ],
            [
             0.1111111111111111,
             "#46039f"
            ],
            [
             0.2222222222222222,
             "#7201a8"
            ],
            [
             0.3333333333333333,
             "#9c179e"
            ],
            [
             0.4444444444444444,
             "#bd3786"
            ],
            [
             0.5555555555555556,
             "#d8576b"
            ],
            [
             0.6666666666666666,
             "#ed7953"
            ],
            [
             0.7777777777777778,
             "#fb9f3a"
            ],
            [
             0.8888888888888888,
             "#fdca26"
            ],
            [
             1,
             "#f0f921"
            ]
           ]
          },
          "colorway": [
           "#636efa",
           "#EF553B",
           "#00cc96",
           "#ab63fa",
           "#FFA15A",
           "#19d3f3",
           "#FF6692",
           "#B6E880",
           "#FF97FF",
           "#FECB52"
          ],
          "font": {
           "color": "#2a3f5f"
          },
          "geo": {
           "bgcolor": "white",
           "lakecolor": "white",
           "landcolor": "#E5ECF6",
           "showlakes": true,
           "showland": true,
           "subunitcolor": "white"
          },
          "hoverlabel": {
           "align": "left"
          },
          "hovermode": "closest",
          "mapbox": {
           "style": "light"
          },
          "paper_bgcolor": "white",
          "plot_bgcolor": "#E5ECF6",
          "polar": {
           "angularaxis": {
            "gridcolor": "white",
            "linecolor": "white",
            "ticks": ""
           },
           "bgcolor": "#E5ECF6",
           "radialaxis": {
            "gridcolor": "white",
            "linecolor": "white",
            "ticks": ""
           }
          },
          "scene": {
           "xaxis": {
            "backgroundcolor": "#E5ECF6",
            "gridcolor": "white",
            "gridwidth": 2,
            "linecolor": "white",
            "showbackground": true,
            "ticks": "",
            "zerolinecolor": "white"
           },
           "yaxis": {
            "backgroundcolor": "#E5ECF6",
            "gridcolor": "white",
            "gridwidth": 2,
            "linecolor": "white",
            "showbackground": true,
            "ticks": "",
            "zerolinecolor": "white"
           },
           "zaxis": {
            "backgroundcolor": "#E5ECF6",
            "gridcolor": "white",
            "gridwidth": 2,
            "linecolor": "white",
            "showbackground": true,
            "ticks": "",
            "zerolinecolor": "white"
           }
          },
          "shapedefaults": {
           "line": {
            "color": "#2a3f5f"
           }
          },
          "ternary": {
           "aaxis": {
            "gridcolor": "white",
            "linecolor": "white",
            "ticks": ""
           },
           "baxis": {
            "gridcolor": "white",
            "linecolor": "white",
            "ticks": ""
           },
           "bgcolor": "#E5ECF6",
           "caxis": {
            "gridcolor": "white",
            "linecolor": "white",
            "ticks": ""
           }
          },
          "title": {
           "x": 0.05
          },
          "xaxis": {
           "automargin": true,
           "gridcolor": "white",
           "linecolor": "white",
           "ticks": "",
           "title": {
            "standoff": 15
           },
           "zerolinecolor": "white",
           "zerolinewidth": 2
          },
          "yaxis": {
           "automargin": true,
           "gridcolor": "white",
           "linecolor": "white",
           "ticks": "",
           "title": {
            "standoff": 15
           },
           "zerolinecolor": "white",
           "zerolinewidth": 2
          }
         }
        },
        "updatemenus": [
         {
          "buttons": [
           {
            "args": [
             null,
             {
              "frame": {
               "duration": 500,
               "redraw": false
              },
              "fromcurrent": true,
              "mode": "immediate",
              "transition": {
               "duration": 500,
               "easing": "linear"
              }
             }
            ],
            "label": "&#9654;",
            "method": "animate"
           },
           {
            "args": [
             [
              null
             ],
             {
              "frame": {
               "duration": 0,
               "redraw": false
              },
              "fromcurrent": true,
              "mode": "immediate",
              "transition": {
               "duration": 0,
               "easing": "linear"
              }
             }
            ],
            "label": "&#9724;",
            "method": "animate"
           }
          ],
          "direction": "left",
          "pad": {
           "r": 10,
           "t": 70
          },
          "showactive": false,
          "type": "buttons",
          "x": 0.1,
          "xanchor": "right",
          "y": 0,
          "yanchor": "top"
         }
        ],
        "xaxis": {
         "anchor": "y",
         "domain": [
          0,
          1
         ],
         "title": {
          "text": "CO2 Emissions (Metric Tons per Capita)"
         }
        },
        "yaxis": {
         "anchor": "x",
         "domain": [
          0,
          1
         ],
         "title": {
          "text": "Life Expectancy (Years)"
         }
        }
       }
      }
     },
     "metadata": {},
     "output_type": "display_data"
    },
    {
     "data": {
      "application/vnd.plotly.v1+json": {
       "config": {
        "plotlyServerURL": "https://plot.ly"
       },
       "data": [
        {
         "hovertemplate": "<b>%{hovertext}</b><br><br>year=1800<br>CO2 Emissions (Metric Tons per Capita)=%{x}<br>Fertility Rate=%{marker.color}<extra></extra>",
         "hovertext": [
          "Canada",
          "Germany",
          "Poland",
          "United Kingdom",
          "United States"
         ],
         "ids": [
          "Canada",
          "Germany",
          "Poland",
          "United Kingdom",
          "United States"
         ],
         "legendgroup": "",
         "marker": {
          "color": [
           7.796,
           4.093999999999999,
           2.514,
           6.984,
           6.949
          ],
          "coloraxis": "coloraxis",
          "symbol": "circle"
         },
         "mode": "markers",
         "name": "",
         "orientation": "v",
         "showlegend": false,
         "type": "scatter",
         "x": [
          0.00568,
          0.0348,
          0.0428,
          2.16,
          0.0372
         ],
         "xaxis": "x",
         "y": [
          7.796,
          4.093999999999999,
          2.514,
          6.984,
          6.949
         ],
         "yaxis": "y"
        }
       ],
       "frames": [
        {
         "data": [
          {
           "hovertemplate": "<b>%{hovertext}</b><br><br>year=1800<br>CO2 Emissions (Metric Tons per Capita)=%{x}<br>Fertility Rate=%{marker.color}<extra></extra>",
           "hovertext": [
            "Canada",
            "Germany",
            "Poland",
            "United Kingdom",
            "United States"
           ],
           "ids": [
            "Canada",
            "Germany",
            "Poland",
            "United Kingdom",
            "United States"
           ],
           "legendgroup": "",
           "marker": {
            "color": [
             7.796,
             4.093999999999999,
             2.514,
             6.984,
             6.949
            ],
            "coloraxis": "coloraxis",
            "symbol": "circle"
           },
           "mode": "markers",
           "name": "",
           "orientation": "v",
           "showlegend": false,
           "type": "scatter",
           "x": [
            0.00568,
            0.0348,
            0.0428,
            2.16,
            0.0372
           ],
           "xaxis": "x",
           "y": [
            7.796,
            4.093999999999999,
            2.514,
            6.984,
            6.949
           ],
           "yaxis": "y"
          }
         ],
         "name": "1800"
        },
        {
         "data": [
          {
           "hovertemplate": "<b>%{hovertext}</b><br><br>year=1801<br>CO2 Emissions (Metric Tons per Capita)=%{x}<br>Fertility Rate=%{marker.color}<extra></extra>",
           "hovertext": [
            "Canada",
            "Germany",
            "Poland",
            "United Kingdom",
            "United States"
           ],
           "ids": [
            "Canada",
            "Germany",
            "Poland",
            "United Kingdom",
            "United States"
           ],
           "legendgroup": "",
           "marker": {
            "color": [
             2.082,
             3.056,
             2.399,
             2.291,
             2.272
            ],
            "coloraxis": "coloraxis",
            "symbol": "circle"
           },
           "mode": "markers",
           "name": "",
           "orientation": "v",
           "showlegend": false,
           "type": "scatter",
           "x": [
            0.00561,
            0.0233,
            0.0464,
            2.14,
            0.0386
           ],
           "xaxis": "x",
           "y": [
            2.082,
            3.056,
            2.399,
            2.291,
            2.272
           ],
           "yaxis": "y"
          }
         ],
         "name": "1801"
        },
        {
         "data": [
          {
           "hovertemplate": "<b>%{hovertext}</b><br><br>year=1802<br>CO2 Emissions (Metric Tons per Capita)=%{x}<br>Fertility Rate=%{marker.color}<extra></extra>",
           "hovertext": [
            "Belgium",
            "Canada",
            "France",
            "Germany",
            "Poland",
            "United Kingdom",
            "United States"
           ],
           "ids": [
            "Belgium",
            "Canada",
            "France",
            "Germany",
            "Poland",
            "United Kingdom",
            "United States"
           ],
           "legendgroup": "",
           "marker": {
            "color": [
             3.154,
             1.949,
             1.92,
             1.884,
             2.98,
             2.989,
             2.994
            ],
            "coloraxis": "coloraxis",
            "symbol": "circle"
           },
           "mode": "markers",
           "name": "",
           "orientation": "v",
           "showlegend": false,
           "type": "scatter",
           "x": [
            2.02,
            0.00555,
            0.0759,
            0.024,
            0.047,
            2.13,
            0.041
           ],
           "xaxis": "x",
           "y": [
            3.154,
            1.949,
            1.92,
            1.884,
            2.98,
            2.989,
            2.994
           ],
           "yaxis": "y"
          }
         ],
         "name": "1802"
        },
        {
         "data": [
          {
           "hovertemplate": "<b>%{hovertext}</b><br><br>year=1803<br>CO2 Emissions (Metric Tons per Capita)=%{x}<br>Fertility Rate=%{marker.color}<extra></extra>",
           "hovertext": [
            "Canada",
            "Germany",
            "Poland",
            "United Kingdom",
            "United States"
           ],
           "ids": [
            "Canada",
            "Germany",
            "Poland",
            "United Kingdom",
            "United States"
           ],
           "legendgroup": "",
           "marker": {
            "color": [
             6.497999999999999,
             2.602,
             2.2880000000000003,
             2.248,
             2.22
            ],
            "coloraxis": "coloraxis",
            "symbol": "circle"
           },
           "mode": "markers",
           "name": "",
           "orientation": "v",
           "showlegend": false,
           "type": "scatter",
           "x": [
            0.00548,
            0.0231,
            0.0479,
            2.36,
            0.0412
           ],
           "xaxis": "x",
           "y": [
            6.497999999999999,
            2.602,
            2.2880000000000003,
            2.248,
            2.22
           ],
           "yaxis": "y"
          }
         ],
         "name": "1803"
        },
        {
         "data": [
          {
           "hovertemplate": "<b>%{hovertext}</b><br><br>year=1804<br>CO2 Emissions (Metric Tons per Capita)=%{x}<br>Fertility Rate=%{marker.color}<extra></extra>",
           "hovertext": [
            "Canada",
            "France",
            "Germany",
            "Poland",
            "United Kingdom",
            "United States"
           ],
           "ids": [
            "Canada",
            "France",
            "Germany",
            "Poland",
            "United Kingdom",
            "United States"
           ],
           "legendgroup": "",
           "marker": {
            "color": [
             1.484,
             1.591,
             1.606,
             6.671,
             6.67,
             6.67
            ],
            "coloraxis": "coloraxis",
            "symbol": "circle"
           },
           "mode": "markers",
           "name": "",
           "orientation": "v",
           "showlegend": false,
           "type": "scatter",
           "x": [
            0.00542,
            0.0733,
            0.0433,
            0.0473,
            2.34,
            0.0454
           ],
           "xaxis": "x",
           "y": [
            1.484,
            1.591,
            1.606,
            6.671,
            6.67,
            6.67
           ],
           "yaxis": "y"
          }
         ],
         "name": "1804"
        },
        {
         "data": [
          {
           "hovertemplate": "<b>%{hovertext}</b><br><br>year=1805<br>CO2 Emissions (Metric Tons per Capita)=%{x}<br>Fertility Rate=%{marker.color}<extra></extra>",
           "hovertext": [
            "Canada",
            "Germany",
            "Poland",
            "United Kingdom",
            "United States"
           ],
           "ids": [
            "Canada",
            "Germany",
            "Poland",
            "United Kingdom",
            "United States"
           ],
           "legendgroup": "",
           "marker": {
            "color": [
             2.923,
             5.029,
             1.242,
             2.962,
             2.91
            ],
            "coloraxis": "coloraxis",
            "symbol": "circle"
           },
           "mode": "markers",
           "name": "",
           "orientation": "v",
           "showlegend": false,
           "type": "scatter",
           "x": [
            0.00536,
            0.0445,
            0.0588,
            2.4,
            0.0456
           ],
           "xaxis": "x",
           "y": [
            2.923,
            5.029,
            1.242,
            2.962,
            2.91
           ],
           "yaxis": "y"
          }
         ],
         "name": "1805"
        },
        {
         "data": [
          {
           "hovertemplate": "<b>%{hovertext}</b><br><br>year=1806<br>CO2 Emissions (Metric Tons per Capita)=%{x}<br>Fertility Rate=%{marker.color}<extra></extra>",
           "hovertext": [
            "Canada",
            "Germany",
            "Poland",
            "United Kingdom",
            "United States"
           ],
           "ids": [
            "Canada",
            "Germany",
            "Poland",
            "United Kingdom",
            "United States"
           ],
           "legendgroup": "",
           "marker": {
            "color": [
             2.474,
             4.428999999999999,
             1.221,
             6.704,
             6.65
            ],
            "coloraxis": "coloraxis",
            "symbol": "circle"
           },
           "mode": "markers",
           "name": "",
           "orientation": "v",
           "showlegend": false,
           "type": "scatter",
           "x": [
            0.00529,
            0.04,
            0.0533,
            2.5,
            0.0437
           ],
           "xaxis": "x",
           "y": [
            2.474,
            4.428999999999999,
            1.221,
            6.704,
            6.65
           ],
           "yaxis": "y"
          }
         ],
         "name": "1806"
        },
        {
         "data": [
          {
           "hovertemplate": "<b>%{hovertext}</b><br><br>year=1807<br>CO2 Emissions (Metric Tons per Capita)=%{x}<br>Fertility Rate=%{marker.color}<extra></extra>",
           "hovertext": [
            "Austria",
            "Canada",
            "Germany",
            "Poland",
            "United Kingdom",
            "United States"
           ],
           "ids": [
            "Austria",
            "Canada",
            "Germany",
            "Poland",
            "United Kingdom",
            "United States"
           ],
           "legendgroup": "",
           "marker": {
            "color": [
             7.247000000000001,
             7.572,
             6.337999999999999,
             6.08,
             1.715,
             1.714
            ],
            "coloraxis": "coloraxis",
            "symbol": "circle"
           },
           "mode": "markers",
           "name": "",
           "orientation": "v",
           "showlegend": false,
           "type": "scatter",
           "x": [
            0.0517,
            0.00523,
            0.114,
            0.0385,
            2.47,
            0.0486
           ],
           "xaxis": "x",
           "y": [
            7.247000000000001,
            7.572,
            6.337999999999999,
            6.08,
            1.715,
            1.714
           ],
           "yaxis": "y"
          }
         ],
         "name": "1807"
        },
        {
         "data": [
          {
           "hovertemplate": "<b>%{hovertext}</b><br><br>year=1808<br>CO2 Emissions (Metric Tons per Capita)=%{x}<br>Fertility Rate=%{marker.color}<extra></extra>",
           "hovertext": [
            "Canada",
            "Germany",
            "Poland",
            "United Kingdom",
            "United States"
           ],
           "ids": [
            "Canada",
            "Germany",
            "Poland",
            "United Kingdom",
            "United States"
           ],
           "legendgroup": "",
           "marker": {
            "color": [
             6.375,
             2.292,
             7.1610000000000005,
             1.4340000000000002,
             1.433
            ],
            "coloraxis": "coloraxis",
            "symbol": "circle"
           },
           "mode": "markers",
           "name": "",
           "orientation": "v",
           "showlegend": false,
           "type": "scatter",
           "x": [
            0.00517,
            0.0379,
            0.0509,
            2.44,
            0.0495
           ],
           "xaxis": "x",
           "y": [
            6.375,
            2.292,
            7.1610000000000005,
            1.4340000000000002,
            1.433
           ],
           "yaxis": "y"
          }
         ],
         "name": "1808"
        },
        {
         "data": [
          {
           "hovertemplate": "<b>%{hovertext}</b><br><br>year=1809<br>CO2 Emissions (Metric Tons per Capita)=%{x}<br>Fertility Rate=%{marker.color}<extra></extra>",
           "hovertext": [
            "Canada",
            "Germany",
            "Poland",
            "United Kingdom",
            "United States"
           ],
           "ids": [
            "Canada",
            "Germany",
            "Poland",
            "United Kingdom",
            "United States"
           ],
           "legendgroup": "",
           "marker": {
            "color": [
             3.679,
             1.939,
             4.247,
             7.0520000000000005,
             7.053999999999999
            ],
            "coloraxis": "coloraxis",
            "symbol": "circle"
           },
           "mode": "markers",
           "name": "",
           "orientation": "v",
           "showlegend": false,
           "type": "scatter",
           "x": [
            0.00511,
            0.0392,
            0.0477,
            2.41,
            0.0499
           ],
           "xaxis": "x",
           "y": [
            3.679,
            1.939,
            4.247,
            7.0520000000000005,
            7.053999999999999
           ],
           "yaxis": "y"
          }
         ],
         "name": "1809"
        },
        {
         "data": [
          {
           "hovertemplate": "<b>%{hovertext}</b><br><br>year=1810<br>CO2 Emissions (Metric Tons per Capita)=%{x}<br>Fertility Rate=%{marker.color}<extra></extra>",
           "hovertext": [
            "Canada",
            "France",
            "Germany",
            "Poland",
            "United Kingdom",
            "United States"
           ],
           "ids": [
            "Canada",
            "France",
            "Germany",
            "Poland",
            "United Kingdom",
            "United States"
           ],
           "legendgroup": "",
           "marker": {
            "color": [
             6.067,
             7.251,
             7.227,
             5.012,
             7.757000000000001,
             7.806
            ],
            "coloraxis": "coloraxis",
            "symbol": "circle"
           },
           "mode": "markers",
           "name": "",
           "orientation": "v",
           "showlegend": false,
           "type": "scatter",
           "x": [
            0.00504,
            0.0701,
            0.041,
            0.0571,
            2.36,
            0.0504
           ],
           "xaxis": "x",
           "y": [
            6.067,
            7.251,
            7.227,
            5.012,
            7.757000000000001,
            7.806
           ],
           "yaxis": "y"
          }
         ],
         "name": "1810"
        },
        {
         "data": [
          {
           "hovertemplate": "<b>%{hovertext}</b><br><br>year=1811<br>CO2 Emissions (Metric Tons per Capita)=%{x}<br>Fertility Rate=%{marker.color}<extra></extra>",
           "hovertext": [
            "Canada",
            "France",
            "Germany",
            "Poland",
            "United Kingdom",
            "United States"
           ],
           "ids": [
            "Canada",
            "France",
            "Germany",
            "Poland",
            "United Kingdom",
            "United States"
           ],
           "legendgroup": "",
           "marker": {
            "color": [
             4.956,
             1.919,
             1.731,
             1.453,
             1.493,
             1.485
            ],
            "coloraxis": "coloraxis",
            "symbol": "circle"
           },
           "mode": "markers",
           "name": "",
           "orientation": "v",
           "showlegend": false,
           "type": "scatter",
           "x": [
            0.00497,
            0.0676,
            0.0387,
            0.059,
            2.49,
            0.0529
           ],
           "xaxis": "x",
           "y": [
            4.956,
            1.919,
            1.731,
            1.453,
            1.493,
            1.485
           ],
           "yaxis": "y"
          }
         ],
         "name": "1811"
        },
        {
         "data": [
          {
           "hovertemplate": "<b>%{hovertext}</b><br><br>year=1812<br>CO2 Emissions (Metric Tons per Capita)=%{x}<br>Fertility Rate=%{marker.color}<extra></extra>",
           "hovertext": [
            "Canada",
            "France",
            "Germany",
            "Poland",
            "United Kingdom",
            "United States"
           ],
           "ids": [
            "Canada",
            "France",
            "Germany",
            "Poland",
            "United Kingdom",
            "United States"
           ],
           "legendgroup": "",
           "marker": {
            "color": [
             1.175,
             1.66,
             1.4369999999999998,
             4.074,
             2.892,
             2.863
            ],
            "coloraxis": "coloraxis",
            "symbol": "circle"
           },
           "mode": "markers",
           "name": "",
           "orientation": "v",
           "showlegend": false,
           "type": "scatter",
           "x": [
            0.0049,
            0.0727,
            0.0379,
            0.0452,
            2.55,
            0.056
           ],
           "xaxis": "x",
           "y": [
            1.175,
            1.66,
            1.4369999999999998,
            4.074,
            2.892,
            2.863
           ],
           "yaxis": "y"
          }
         ],
         "name": "1812"
        },
        {
         "data": [
          {
           "hovertemplate": "<b>%{hovertext}</b><br><br>year=1813<br>CO2 Emissions (Metric Tons per Capita)=%{x}<br>Fertility Rate=%{marker.color}<extra></extra>",
           "hovertext": [
            "Canada",
            "France",
            "Germany",
            "Poland",
            "United Kingdom",
            "United States"
           ],
           "ids": [
            "Canada",
            "France",
            "Germany",
            "Poland",
            "United Kingdom",
            "United States"
           ],
           "legendgroup": "",
           "marker": {
            "color": [
             3.765,
             6.04,
             5.692,
             3.432,
             5.902,
             5.902
            ],
            "coloraxis": "coloraxis",
            "symbol": "circle"
           },
           "mode": "markers",
           "name": "",
           "orientation": "v",
           "showlegend": false,
           "type": "scatter",
           "x": [
            0.00483,
            0.067,
            0.0367,
            0.0377,
            2.54,
            0.059
           ],
           "xaxis": "x",
           "y": [
            3.765,
            6.04,
            5.692,
            3.432,
            5.902,
            5.902
           ],
           "yaxis": "y"
          }
         ],
         "name": "1813"
        },
        {
         "data": [
          {
           "hovertemplate": "<b>%{hovertext}</b><br><br>year=1814<br>CO2 Emissions (Metric Tons per Capita)=%{x}<br>Fertility Rate=%{marker.color}<extra></extra>",
           "hovertext": [
            "Canada",
            "France",
            "Germany",
            "Poland",
            "United Kingdom",
            "United States"
           ],
           "ids": [
            "Canada",
            "France",
            "Germany",
            "Poland",
            "United Kingdom",
            "United States"
           ],
           "legendgroup": "",
           "marker": {
            "color": [
             6.617999999999999,
             4.875,
             1.967,
             7.347,
             3.693,
             3.629
            ],
            "coloraxis": "coloraxis",
            "symbol": "circle"
           },
           "mode": "markers",
           "name": "",
           "orientation": "v",
           "showlegend": false,
           "type": "scatter",
           "x": [
            0.00475,
            0.0681,
            0.0362,
            0.0495,
            2.56,
            0.0622
           ],
           "xaxis": "x",
           "y": [
            6.617999999999999,
            4.875,
            1.967,
            7.347,
            3.693,
            3.629
           ],
           "yaxis": "y"
          }
         ],
         "name": "1814"
        },
        {
         "data": [
          {
           "hovertemplate": "<b>%{hovertext}</b><br><br>year=1815<br>CO2 Emissions (Metric Tons per Capita)=%{x}<br>Fertility Rate=%{marker.color}<extra></extra>",
           "hovertext": [
            "Canada",
            "France",
            "Germany",
            "Poland",
            "United Kingdom",
            "United States"
           ],
           "ids": [
            "Canada",
            "France",
            "Germany",
            "Poland",
            "United Kingdom",
            "United States"
           ],
           "legendgroup": "",
           "marker": {
            "color": [
             1.62,
             1.76,
             1.83,
             3.361,
             4.423,
             4.301
            ],
            "coloraxis": "coloraxis",
            "symbol": "circle"
           },
           "mode": "markers",
           "name": "",
           "orientation": "v",
           "showlegend": false,
           "type": "scatter",
           "x": [
            0.00466,
            0.0759,
            0.0419,
            0.0578,
            2.58,
            0.0652
           ],
           "xaxis": "x",
           "y": [
            1.62,
            1.76,
            1.83,
            3.361,
            4.423,
            4.301
           ],
           "yaxis": "y"
          }
         ],
         "name": "1815"
        },
        {
         "data": [
          {
           "hovertemplate": "<b>%{hovertext}</b><br><br>year=1816<br>CO2 Emissions (Metric Tons per Capita)=%{x}<br>Fertility Rate=%{marker.color}<extra></extra>",
           "hovertext": [
            "Canada",
            "France",
            "Germany",
            "Poland",
            "United Kingdom",
            "United States"
           ],
           "ids": [
            "Canada",
            "France",
            "Germany",
            "Poland",
            "United Kingdom",
            "United States"
           ],
           "legendgroup": "",
           "marker": {
            "color": [
             4.834,
             4.987,
             4.664,
             2.579,
             2.278,
             2.165
            ],
            "coloraxis": "coloraxis",
            "symbol": "circle"
           },
           "mode": "markers",
           "name": "",
           "orientation": "v",
           "showlegend": false,
           "type": "scatter",
           "x": [
            0.00457,
            0.0807,
            0.0965,
            0.0661,
            2.7,
            0.0704
           ],
           "xaxis": "x",
           "y": [
            4.834,
            4.987,
            4.664,
            2.579,
            2.278,
            2.165
           ],
           "yaxis": "y"
          }
         ],
         "name": "1816"
        },
        {
         "data": [
          {
           "hovertemplate": "<b>%{hovertext}</b><br><br>year=1817<br>CO2 Emissions (Metric Tons per Capita)=%{x}<br>Fertility Rate=%{marker.color}<extra></extra>",
           "hovertext": [
            "Canada",
            "France",
            "Germany",
            "Poland",
            "United Kingdom",
            "United States"
           ],
           "ids": [
            "Canada",
            "France",
            "Germany",
            "Poland",
            "United Kingdom",
            "United States"
           ],
           "legendgroup": "",
           "marker": {
            "color": [
             1.368,
             5.935,
             5.505,
             7.27,
             2.195,
             2.117
            ],
            "coloraxis": "coloraxis",
            "symbol": "circle"
           },
           "mode": "markers",
           "name": "",
           "orientation": "v",
           "showlegend": false,
           "type": "scatter",
           "x": [
            0.00447,
            0.0856,
            0.136,
            0.0721,
            2.7,
            0.0745
           ],
           "xaxis": "x",
           "y": [
            1.368,
            5.935,
            5.505,
            7.27,
            2.195,
            2.117
           ],
           "yaxis": "y"
          }
         ],
         "name": "1817"
        },
        {
         "data": [
          {
           "hovertemplate": "<b>%{hovertext}</b><br><br>year=1818<br>CO2 Emissions (Metric Tons per Capita)=%{x}<br>Fertility Rate=%{marker.color}<extra></extra>",
           "hovertext": [
            "Canada",
            "France",
            "Germany",
            "Poland",
            "United Kingdom",
            "United States"
           ],
           "ids": [
            "Canada",
            "France",
            "Germany",
            "Poland",
            "United Kingdom",
            "United States"
           ],
           "legendgroup": "",
           "marker": {
            "color": [
             2.582,
             2.838,
             2.526,
             2.599,
             4.634,
             4.547
            ],
            "coloraxis": "coloraxis",
            "symbol": "circle"
           },
           "mode": "markers",
           "name": "",
           "orientation": "v",
           "showlegend": false,
           "type": "scatter",
           "x": [
            0.00438,
            0.0762,
            0.141,
            0.089,
            2.67,
            0.0791
           ],
           "xaxis": "x",
           "y": [
            2.582,
            2.838,
            2.526,
            2.599,
            4.634,
            4.547
           ],
           "yaxis": "y"
          }
         ],
         "name": "1818"
        },
        {
         "data": [
          {
           "hovertemplate": "<b>%{hovertext}</b><br><br>year=1819<br>CO2 Emissions (Metric Tons per Capita)=%{x}<br>Fertility Rate=%{marker.color}<extra></extra>",
           "hovertext": [
            "Austria",
            "Canada",
            "France",
            "Germany",
            "Poland",
            "United Kingdom",
            "United States"
           ],
           "ids": [
            "Austria",
            "Canada",
            "France",
            "Germany",
            "Poland",
            "United Kingdom",
            "United States"
           ],
           "legendgroup": "",
           "marker": {
            "color": [
             6.221,
             6.492000000000001,
             6.489,
             6.8660000000000005,
             2.54,
             4.997,
             4.888999999999999
            ],
            "coloraxis": "coloraxis",
            "symbol": "circle"
           },
           "mode": "markers",
           "name": "",
           "orientation": "v",
           "showlegend": false,
           "type": "scatter",
           "x": [
            0.0749,
            0.00427,
            0.0815,
            0.13,
            0.0727,
            2.65,
            0.0754
           ],
           "xaxis": "x",
           "y": [
            6.221,
            6.492000000000001,
            6.489,
            6.8660000000000005,
            2.54,
            4.997,
            4.888999999999999
           ],
           "yaxis": "y"
          }
         ],
         "name": "1819"
        },
        {
         "data": [
          {
           "hovertemplate": "<b>%{hovertext}</b><br><br>year=1820<br>CO2 Emissions (Metric Tons per Capita)=%{x}<br>Fertility Rate=%{marker.color}<extra></extra>",
           "hovertext": [
            "Austria",
            "Canada",
            "France",
            "Germany",
            "Poland",
            "United Kingdom",
            "United States"
           ],
           "ids": [
            "Austria",
            "Canada",
            "France",
            "Germany",
            "Poland",
            "United Kingdom",
            "United States"
           ],
           "legendgroup": "",
           "marker": {
            "color": [
             3.148,
             5.8020000000000005,
             3.0010000000000003,
             3.959,
             1.826,
             2.136,
             2.131
            ],
            "coloraxis": "coloraxis",
            "symbol": "circle"
           },
           "mode": "markers",
           "name": "",
           "orientation": "v",
           "showlegend": false,
           "type": "scatter",
           "x": [
            0.0984,
            0.00417,
            0.0921,
            0.133,
            0.0712,
            2.62,
            0.0764
           ],
           "xaxis": "x",
           "y": [
            3.148,
            5.8020000000000005,
            3.0010000000000003,
            3.959,
            1.826,
            2.136,
            2.131
           ],
           "yaxis": "y"
          }
         ],
         "name": "1820"
        },
        {
         "data": [
          {
           "hovertemplate": "<b>%{hovertext}</b><br><br>year=1821<br>CO2 Emissions (Metric Tons per Capita)=%{x}<br>Fertility Rate=%{marker.color}<extra></extra>",
           "hovertext": [
            "Austria",
            "Canada",
            "France",
            "Germany",
            "Poland",
            "United Kingdom",
            "United States"
           ],
           "ids": [
            "Austria",
            "Canada",
            "France",
            "Germany",
            "Poland",
            "United Kingdom",
            "United States"
           ],
           "legendgroup": "",
           "marker": {
            "color": [
             2.061,
             5,
             2.817,
             2.6,
             6.515,
             6.747999999999999,
             6.658
            ],
            "coloraxis": "coloraxis",
            "symbol": "circle"
           },
           "mode": "markers",
           "name": "",
           "orientation": "v",
           "showlegend": false,
           "type": "scatter",
           "x": [
            0.106,
            0.00406,
            0.0951,
            0.137,
            0.0784,
            2.61,
            0.078
           ],
           "xaxis": "x",
           "y": [
            2.061,
            5,
            2.817,
            2.6,
            6.515,
            6.747999999999999,
            6.658
           ],
           "yaxis": "y"
          }
         ],
         "name": "1821"
        },
        {
         "data": [
          {
           "hovertemplate": "<b>%{hovertext}</b><br><br>year=1822<br>CO2 Emissions (Metric Tons per Capita)=%{x}<br>Fertility Rate=%{marker.color}<extra></extra>",
           "hovertext": [
            "Austria",
            "Canada",
            "France",
            "Germany",
            "Poland",
            "United Kingdom",
            "United States"
           ],
           "ids": [
            "Austria",
            "Canada",
            "France",
            "Germany",
            "Poland",
            "United Kingdom",
            "United States"
           ],
           "legendgroup": "",
           "marker": {
            "color": [
             5.233,
             3.83,
             1.919,
             1.958,
             2.244,
             5.477,
             5.305
            ],
            "coloraxis": "coloraxis",
            "symbol": "circle"
           },
           "mode": "markers",
           "name": "",
           "orientation": "v",
           "showlegend": false,
           "type": "scatter",
           "x": [
            0.107,
            0.00395,
            0.0996,
            0.14,
            0.0855,
            2.67,
            0.0795
           ],
           "xaxis": "x",
           "y": [
            5.233,
            3.83,
            1.919,
            1.958,
            2.244,
            5.477,
            5.305
           ],
           "yaxis": "y"
          }
         ],
         "name": "1822"
        },
        {
         "data": [
          {
           "hovertemplate": "<b>%{hovertext}</b><br><br>year=1823<br>CO2 Emissions (Metric Tons per Capita)=%{x}<br>Fertility Rate=%{marker.color}<extra></extra>",
           "hovertext": [
            "Austria",
            "Canada",
            "France",
            "Germany",
            "Poland",
            "United Kingdom",
            "United States"
           ],
           "ids": [
            "Austria",
            "Canada",
            "France",
            "Germany",
            "Poland",
            "United Kingdom",
            "United States"
           ],
           "legendgroup": "",
           "marker": {
            "color": [
             3.005,
             2.334,
             1.607,
             1.467,
             3.918,
             2.487,
             2.455
            ],
            "coloraxis": "coloraxis",
            "symbol": "circle"
           },
           "mode": "markers",
           "name": "",
           "orientation": "v",
           "showlegend": false,
           "type": "scatter",
           "x": [
            0.102,
            0.00384,
            0.0991,
            0.154,
            0.114,
            2.77,
            0.0807
           ],
           "xaxis": "x",
           "y": [
            3.005,
            2.334,
            1.607,
            1.467,
            3.918,
            2.487,
            2.455
           ],
           "yaxis": "y"
          }
         ],
         "name": "1823"
        },
        {
         "data": [
          {
           "hovertemplate": "<b>%{hovertext}</b><br><br>year=1824<br>CO2 Emissions (Metric Tons per Capita)=%{x}<br>Fertility Rate=%{marker.color}<extra></extra>",
           "hovertext": [
            "Austria",
            "Canada",
            "France",
            "Germany",
            "Poland",
            "United Kingdom",
            "United States"
           ],
           "ids": [
            "Austria",
            "Canada",
            "France",
            "Germany",
            "Poland",
            "United Kingdom",
            "United States"
           ],
           "legendgroup": "",
           "marker": {
            "color": [
             7.366,
             4.99,
             5.053,
             4.855,
             2.005,
             1.2009999999999998,
             1.195
            ],
            "coloraxis": "coloraxis",
            "symbol": "circle"
           },
           "mode": "markers",
           "name": "",
           "orientation": "v",
           "showlegend": false,
           "type": "scatter",
           "x": [
            0.116,
            0.00373,
            0.109,
            0.123,
            0.118,
            2.87,
            0.0886
           ],
           "xaxis": "x",
           "y": [
            7.366,
            4.99,
            5.053,
            4.855,
            2.005,
            1.2009999999999998,
            1.195
           ],
           "yaxis": "y"
          }
         ],
         "name": "1824"
        },
        {
         "data": [
          {
           "hovertemplate": "<b>%{hovertext}</b><br><br>year=1825<br>CO2 Emissions (Metric Tons per Capita)=%{x}<br>Fertility Rate=%{marker.color}<extra></extra>",
           "hovertext": [
            "Austria",
            "Canada",
            "France",
            "Germany",
            "Poland",
            "United Kingdom",
            "United States"
           ],
           "ids": [
            "Austria",
            "Canada",
            "France",
            "Germany",
            "Poland",
            "United Kingdom",
            "United States"
           ],
           "legendgroup": "",
           "marker": {
            "color": [
             6.809,
             2.3,
             4.615,
             4.15,
             4.19,
             1.275,
             1.216
            ],
            "coloraxis": "coloraxis",
            "symbol": "circle"
           },
           "mode": "markers",
           "name": "",
           "orientation": "v",
           "showlegend": false,
           "type": "scatter",
           "x": [
            0.117,
            0.00362,
            0.123,
            0.163,
            0.122,
            2.86,
            0.0965
           ],
           "xaxis": "x",
           "y": [
            6.809,
            2.3,
            4.615,
            4.15,
            4.19,
            1.275,
            1.216
           ],
           "yaxis": "y"
          }
         ],
         "name": "1825"
        },
        {
         "data": [
          {
           "hovertemplate": "<b>%{hovertext}</b><br><br>year=1826<br>CO2 Emissions (Metric Tons per Capita)=%{x}<br>Fertility Rate=%{marker.color}<extra></extra>",
           "hovertext": [
            "Austria",
            "Canada",
            "France",
            "Germany",
            "Poland",
            "United Kingdom",
            "United States"
           ],
           "ids": [
            "Austria",
            "Canada",
            "France",
            "Germany",
            "Poland",
            "United Kingdom",
            "United States"
           ],
           "legendgroup": "",
           "marker": {
            "color": [
             5.501,
             3.379,
             5.8020000000000005,
             5.807,
             6.336,
             5.581,
             5.263
            ],
            "coloraxis": "coloraxis",
            "symbol": "circle"
           },
           "mode": "markers",
           "name": "",
           "orientation": "v",
           "showlegend": false,
           "type": "scatter",
           "x": [
            0.132,
            0.0035,
            0.126,
            0.156,
            0.112,
            2.85,
            0.109
           ],
           "xaxis": "x",
           "y": [
            5.501,
            3.379,
            5.8020000000000005,
            5.807,
            6.336,
            5.581,
            5.263
           ],
           "yaxis": "y"
          }
         ],
         "name": "1826"
        },
        {
         "data": [
          {
           "hovertemplate": "<b>%{hovertext}</b><br><br>year=1827<br>CO2 Emissions (Metric Tons per Capita)=%{x}<br>Fertility Rate=%{marker.color}<extra></extra>",
           "hovertext": [
            "Austria",
            "Canada",
            "France",
            "Germany",
            "Poland",
            "United Kingdom",
            "United States"
           ],
           "ids": [
            "Austria",
            "Canada",
            "France",
            "Germany",
            "Poland",
            "United Kingdom",
            "United States"
           ],
           "legendgroup": "",
           "marker": {
            "color": [
             2.69,
             2.1,
             1.386,
             1.487,
             2.021,
             2.567,
             2.537
            ],
            "coloraxis": "coloraxis",
            "symbol": "circle"
           },
           "mode": "markers",
           "name": "",
           "orientation": "v",
           "showlegend": false,
           "type": "scatter",
           "x": [
            0.137,
            0.00339,
            0.181,
            0.167,
            0.119,
            2.93,
            0.117
           ],
           "xaxis": "x",
           "y": [
            2.69,
            2.1,
            1.386,
            1.487,
            2.021,
            2.567,
            2.537
           ],
           "yaxis": "y"
          }
         ],
         "name": "1827"
        },
        {
         "data": [
          {
           "hovertemplate": "<b>%{hovertext}</b><br><br>year=1828<br>CO2 Emissions (Metric Tons per Capita)=%{x}<br>Fertility Rate=%{marker.color}<extra></extra>",
           "hovertext": [
            "Austria",
            "Canada",
            "France",
            "Germany",
            "Poland",
            "United Kingdom",
            "United States"
           ],
           "ids": [
            "Austria",
            "Canada",
            "France",
            "Germany",
            "Poland",
            "United Kingdom",
            "United States"
           ],
           "legendgroup": "",
           "marker": {
            "color": [
             1.729,
             7.325,
             5.651,
             5.233,
             4.092,
             7.159,
             7.103
            ],
            "coloraxis": "coloraxis",
            "symbol": "circle"
           },
           "mode": "markers",
           "name": "",
           "orientation": "v",
           "showlegend": false,
           "type": "scatter",
           "x": [
            0.131,
            0.00327,
            0.19,
            0.166,
            0.109,
            2.91,
            0.125
           ],
           "xaxis": "x",
           "y": [
            1.729,
            7.325,
            5.651,
            5.233,
            4.092,
            7.159,
            7.103
           ],
           "yaxis": "y"
          }
         ],
         "name": "1828"
        },
        {
         "data": [
          {
           "hovertemplate": "<b>%{hovertext}</b><br><br>year=1829<br>CO2 Emissions (Metric Tons per Capita)=%{x}<br>Fertility Rate=%{marker.color}<extra></extra>",
           "hovertext": [
            "Austria",
            "Canada",
            "France",
            "Germany",
            "Norway",
            "Poland",
            "United Kingdom",
            "United States"
           ],
           "ids": [
            "Austria",
            "Canada",
            "France",
            "Germany",
            "Norway",
            "Poland",
            "United Kingdom",
            "United States"
           ],
           "legendgroup": "",
           "marker": {
            "color": [
             5.783,
             2.287,
             7.044,
             6.947,
             1.3769999999999998,
             4.939,
             6.799,
             6.799
            ],
            "coloraxis": "coloraxis",
            "symbol": "circle"
           },
           "mode": "markers",
           "name": "",
           "orientation": "v",
           "showlegend": false,
           "type": "scatter",
           "x": [
            0.135,
            0.00316,
            0.184,
            0.131,
            0.00998,
            0.0957,
            2.92,
            0.137
           ],
           "xaxis": "x",
           "y": [
            5.783,
            2.287,
            7.044,
            6.947,
            1.3769999999999998,
            4.939,
            6.799,
            6.799
           ],
           "yaxis": "y"
          }
         ],
         "name": "1829"
        },
        {
         "data": [
          {
           "hovertemplate": "<b>%{hovertext}</b><br><br>year=1830<br>CO2 Emissions (Metric Tons per Capita)=%{x}<br>Fertility Rate=%{marker.color}<extra></extra>",
           "hovertext": [
            "Armenia",
            "Austria",
            "Azerbaijan",
            "Belarus",
            "Belgium",
            "Canada",
            "France",
            "Georgia",
            "Germany",
            "Hungary",
            "Kazakhstan",
            "Kyrgyz Republic",
            "Lithuania",
            "Moldova",
            "Norway",
            "Poland",
            "Russia",
            "Spain",
            "Tajikistan",
            "Turkmenistan",
            "Ukraine",
            "United Kingdom",
            "United States",
            "Uzbekistan"
           ],
           "ids": [
            "Armenia",
            "Austria",
            "Azerbaijan",
            "Belarus",
            "Belgium",
            "Canada",
            "France",
            "Georgia",
            "Germany",
            "Hungary",
            "Kazakhstan",
            "Kyrgyz Republic",
            "Lithuania",
            "Moldova",
            "Norway",
            "Poland",
            "Russia",
            "Spain",
            "Tajikistan",
            "Turkmenistan",
            "Ukraine",
            "United Kingdom",
            "United States",
            "Uzbekistan"
           ],
           "legendgroup": "",
           "marker": {
            "color": [
             6.367999999999999,
             6.263999999999999,
             6.218999999999999,
             6.023,
             5.978,
             5.15,
             2.325,
             2.256,
             2.272,
             2.071,
             1.544,
             1.501,
             7.917999999999999,
             7.12,
             4.587,
             4.082,
             6.767,
             4.51,
             3.199,
             2.61,
             2.484,
             2.4130000000000003,
             2.379,
             2.313
            ],
            "coloraxis": "coloraxis",
            "symbol": "circle"
           },
           "mode": "markers",
           "name": "",
           "orientation": "v",
           "showlegend": false,
           "type": "scatter",
           "x": [
            0.00007,
            0.14,
            0.00032,
            0.00019,
            1.65,
            0.00305,
            0.198,
            0.00007,
            0.171,
            0.0255,
            0.00064,
            0.00011,
            0.00014,
            0.00015,
            0.00657,
            0.0881,
            0.00033,
            0.00028,
            0.00008,
            0.00045,
            0.00028,
            3.66,
            0.155,
            0.00029
           ],
           "xaxis": "x",
           "y": [
            6.367999999999999,
            6.263999999999999,
            6.218999999999999,
            6.023,
            5.978,
            5.15,
            2.325,
            2.256,
            2.272,
            2.071,
            1.544,
            1.501,
            7.917999999999999,
            7.12,
            4.587,
            4.082,
            6.767,
            4.51,
            3.199,
            2.61,
            2.484,
            2.4130000000000003,
            2.379,
            2.313
           ],
           "yaxis": "y"
          }
         ],
         "name": "1830"
        },
        {
         "data": [
          {
           "hovertemplate": "<b>%{hovertext}</b><br><br>year=1831<br>CO2 Emissions (Metric Tons per Capita)=%{x}<br>Fertility Rate=%{marker.color}<extra></extra>",
           "hovertext": [
            "Armenia",
            "Austria",
            "Azerbaijan",
            "Belarus",
            "Belgium",
            "Canada",
            "France",
            "Georgia",
            "Germany",
            "Hungary",
            "Kazakhstan",
            "Kyrgyz Republic",
            "Lithuania",
            "Moldova",
            "Norway",
            "Poland",
            "Russia",
            "Spain",
            "Tajikistan",
            "Turkmenistan",
            "Ukraine",
            "United Kingdom",
            "United States",
            "Uzbekistan"
           ],
           "ids": [
            "Armenia",
            "Austria",
            "Azerbaijan",
            "Belarus",
            "Belgium",
            "Canada",
            "France",
            "Georgia",
            "Germany",
            "Hungary",
            "Kazakhstan",
            "Kyrgyz Republic",
            "Lithuania",
            "Moldova",
            "Norway",
            "Poland",
            "Russia",
            "Spain",
            "Tajikistan",
            "Turkmenistan",
            "Ukraine",
            "United Kingdom",
            "United States",
            "Uzbekistan"
           ],
           "legendgroup": "",
           "marker": {
            "color": [
             6.8420000000000005,
             6.682,
             6.586,
             6.129,
             6.02,
             4.6080000000000005,
             2.483,
             2.454,
             2.462,
             2.506,
             1.535,
             1.487,
             1.456,
             6.78,
             3.451,
             2.089,
             2.254,
             2.59,
             2.104,
             1.815,
             1.82,
             1.826,
             1.823,
             1.804
            ],
            "coloraxis": "coloraxis",
            "symbol": "circle"
           },
           "mode": "markers",
           "name": "",
           "orientation": "v",
           "showlegend": false,
           "type": "scatter",
           "x": [
            0.00008,
            0.135,
            0.00038,
            0.00022,
            1.18,
            0.00294,
            0.182,
            0.00008,
            0.162,
            0.0155,
            0.00076,
            0.00013,
            0.00017,
            0.00017,
            0.00325,
            0.0716,
            0.0004,
            0.00028,
            0.00009,
            0.00053,
            0.00033,
            3.51,
            0.163,
            0.00035
           ],
           "xaxis": "x",
           "y": [
            6.8420000000000005,
            6.682,
            6.586,
            6.129,
            6.02,
            4.6080000000000005,
            2.483,
            2.454,
            2.462,
            2.506,
            1.535,
            1.487,
            1.456,
            6.78,
            3.451,
            2.089,
            2.254,
            2.59,
            2.104,
            1.815,
            1.82,
            1.826,
            1.823,
            1.804
           ],
           "yaxis": "y"
          }
         ],
         "name": "1831"
        },
        {
         "data": [
          {
           "hovertemplate": "<b>%{hovertext}</b><br><br>year=1832<br>CO2 Emissions (Metric Tons per Capita)=%{x}<br>Fertility Rate=%{marker.color}<extra></extra>",
           "hovertext": [
            "Armenia",
            "Austria",
            "Azerbaijan",
            "Belarus",
            "Belgium",
            "Canada",
            "France",
            "Georgia",
            "Germany",
            "Hungary",
            "Kazakhstan",
            "Kyrgyz Republic",
            "Lithuania",
            "Moldova",
            "Poland",
            "Russia",
            "Spain",
            "Tajikistan",
            "Turkmenistan",
            "Ukraine",
            "United Kingdom",
            "United States",
            "Uzbekistan"
           ],
           "ids": [
            "Armenia",
            "Austria",
            "Azerbaijan",
            "Belarus",
            "Belgium",
            "Canada",
            "France",
            "Georgia",
            "Germany",
            "Hungary",
            "Kazakhstan",
            "Kyrgyz Republic",
            "Lithuania",
            "Moldova",
            "Poland",
            "Russia",
            "Spain",
            "Tajikistan",
            "Turkmenistan",
            "Ukraine",
            "United Kingdom",
            "United States",
            "Uzbekistan"
           ],
           "legendgroup": "",
           "marker": {
            "color": [
             7.081,
             6.952999999999999,
             6.871,
             6.38,
             6.273,
             4.387,
             6.601,
             6.591,
             6.586,
             6.474,
             6.086,
             5.88,
             5.669,
             6.024,
             2.945,
             2.59,
             6.236000000000001,
             6.647,
             5.893,
             5.4910000000000005,
             5.227,
             5.098,
             4.842
            ],
            "coloraxis": "coloraxis",
            "symbol": "circle"
           },
           "mode": "markers",
           "name": "",
           "orientation": "v",
           "showlegend": false,
           "type": "scatter",
           "x": [
            0.00006,
            0.144,
            0.00025,
            0.00015,
            1.24,
            0.00283,
            0.199,
            0.00006,
            0.12,
            0.0194,
            0.0005,
            0.00008,
            0.00011,
            0.00012,
            0.0907,
            0.00026,
            0.00028,
            0.00006,
            0.00035,
            0.00022,
            3.46,
            0.212,
            0.00023
           ],
           "xaxis": "x",
           "y": [
            7.081,
            6.952999999999999,
            6.871,
            6.38,
            6.273,
            4.387,
            6.601,
            6.591,
            6.586,
            6.474,
            6.086,
            5.88,
            5.669,
            6.024,
            2.945,
            2.59,
            6.236000000000001,
            6.647,
            5.893,
            5.4910000000000005,
            5.227,
            5.098,
            4.842
           ],
           "yaxis": "y"
          }
         ],
         "name": "1832"
        },
        {
         "data": [
          {
           "hovertemplate": "<b>%{hovertext}</b><br><br>year=1833<br>CO2 Emissions (Metric Tons per Capita)=%{x}<br>Fertility Rate=%{marker.color}<extra></extra>",
           "hovertext": [
            "Armenia",
            "Austria",
            "Azerbaijan",
            "Belarus",
            "Belgium",
            "Canada",
            "France",
            "Georgia",
            "Germany",
            "Hungary",
            "Kazakhstan",
            "Kyrgyz Republic",
            "Lithuania",
            "Moldova",
            "Poland",
            "Russia",
            "Spain",
            "Tajikistan",
            "Turkmenistan",
            "Ukraine",
            "United Kingdom",
            "United States",
            "Uzbekistan"
           ],
           "ids": [
            "Armenia",
            "Austria",
            "Azerbaijan",
            "Belarus",
            "Belgium",
            "Canada",
            "France",
            "Georgia",
            "Germany",
            "Hungary",
            "Kazakhstan",
            "Kyrgyz Republic",
            "Lithuania",
            "Moldova",
            "Poland",
            "Russia",
            "Spain",
            "Tajikistan",
            "Turkmenistan",
            "Ukraine",
            "United Kingdom",
            "United States",
            "Uzbekistan"
           ],
           "legendgroup": "",
           "marker": {
            "color": [
             3.4360000000000004,
             3.295,
             3.229,
             5.997000000000001,
             5.996,
             5.76,
             2.755,
             2.389,
             2.3,
             1.9,
             1.51,
             1.55,
             1.56,
             1.759,
             2.32,
             2.3,
             1.99,
             5.28,
             4.1,
             3.551,
             3.3510000000000004,
             3.274,
             3.144
            ],
            "coloraxis": "coloraxis",
            "symbol": "circle"
           },
           "mode": "markers",
           "name": "",
           "orientation": "v",
           "showlegend": false,
           "type": "scatter",
           "x": [
            0.00007,
            0.119,
            0.00031,
            0.00018,
            1.19,
            0.00273,
            0.215,
            0.00007,
            0.151,
            0.0145,
            0.00062,
            0.0001,
            0.00014,
            0.00014,
            0.0936,
            0.00032,
            0.00028,
            0.00008,
            0.00044,
            0.00027,
            3.41,
            0.241,
            0.00028
           ],
           "xaxis": "x",
           "y": [
            3.4360000000000004,
            3.295,
            3.229,
            5.997000000000001,
            5.996,
            5.76,
            2.755,
            2.389,
            2.3,
            1.9,
            1.51,
            1.55,
            1.56,
            1.759,
            2.32,
            2.3,
            1.99,
            5.28,
            4.1,
            3.551,
            3.3510000000000004,
            3.274,
            3.144
           ],
           "yaxis": "y"
          }
         ],
         "name": "1833"
        },
        {
         "data": [
          {
           "hovertemplate": "<b>%{hovertext}</b><br><br>year=1834<br>CO2 Emissions (Metric Tons per Capita)=%{x}<br>Fertility Rate=%{marker.color}<extra></extra>",
           "hovertext": [
            "Austria",
            "Belgium",
            "Canada",
            "France",
            "Germany",
            "Hungary",
            "Poland",
            "Spain",
            "Sweden",
            "United Kingdom",
            "United States"
           ],
           "ids": [
            "Austria",
            "Belgium",
            "Canada",
            "France",
            "Germany",
            "Hungary",
            "Poland",
            "Spain",
            "Sweden",
            "United Kingdom",
            "United States"
           ],
           "legendgroup": "",
           "marker": {
            "color": [
             2.337,
             2.221,
             2.90378,
             1.96176,
             2.052,
             7.01,
             7.654,
             7.742999999999999,
             7.593,
             6.669,
             6.706
            ],
            "coloraxis": "coloraxis",
            "symbol": "circle"
           },
           "mode": "markers",
           "name": "",
           "orientation": "v",
           "showlegend": false,
           "type": "scatter",
           "x": [
            0.163,
            1.14,
            0.00263,
            0.264,
            0.151,
            0.0152,
            0.0976,
            0.00027,
            0.0111,
            3.37,
            0.224
           ],
           "xaxis": "x",
           "y": [
            2.337,
            2.221,
            2.90378,
            1.96176,
            2.052,
            7.01,
            7.654,
            7.742999999999999,
            7.593,
            6.669,
            6.706
           ],
           "yaxis": "y"
          }
         ],
         "name": "1834"
        },
        {
         "data": [
          {
           "hovertemplate": "<b>%{hovertext}</b><br><br>year=1835<br>CO2 Emissions (Metric Tons per Capita)=%{x}<br>Fertility Rate=%{marker.color}<extra></extra>",
           "hovertext": [
            "Austria",
            "Belgium",
            "Canada",
            "France",
            "Germany",
            "Hungary",
            "Norway",
            "Poland",
            "Spain",
            "United Kingdom",
            "United States"
           ],
           "ids": [
            "Austria",
            "Belgium",
            "Canada",
            "France",
            "Germany",
            "Hungary",
            "Norway",
            "Poland",
            "Spain",
            "United Kingdom",
            "United States"
           ],
           "legendgroup": "",
           "marker": {
            "color": [
             6.348,
             6.099,
             2.96,
             1.86,
             1.86,
             1.9,
             2.901,
             6.601,
             5.899,
             5.559,
             5.472
            ],
            "coloraxis": "coloraxis",
            "symbol": "circle"
           },
           "mode": "markers",
           "name": "",
           "orientation": "v",
           "showlegend": false,
           "type": "scatter",
           "x": [
            0.175,
            1.22,
            0.00253,
            0.272,
            0.167,
            0.0111,
            0.0124,
            0.104,
            0.00027,
            3.32,
            0.278
           ],
           "xaxis": "x",
           "y": [
            6.348,
            6.099,
            2.96,
            1.86,
            1.86,
            1.9,
            2.901,
            6.601,
            5.899,
            5.559,
            5.472
           ],
           "yaxis": "y"
          }
         ],
         "name": "1835"
        },
        {
         "data": [
          {
           "hovertemplate": "<b>%{hovertext}</b><br><br>year=1836<br>CO2 Emissions (Metric Tons per Capita)=%{x}<br>Fertility Rate=%{marker.color}<extra></extra>",
           "hovertext": [
            "Austria",
            "Belgium",
            "Canada",
            "France",
            "Germany",
            "Hungary",
            "Norway",
            "Poland",
            "Spain",
            "United Kingdom",
            "United States"
           ],
           "ids": [
            "Austria",
            "Belgium",
            "Canada",
            "France",
            "Germany",
            "Hungary",
            "Norway",
            "Poland",
            "Spain",
            "United Kingdom",
            "United States"
           ],
           "legendgroup": "",
           "marker": {
            "color": [
             3.41,
             2.982,
             2.667,
             5.21,
             4.861000000000001,
             4.557,
             3.512,
             2.897,
             4.598,
             2.579,
             2.545
            ],
            "coloraxis": "coloraxis",
            "symbol": "circle"
           },
           "mode": "markers",
           "name": "",
           "orientation": "v",
           "showlegend": false,
           "type": "scatter",
           "x": [
            0.185,
            1.42,
            0.00244,
            0.311,
            0.174,
            0.0181,
            0.0153,
            0.117,
            0.00162,
            3.84,
            0.296
           ],
           "xaxis": "x",
           "y": [
            3.41,
            2.982,
            2.667,
            5.21,
            4.861000000000001,
            4.557,
            3.512,
            2.897,
            4.598,
            2.579,
            2.545
           ],
           "yaxis": "y"
          }
         ],
         "name": "1836"
        },
        {
         "data": [
          {
           "hovertemplate": "<b>%{hovertext}</b><br><br>year=1837<br>CO2 Emissions (Metric Tons per Capita)=%{x}<br>Fertility Rate=%{marker.color}<extra></extra>",
           "hovertext": [
            "Austria",
            "Belgium",
            "Canada",
            "France",
            "Germany",
            "Hungary",
            "Norway",
            "Poland",
            "Spain",
            "United Kingdom",
            "United States"
           ],
           "ids": [
            "Austria",
            "Belgium",
            "Canada",
            "France",
            "Germany",
            "Hungary",
            "Norway",
            "Poland",
            "Spain",
            "United Kingdom",
            "United States"
           ],
           "legendgroup": "",
           "marker": {
            "color": [
             5.506,
             4.795,
             3.888,
             2.266,
             2.319,
             1.979,
             1.4880000000000002,
             1.425,
             2.864,
             1.897,
             1.864
            ],
            "coloraxis": "coloraxis",
            "symbol": "circle"
           },
           "mode": "markers",
           "name": "",
           "orientation": "v",
           "showlegend": false,
           "type": "scatter",
           "x": [
            0.193,
            1.51,
            0.00235,
            0.33,
            0.197,
            0.0148,
            0.0212,
            0.125,
            0.00268,
            3.67,
            0.323
           ],
           "xaxis": "x",
           "y": [
            5.506,
            4.795,
            3.888,
            2.266,
            2.319,
            1.979,
            1.4880000000000002,
            1.425,
            2.864,
            1.897,
            1.864
           ],
           "yaxis": "y"
          }
         ],
         "name": "1837"
        },
        {
         "data": [
          {
           "hovertemplate": "<b>%{hovertext}</b><br><br>year=1838<br>CO2 Emissions (Metric Tons per Capita)=%{x}<br>Fertility Rate=%{marker.color}<extra></extra>",
           "hovertext": [
            "Austria",
            "Belgium",
            "Canada",
            "France",
            "Germany",
            "Hungary",
            "Norway",
            "Poland",
            "Spain",
            "United Kingdom",
            "United States"
           ],
           "ids": [
            "Austria",
            "Belgium",
            "Canada",
            "France",
            "Germany",
            "Hungary",
            "Norway",
            "Poland",
            "Spain",
            "United Kingdom",
            "United States"
           ],
           "legendgroup": "",
           "marker": {
            "color": [
             6.952000000000001,
             6.343999999999999,
             4.016,
             5.119,
             3.812,
             2.772,
             2.3716814159,
             1.318,
             2.006,
             1.5490000000000002,
             1.37
            ],
            "coloraxis": "coloraxis",
            "symbol": "circle"
           },
           "mode": "markers",
           "name": "",
           "orientation": "v",
           "showlegend": false,
           "type": "scatter",
           "x": [
            0.231,
            1.52,
            0.00227,
            0.344,
            0.218,
            0.0132,
            0.0419,
            0.133,
            0.00186,
            3.73,
            0.297
           ],
           "xaxis": "x",
           "y": [
            6.952000000000001,
            6.343999999999999,
            4.016,
            5.119,
            3.812,
            2.772,
            2.3716814159,
            1.318,
            2.006,
            1.5490000000000002,
            1.37
           ],
           "yaxis": "y"
          }
         ],
         "name": "1838"
        },
        {
         "data": [
          {
           "hovertemplate": "<b>%{hovertext}</b><br><br>year=1839<br>CO2 Emissions (Metric Tons per Capita)=%{x}<br>Fertility Rate=%{marker.color}<extra></extra>",
           "hovertext": [
            "Austria",
            "Belgium",
            "Canada",
            "France",
            "Germany",
            "Hungary",
            "Norway",
            "Poland",
            "Spain",
            "Sweden",
            "United Kingdom",
            "United States"
           ],
           "ids": [
            "Austria",
            "Belgium",
            "Canada",
            "France",
            "Germany",
            "Hungary",
            "Norway",
            "Poland",
            "Spain",
            "Sweden",
            "United Kingdom",
            "United States"
           ],
           "legendgroup": "",
           "marker": {
            "color": [
             1.58,
             8.207,
             8.423,
             4.728,
             6.688,
             5.462000000000001,
             4.339,
             3.072,
             2.092,
             7.4,
             5.734,
             5.62
            ],
            "coloraxis": "coloraxis",
            "symbol": "circle"
           },
           "mode": "markers",
           "name": "",
           "orientation": "v",
           "showlegend": false,
           "type": "scatter",
           "x": [
            0.286,
            1.66,
            0.00218,
            0.334,
            0.229,
            0.0292,
            0.0326,
            0.14,
            0.00344,
            0.0142,
            3.79,
            0.317
           ],
           "xaxis": "x",
           "y": [
            1.58,
            8.207,
            8.423,
            4.728,
            6.688,
            5.462000000000001,
            4.339,
            3.072,
            2.092,
            7.4,
            5.734,
            5.62
           ],
           "yaxis": "y"
          }
         ],
         "name": "1839"
        },
        {
         "data": [
          {
           "hovertemplate": "<b>%{hovertext}</b><br><br>year=1840<br>CO2 Emissions (Metric Tons per Capita)=%{x}<br>Fertility Rate=%{marker.color}<extra></extra>",
           "hovertext": [
            "Austria",
            "Belgium",
            "Canada",
            "France",
            "Germany",
            "Hungary",
            "Norway",
            "Poland",
            "Spain",
            "Sweden",
            "United Kingdom",
            "United States"
           ],
           "ids": [
            "Austria",
            "Belgium",
            "Canada",
            "France",
            "Germany",
            "Hungary",
            "Norway",
            "Poland",
            "Spain",
            "Sweden",
            "United Kingdom",
            "United States"
           ],
           "legendgroup": "",
           "marker": {
            "color": [
             4.454,
             4.338,
             6.534,
             4.598,
             4.462,
             7.263999999999999,
             7.338999999999999,
             7.382000000000001,
             5.484,
             5.078,
             2.365,
             2.366
            ],
            "coloraxis": "coloraxis",
            "symbol": "circle"
           },
           "mode": "markers",
           "name": "",
           "orientation": "v",
           "showlegend": false,
           "type": "scatter",
           "x": [
            0.314,
            1.89,
            0.0021,
            0.339,
            0.296,
            0.0283,
            0.0351,
            0.163,
            0.00263,
            0.0129,
            3.91,
            0.328
           ],
           "xaxis": "x",
           "y": [
            4.454,
            4.338,
            6.534,
            4.598,
            4.462,
            7.263999999999999,
            7.338999999999999,
            7.382000000000001,
            5.484,
            5.078,
            2.365,
            2.366
           ],
           "yaxis": "y"
          }
         ],
         "name": "1840"
        },
        {
         "data": [
          {
           "hovertemplate": "<b>%{hovertext}</b><br><br>year=1841<br>CO2 Emissions (Metric Tons per Capita)=%{x}<br>Fertility Rate=%{marker.color}<extra></extra>",
           "hovertext": [
            "Austria",
            "Belgium",
            "Canada",
            "France",
            "Germany",
            "Hungary",
            "Norway",
            "Poland",
            "Spain",
            "Sweden",
            "United Kingdom",
            "United States"
           ],
           "ids": [
            "Austria",
            "Belgium",
            "Canada",
            "France",
            "Germany",
            "Hungary",
            "Norway",
            "Poland",
            "Spain",
            "Sweden",
            "United Kingdom",
            "United States"
           ],
           "legendgroup": "",
           "marker": {
            "color": [
             1.846,
             1.568,
             5.894,
             2.345,
             2.157,
             2.274,
             4.782,
             2.8360000000000003,
             1.74,
             1.41,
             2.541,
             2.514
            ],
            "coloraxis": "coloraxis",
            "symbol": "circle"
           },
           "mode": "markers",
           "name": "",
           "orientation": "v",
           "showlegend": false,
           "type": "scatter",
           "x": [
            0.352,
            1.79,
            0.00202,
            0.395,
            0.305,
            0.0296,
            0.0463,
            0.176,
            0.00731,
            0.0128,
            3.92,
            0.337
           ],
           "xaxis": "x",
           "y": [
            1.846,
            1.568,
            5.894,
            2.345,
            2.157,
            2.274,
            4.782,
            2.8360000000000003,
            1.74,
            1.41,
            2.541,
            2.514
           ],
           "yaxis": "y"
          }
         ],
         "name": "1841"
        },
        {
         "data": [
          {
           "hovertemplate": "<b>%{hovertext}</b><br><br>year=1842<br>CO2 Emissions (Metric Tons per Capita)=%{x}<br>Fertility Rate=%{marker.color}<extra></extra>",
           "hovertext": [
            "Austria",
            "Belgium",
            "Canada",
            "France",
            "Germany",
            "Hungary",
            "Norway",
            "Poland",
            "Spain",
            "Sweden",
            "United Kingdom",
            "United States"
           ],
           "ids": [
            "Austria",
            "Belgium",
            "Canada",
            "France",
            "Germany",
            "Hungary",
            "Norway",
            "Poland",
            "Spain",
            "Sweden",
            "United Kingdom",
            "United States"
           ],
           "legendgroup": "",
           "marker": {
            "color": [
             2.166,
             1.722,
             1.3090000000000002,
             1.631,
             1.425,
             1.217,
             4.54,
             7.261,
             7.149,
             7.567,
             6.869,
             6.769
            ],
            "coloraxis": "coloraxis",
            "symbol": "circle"
           },
           "mode": "markers",
           "name": "",
           "orientation": "v",
           "showlegend": false,
           "type": "scatter",
           "x": [
            0.387,
            1.85,
            0.00195,
            0.414,
            0.345,
            0.0173,
            0.0573,
            0.186,
            0.0101,
            0.0253,
            4.05,
            0.364
           ],
           "xaxis": "x",
           "y": [
            2.166,
            1.722,
            1.3090000000000002,
            1.631,
            1.425,
            1.217,
            4.54,
            7.261,
            7.149,
            7.567,
            6.869,
            6.769
           ],
           "yaxis": "y"
          }
         ],
         "name": "1842"
        },
        {
         "data": [
          {
           "hovertemplate": "<b>%{hovertext}</b><br><br>year=1843<br>CO2 Emissions (Metric Tons per Capita)=%{x}<br>Fertility Rate=%{marker.color}<extra></extra>",
           "hovertext": [
            "Austria",
            "Belgium",
            "Canada",
            "Denmark",
            "France",
            "Germany",
            "Hungary",
            "Norway",
            "Poland",
            "Spain",
            "Sweden",
            "United Kingdom",
            "United States"
           ],
           "ids": [
            "Austria",
            "Belgium",
            "Canada",
            "Denmark",
            "France",
            "Germany",
            "Hungary",
            "Norway",
            "Poland",
            "Spain",
            "Sweden",
            "United Kingdom",
            "United States"
           ],
           "legendgroup": "",
           "marker": {
            "color": [
             4.877,
             4.177,
             2.866,
             6.819,
             6.874,
             6.806,
             6.627000000000001,
             1.2,
             1.375,
             3.633,
             2.904,
             2.252,
             2.263
            ],
            "coloraxis": "coloraxis",
            "symbol": "circle"
           },
           "mode": "markers",
           "name": "",
           "orientation": "v",
           "showlegend": false,
           "type": "scatter",
           "x": [
            0.335,
            1.7,
            0.00188,
            0.0965,
            0.412,
            0.323,
            0.0179,
            0.0482,
            0.182,
            0.0121,
            0.0182,
            4.19,
            0.396
           ],
           "xaxis": "x",
           "y": [
            4.877,
            4.177,
            2.866,
            6.819,
            6.874,
            6.806,
            6.627000000000001,
            1.2,
            1.375,
            3.633,
            2.904,
            2.252,
            2.263
           ],
           "yaxis": "y"
          }
         ],
         "name": "1843"
        },
        {
         "data": [
          {
           "hovertemplate": "<b>%{hovertext}</b><br><br>year=1844<br>CO2 Emissions (Metric Tons per Capita)=%{x}<br>Fertility Rate=%{marker.color}<extra></extra>",
           "hovertext": [
            "Austria",
            "Belgium",
            "Canada",
            "Denmark",
            "France",
            "Germany",
            "Hungary",
            "Norway",
            "Poland",
            "Spain",
            "Sweden",
            "United Kingdom",
            "United States"
           ],
           "ids": [
            "Austria",
            "Belgium",
            "Canada",
            "Denmark",
            "France",
            "Germany",
            "Hungary",
            "Norway",
            "Poland",
            "Spain",
            "Sweden",
            "United Kingdom",
            "United States"
           ],
           "legendgroup": "",
           "marker": {
            "color": [
             6.899,
             6.892,
             6.028,
             4.792,
             5.504,
             4.735,
             3.338,
             6.051,
             4.432,
             1.922,
             1.646,
             1.883,
             1.731
            ],
            "coloraxis": "coloraxis",
            "symbol": "circle"
           },
           "mode": "markers",
           "name": "",
           "orientation": "v",
           "showlegend": false,
           "type": "scatter",
           "x": [
            0.418,
            1.85,
            0.00181,
            0.111,
            0.431,
            0.339,
            0.0378,
            0.0505,
            0.192,
            0.0141,
            0.0304,
            4.36,
            0.461
           ],
           "xaxis": "x",
           "y": [
            6.899,
            6.892,
            6.028,
            4.792,
            5.504,
            4.735,
            3.338,
            6.051,
            4.432,
            1.922,
            1.646,
            1.883,
            1.731
           ],
           "yaxis": "y"
          }
         ],
         "name": "1844"
        },
        {
         "data": [
          {
           "hovertemplate": "<b>%{hovertext}</b><br><br>year=1845<br>CO2 Emissions (Metric Tons per Capita)=%{x}<br>Fertility Rate=%{marker.color}<extra></extra>",
           "hovertext": [
            "Austria",
            "Belgium",
            "Canada",
            "Denmark",
            "France",
            "Germany",
            "Hungary",
            "Norway",
            "Poland",
            "Spain",
            "Sweden",
            "United Kingdom",
            "United States"
           ],
           "ids": [
            "Austria",
            "Belgium",
            "Canada",
            "Denmark",
            "France",
            "Germany",
            "Hungary",
            "Norway",
            "Poland",
            "Spain",
            "Sweden",
            "United Kingdom",
            "United States"
           ],
           "legendgroup": "",
           "marker": {
            "color": [
             1.928,
             2.121,
             1.535,
             1.4369999999999998,
             1.533,
             7.572,
             7.359,
             2.515,
             1.81,
             1.065,
             6.841,
             5.452999999999999,
             5.408
            ],
            "coloraxis": "coloraxis",
            "symbol": "circle"
           },
           "mode": "markers",
           "name": "",
           "orientation": "v",
           "showlegend": false,
           "type": "scatter",
           "x": [
            0.469,
            1.93,
            0.00175,
            0.146,
            0.501,
            0.39,
            0.0177,
            0.0749,
            0.222,
            0.0191,
            0.0268,
            4.62,
            0.539
           ],
           "xaxis": "x",
           "y": [
            1.928,
            2.121,
            1.535,
            1.4369999999999998,
            1.533,
            7.572,
            7.359,
            2.515,
            1.81,
            1.065,
            6.841,
            5.452999999999999,
            5.408
           ],
           "yaxis": "y"
          }
         ],
         "name": "1845"
        },
        {
         "data": [
          {
           "hovertemplate": "<b>%{hovertext}</b><br><br>year=1846<br>CO2 Emissions (Metric Tons per Capita)=%{x}<br>Fertility Rate=%{marker.color}<extra></extra>",
           "hovertext": [
            "Austria",
            "Belgium",
            "Canada",
            "Denmark",
            "France",
            "Germany",
            "Hungary",
            "Netherlands",
            "Norway",
            "Poland",
            "Spain",
            "Sweden",
            "United Kingdom",
            "United States"
           ],
           "ids": [
            "Austria",
            "Belgium",
            "Canada",
            "Denmark",
            "France",
            "Germany",
            "Hungary",
            "Netherlands",
            "Norway",
            "Poland",
            "Spain",
            "Sweden",
            "United Kingdom",
            "United States"
           ],
           "legendgroup": "",
           "marker": {
            "color": [
             3.636,
             3.819,
             6.742999999999999,
             6.081,
             5.638,
             5.49,
             5.763999999999999,
             6.268,
             5.541,
             5.13,
             6.965,
             6.111000000000001,
             7.27,
             7.244
            ],
            "coloraxis": "coloraxis",
            "symbol": "circle"
           },
           "mode": "markers",
           "name": "",
           "orientation": "v",
           "showlegend": false,
           "type": "scatter",
           "x": [
            0.548,
            2.09,
            0.0118,
            0.157,
            0.519,
            0.404,
            0.0124,
            0.948,
            0.0741,
            0.232,
            0.0195,
            0.0243,
            4.39,
            0.594
           ],
           "xaxis": "x",
           "y": [
            3.636,
            3.819,
            6.742999999999999,
            6.081,
            5.638,
            5.49,
            5.763999999999999,
            6.268,
            5.541,
            5.13,
            6.965,
            6.111000000000001,
            7.27,
            7.244
           ],
           "yaxis": "y"
          }
         ],
         "name": "1846"
        },
        {
         "data": [
          {
           "hovertemplate": "<b>%{hovertext}</b><br><br>year=1847<br>CO2 Emissions (Metric Tons per Capita)=%{x}<br>Fertility Rate=%{marker.color}<extra></extra>",
           "hovertext": [
            "Austria",
            "Belgium",
            "Canada",
            "Denmark",
            "France",
            "Germany",
            "Hungary",
            "Netherlands",
            "Norway",
            "Poland",
            "Spain",
            "Sweden",
            "United Kingdom",
            "United States"
           ],
           "ids": [
            "Austria",
            "Belgium",
            "Canada",
            "Denmark",
            "France",
            "Germany",
            "Hungary",
            "Netherlands",
            "Norway",
            "Poland",
            "Spain",
            "Sweden",
            "United Kingdom",
            "United States"
           ],
           "legendgroup": "",
           "marker": {
            "color": [
             5.524,
             5.059,
             6.59,
             5.385,
             4.391,
             4.25,
             3.914,
             1.788,
             1.797,
             6.046,
             2.841,
             2.041,
             5.644,
             5.563
            ],
            "coloraxis": "coloraxis",
            "symbol": "circle"
           },
           "mode": "markers",
           "name": "",
           "orientation": "v",
           "showlegend": false,
           "type": "scatter",
           "x": [
            0.536,
            2.16,
            0.0147,
            0.118,
            0.581,
            0.421,
            0.0327,
            1.27,
            0.0759,
            0.236,
            0.0179,
            0.0241,
            4.7,
            0.683
           ],
           "xaxis": "x",
           "y": [
            5.524,
            5.059,
            6.59,
            5.385,
            4.391,
            4.25,
            3.914,
            1.788,
            1.797,
            6.046,
            2.841,
            2.041,
            5.644,
            5.563
           ],
           "yaxis": "y"
          }
         ],
         "name": "1847"
        },
        {
         "data": [
          {
           "hovertemplate": "<b>%{hovertext}</b><br><br>year=1848<br>CO2 Emissions (Metric Tons per Capita)=%{x}<br>Fertility Rate=%{marker.color}<extra></extra>",
           "hovertext": [
            "Austria",
            "Belgium",
            "Canada",
            "Denmark",
            "France",
            "Germany",
            "Hungary",
            "Netherlands",
            "Norway",
            "Poland",
            "Spain",
            "Sweden",
            "United Kingdom",
            "United States"
           ],
           "ids": [
            "Austria",
            "Belgium",
            "Canada",
            "Denmark",
            "France",
            "Germany",
            "Hungary",
            "Netherlands",
            "Norway",
            "Poland",
            "Spain",
            "Sweden",
            "United Kingdom",
            "United States"
           ],
           "legendgroup": "",
           "marker": {
            "color": [
             3.3,
             2.715,
             2.123,
             5.783,
             4.513,
             4.071000000000001,
             2.741,
             6.903,
             6.582999999999999,
             2.032,
             2.048,
             1.501,
             1.45,
             1.46
            ],
            "coloraxis": "coloraxis",
            "symbol": "circle"
           },
           "mode": "markers",
           "name": "",
           "orientation": "v",
           "showlegend": false,
           "type": "scatter",
           "x": [
            0.597,
            1.9,
            0.0174,
            0.211,
            0.464,
            0.387,
            0,
            1.19,
            0.0965,
            0.235,
            0.02,
            0.0413,
            4.92,
            0.739
           ],
           "xaxis": "x",
           "y": [
            3.3,
            2.715,
            2.123,
            5.783,
            4.513,
            4.071000000000001,
            2.741,
            6.903,
            6.582999999999999,
            2.032,
            2.048,
            1.501,
            1.45,
            1.46
           ],
           "yaxis": "y"
          }
         ],
         "name": "1848"
        },
        {
         "data": [
          {
           "hovertemplate": "<b>%{hovertext}</b><br><br>year=1849<br>CO2 Emissions (Metric Tons per Capita)=%{x}<br>Fertility Rate=%{marker.color}<extra></extra>",
           "hovertext": [
            "Austria",
            "Belgium",
            "Canada",
            "Denmark",
            "France",
            "Germany",
            "Hungary",
            "Netherlands",
            "Norway",
            "Poland",
            "Spain",
            "Sweden",
            "United Kingdom",
            "United States"
           ],
           "ids": [
            "Austria",
            "Belgium",
            "Canada",
            "Denmark",
            "France",
            "Germany",
            "Hungary",
            "Netherlands",
            "Norway",
            "Poland",
            "Spain",
            "Sweden",
            "United Kingdom",
            "United States"
           ],
           "legendgroup": "",
           "marker": {
            "color": [
             5.422999999999999,
             4.86,
             2.532,
             2.613,
             1.726,
             1.796,
             1.766,
             2.0580000000000003,
             1.974,
             2.122,
             2.849,
             2.523,
             2.188,
             2.171
            ],
            "coloraxis": "coloraxis",
            "symbol": "circle"
           },
           "mode": "markers",
           "name": "",
           "orientation": "v",
           "showlegend": false,
           "type": "scatter",
           "x": [
            0.575,
            1.99,
            0.0198,
            0.182,
            0.481,
            0.408,
            0,
            1.08,
            0.0768,
            0.23,
            0.0221,
            0.057,
            5.18,
            0.778
           ],
           "xaxis": "x",
           "y": [
            5.422999999999999,
            4.86,
            2.532,
            2.613,
            1.726,
            1.796,
            1.766,
            2.0580000000000003,
            1.974,
            2.122,
            2.849,
            2.523,
            2.188,
            2.171
           ],
           "yaxis": "y"
          }
         ],
         "name": "1849"
        },
        {
         "data": [
          {
           "hovertemplate": "<b>%{hovertext}</b><br><br>year=1850<br>CO2 Emissions (Metric Tons per Capita)=%{x}<br>Fertility Rate=%{marker.color}<extra></extra>",
           "hovertext": [
            "Armenia",
            "Austria",
            "Azerbaijan",
            "Belarus",
            "Belgium",
            "Canada",
            "Denmark",
            "France",
            "Georgia",
            "Germany",
            "Hungary",
            "Ireland",
            "Kazakhstan",
            "Kyrgyz Republic",
            "Lithuania",
            "Moldova",
            "Netherlands",
            "Norway",
            "Poland",
            "Russia",
            "Spain",
            "Sweden",
            "Tajikistan",
            "Turkmenistan",
            "Ukraine",
            "United Kingdom",
            "United States",
            "Uzbekistan"
           ],
           "ids": [
            "Armenia",
            "Austria",
            "Azerbaijan",
            "Belarus",
            "Belgium",
            "Canada",
            "Denmark",
            "France",
            "Georgia",
            "Germany",
            "Hungary",
            "Ireland",
            "Kazakhstan",
            "Kyrgyz Republic",
            "Lithuania",
            "Moldova",
            "Netherlands",
            "Norway",
            "Poland",
            "Russia",
            "Spain",
            "Sweden",
            "Tajikistan",
            "Turkmenistan",
            "Ukraine",
            "United Kingdom",
            "United States",
            "Uzbekistan"
           ],
           "legendgroup": "",
           "marker": {
            "color": [
             6.492000000000001,
             6.337999999999999,
             6.237,
             5.482,
             5.3020000000000005,
             3.784,
             2.437,
             6.134,
             5.928999999999999,
             5.858,
             5.141,
             4.85,
             4.542,
             4.162,
             3.499,
             4.779,
             3.933,
             3.524,
             2.867,
             2.701,
             6.465,
             5.422999999999999,
             4.865,
             3.5580000000000003,
             3.074,
             2.676,
             2.482,
             2.166
            ],
            "coloraxis": "coloraxis",
            "symbol": "circle"
           },
           "mode": "markers",
           "name": "",
           "orientation": "v",
           "showlegend": false,
           "type": "scatter",
           "x": [
            0.00036,
            0.588,
            0.00165,
            0.00096,
            2.11,
            0.0236,
            0.226,
            0.541,
            0.00037,
            0.45,
            0,
            0.0781,
            0.00331,
            0.00055,
            0.00073,
            0.00076,
            1.01,
            0.0994,
            0.242,
            0.00172,
            0.0333,
            0.0586,
            0.0004,
            0.00232,
            0.00145,
            5.42,
            0.821,
            0.0015
           ],
           "xaxis": "x",
           "y": [
            6.492000000000001,
            6.337999999999999,
            6.237,
            5.482,
            5.3020000000000005,
            3.784,
            2.437,
            6.134,
            5.928999999999999,
            5.858,
            5.141,
            4.85,
            4.542,
            4.162,
            3.499,
            4.779,
            3.933,
            3.524,
            2.867,
            2.701,
            6.465,
            5.422999999999999,
            4.865,
            3.5580000000000003,
            3.074,
            2.676,
            2.482,
            2.166
           ],
           "yaxis": "y"
          }
         ],
         "name": "1850"
        },
        {
         "data": [
          {
           "hovertemplate": "<b>%{hovertext}</b><br><br>year=1851<br>CO2 Emissions (Metric Tons per Capita)=%{x}<br>Fertility Rate=%{marker.color}<extra></extra>",
           "hovertext": [
            "Australia",
            "Austria",
            "Belgium",
            "Canada",
            "Denmark",
            "France",
            "Germany",
            "Hungary",
            "Netherlands",
            "Norway",
            "Poland",
            "Spain",
            "Sweden",
            "United Kingdom",
            "United States"
           ],
           "ids": [
            "Australia",
            "Austria",
            "Belgium",
            "Canada",
            "Denmark",
            "France",
            "Germany",
            "Hungary",
            "Netherlands",
            "Norway",
            "Poland",
            "Spain",
            "Sweden",
            "United Kingdom",
            "United States"
           ],
           "legendgroup": "",
           "marker": {
            "color": [
             1.743,
             5.698,
             4.976,
             2.9730000000000003,
             2.101,
             8.041,
             7.977,
             7.462000000000001,
             6.471,
             5.635,
             4.123,
             2.398,
             7.542000000000001,
             9.03,
             8.925
            ],
            "coloraxis": "coloraxis",
            "symbol": "circle"
           },
           "mode": "markers",
           "name": "",
           "orientation": "v",
           "showlegend": false,
           "type": "scatter",
           "x": [
            0,
            0.586,
            2.28,
            0.0271,
            0.204,
            0.551,
            0.498,
            0.0529,
            0.992,
            0.106,
            0.259,
            0.0341,
            0.0622,
            5.12,
            0.991
           ],
           "xaxis": "x",
           "y": [
            1.743,
            5.698,
            4.976,
            2.9730000000000003,
            2.101,
            8.041,
            7.977,
            7.462000000000001,
            6.471,
            5.635,
            4.123,
            2.398,
            7.542000000000001,
            9.03,
            8.925
           ],
           "yaxis": "y"
          }
         ],
         "name": "1851"
        },
        {
         "data": [
          {
           "hovertemplate": "<b>%{hovertext}</b><br><br>year=1852<br>CO2 Emissions (Metric Tons per Capita)=%{x}<br>Fertility Rate=%{marker.color}<extra></extra>",
           "hovertext": [
            "Australia",
            "Austria",
            "Belgium",
            "Canada",
            "Denmark",
            "France",
            "Germany",
            "Hungary"
           ],
           "ids": [
            "Australia",
            "Austria",
            "Belgium",
            "Canada",
            "Denmark",
            "France",
            "Germany",
            "Hungary"
           ],
           "legendgroup": "",
           "marker": {
            "color": [
             5.393,
             5.199,
             4.075,
             7.377999999999999,
             6.287999999999999,
             5.932,
             5.813,
             7.417000000000001
            ],
            "coloraxis": "coloraxis",
            "symbol": "circle"
           },
           "mode": "markers",
           "name": "",
           "orientation": "v",
           "showlegend": false,
           "type": "scatter",
           "x": [
            0,
            0.701,
            2.54,
            0.0318,
            0.216,
            0.591,
            0.561,
            0.0659
           ],
           "xaxis": "x",
           "y": [
            5.393,
            5.199,
            4.075,
            7.377999999999999,
            6.287999999999999,
            5.932,
            5.813,
            7.417000000000001
           ],
           "yaxis": "y"
          }
         ],
         "name": "1852"
        }
       ],
       "layout": {
        "coloraxis": {
         "colorbar": {
          "title": {
           "text": "Fertility Rate"
          }
         },
         "colorscale": [
          [
           0,
           "#0d0887"
          ],
          [
           0.1111111111111111,
           "#46039f"
          ],
          [
           0.2222222222222222,
           "#7201a8"
          ],
          [
           0.3333333333333333,
           "#9c179e"
          ],
          [
           0.4444444444444444,
           "#bd3786"
          ],
          [
           0.5555555555555556,
           "#d8576b"
          ],
          [
           0.6666666666666666,
           "#ed7953"
          ],
          [
           0.7777777777777778,
           "#fb9f3a"
          ],
          [
           0.8888888888888888,
           "#fdca26"
          ],
          [
           1,
           "#f0f921"
          ]
         ]
        },
        "legend": {
         "tracegroupgap": 0
        },
        "margin": {
         "t": 60
        },
        "sliders": [
         {
          "active": 0,
          "currentvalue": {
           "prefix": "year="
          },
          "len": 0.9,
          "pad": {
           "b": 10,
           "t": 60
          },
          "steps": [
           {
            "args": [
             [
              "1800"
             ],
             {
              "frame": {
               "duration": 0,
               "redraw": false
              },
              "fromcurrent": true,
              "mode": "immediate",
              "transition": {
               "duration": 0,
               "easing": "linear"
              }
             }
            ],
            "label": "1800",
            "method": "animate"
           },
           {
            "args": [
             [
              "1801"
             ],
             {
              "frame": {
               "duration": 0,
               "redraw": false
              },
              "fromcurrent": true,
              "mode": "immediate",
              "transition": {
               "duration": 0,
               "easing": "linear"
              }
             }
            ],
            "label": "1801",
            "method": "animate"
           },
           {
            "args": [
             [
              "1802"
             ],
             {
              "frame": {
               "duration": 0,
               "redraw": false
              },
              "fromcurrent": true,
              "mode": "immediate",
              "transition": {
               "duration": 0,
               "easing": "linear"
              }
             }
            ],
            "label": "1802",
            "method": "animate"
           },
           {
            "args": [
             [
              "1803"
             ],
             {
              "frame": {
               "duration": 0,
               "redraw": false
              },
              "fromcurrent": true,
              "mode": "immediate",
              "transition": {
               "duration": 0,
               "easing": "linear"
              }
             }
            ],
            "label": "1803",
            "method": "animate"
           },
           {
            "args": [
             [
              "1804"
             ],
             {
              "frame": {
               "duration": 0,
               "redraw": false
              },
              "fromcurrent": true,
              "mode": "immediate",
              "transition": {
               "duration": 0,
               "easing": "linear"
              }
             }
            ],
            "label": "1804",
            "method": "animate"
           },
           {
            "args": [
             [
              "1805"
             ],
             {
              "frame": {
               "duration": 0,
               "redraw": false
              },
              "fromcurrent": true,
              "mode": "immediate",
              "transition": {
               "duration": 0,
               "easing": "linear"
              }
             }
            ],
            "label": "1805",
            "method": "animate"
           },
           {
            "args": [
             [
              "1806"
             ],
             {
              "frame": {
               "duration": 0,
               "redraw": false
              },
              "fromcurrent": true,
              "mode": "immediate",
              "transition": {
               "duration": 0,
               "easing": "linear"
              }
             }
            ],
            "label": "1806",
            "method": "animate"
           },
           {
            "args": [
             [
              "1807"
             ],
             {
              "frame": {
               "duration": 0,
               "redraw": false
              },
              "fromcurrent": true,
              "mode": "immediate",
              "transition": {
               "duration": 0,
               "easing": "linear"
              }
             }
            ],
            "label": "1807",
            "method": "animate"
           },
           {
            "args": [
             [
              "1808"
             ],
             {
              "frame": {
               "duration": 0,
               "redraw": false
              },
              "fromcurrent": true,
              "mode": "immediate",
              "transition": {
               "duration": 0,
               "easing": "linear"
              }
             }
            ],
            "label": "1808",
            "method": "animate"
           },
           {
            "args": [
             [
              "1809"
             ],
             {
              "frame": {
               "duration": 0,
               "redraw": false
              },
              "fromcurrent": true,
              "mode": "immediate",
              "transition": {
               "duration": 0,
               "easing": "linear"
              }
             }
            ],
            "label": "1809",
            "method": "animate"
           },
           {
            "args": [
             [
              "1810"
             ],
             {
              "frame": {
               "duration": 0,
               "redraw": false
              },
              "fromcurrent": true,
              "mode": "immediate",
              "transition": {
               "duration": 0,
               "easing": "linear"
              }
             }
            ],
            "label": "1810",
            "method": "animate"
           },
           {
            "args": [
             [
              "1811"
             ],
             {
              "frame": {
               "duration": 0,
               "redraw": false
              },
              "fromcurrent": true,
              "mode": "immediate",
              "transition": {
               "duration": 0,
               "easing": "linear"
              }
             }
            ],
            "label": "1811",
            "method": "animate"
           },
           {
            "args": [
             [
              "1812"
             ],
             {
              "frame": {
               "duration": 0,
               "redraw": false
              },
              "fromcurrent": true,
              "mode": "immediate",
              "transition": {
               "duration": 0,
               "easing": "linear"
              }
             }
            ],
            "label": "1812",
            "method": "animate"
           },
           {
            "args": [
             [
              "1813"
             ],
             {
              "frame": {
               "duration": 0,
               "redraw": false
              },
              "fromcurrent": true,
              "mode": "immediate",
              "transition": {
               "duration": 0,
               "easing": "linear"
              }
             }
            ],
            "label": "1813",
            "method": "animate"
           },
           {
            "args": [
             [
              "1814"
             ],
             {
              "frame": {
               "duration": 0,
               "redraw": false
              },
              "fromcurrent": true,
              "mode": "immediate",
              "transition": {
               "duration": 0,
               "easing": "linear"
              }
             }
            ],
            "label": "1814",
            "method": "animate"
           },
           {
            "args": [
             [
              "1815"
             ],
             {
              "frame": {
               "duration": 0,
               "redraw": false
              },
              "fromcurrent": true,
              "mode": "immediate",
              "transition": {
               "duration": 0,
               "easing": "linear"
              }
             }
            ],
            "label": "1815",
            "method": "animate"
           },
           {
            "args": [
             [
              "1816"
             ],
             {
              "frame": {
               "duration": 0,
               "redraw": false
              },
              "fromcurrent": true,
              "mode": "immediate",
              "transition": {
               "duration": 0,
               "easing": "linear"
              }
             }
            ],
            "label": "1816",
            "method": "animate"
           },
           {
            "args": [
             [
              "1817"
             ],
             {
              "frame": {
               "duration": 0,
               "redraw": false
              },
              "fromcurrent": true,
              "mode": "immediate",
              "transition": {
               "duration": 0,
               "easing": "linear"
              }
             }
            ],
            "label": "1817",
            "method": "animate"
           },
           {
            "args": [
             [
              "1818"
             ],
             {
              "frame": {
               "duration": 0,
               "redraw": false
              },
              "fromcurrent": true,
              "mode": "immediate",
              "transition": {
               "duration": 0,
               "easing": "linear"
              }
             }
            ],
            "label": "1818",
            "method": "animate"
           },
           {
            "args": [
             [
              "1819"
             ],
             {
              "frame": {
               "duration": 0,
               "redraw": false
              },
              "fromcurrent": true,
              "mode": "immediate",
              "transition": {
               "duration": 0,
               "easing": "linear"
              }
             }
            ],
            "label": "1819",
            "method": "animate"
           },
           {
            "args": [
             [
              "1820"
             ],
             {
              "frame": {
               "duration": 0,
               "redraw": false
              },
              "fromcurrent": true,
              "mode": "immediate",
              "transition": {
               "duration": 0,
               "easing": "linear"
              }
             }
            ],
            "label": "1820",
            "method": "animate"
           },
           {
            "args": [
             [
              "1821"
             ],
             {
              "frame": {
               "duration": 0,
               "redraw": false
              },
              "fromcurrent": true,
              "mode": "immediate",
              "transition": {
               "duration": 0,
               "easing": "linear"
              }
             }
            ],
            "label": "1821",
            "method": "animate"
           },
           {
            "args": [
             [
              "1822"
             ],
             {
              "frame": {
               "duration": 0,
               "redraw": false
              },
              "fromcurrent": true,
              "mode": "immediate",
              "transition": {
               "duration": 0,
               "easing": "linear"
              }
             }
            ],
            "label": "1822",
            "method": "animate"
           },
           {
            "args": [
             [
              "1823"
             ],
             {
              "frame": {
               "duration": 0,
               "redraw": false
              },
              "fromcurrent": true,
              "mode": "immediate",
              "transition": {
               "duration": 0,
               "easing": "linear"
              }
             }
            ],
            "label": "1823",
            "method": "animate"
           },
           {
            "args": [
             [
              "1824"
             ],
             {
              "frame": {
               "duration": 0,
               "redraw": false
              },
              "fromcurrent": true,
              "mode": "immediate",
              "transition": {
               "duration": 0,
               "easing": "linear"
              }
             }
            ],
            "label": "1824",
            "method": "animate"
           },
           {
            "args": [
             [
              "1825"
             ],
             {
              "frame": {
               "duration": 0,
               "redraw": false
              },
              "fromcurrent": true,
              "mode": "immediate",
              "transition": {
               "duration": 0,
               "easing": "linear"
              }
             }
            ],
            "label": "1825",
            "method": "animate"
           },
           {
            "args": [
             [
              "1826"
             ],
             {
              "frame": {
               "duration": 0,
               "redraw": false
              },
              "fromcurrent": true,
              "mode": "immediate",
              "transition": {
               "duration": 0,
               "easing": "linear"
              }
             }
            ],
            "label": "1826",
            "method": "animate"
           },
           {
            "args": [
             [
              "1827"
             ],
             {
              "frame": {
               "duration": 0,
               "redraw": false
              },
              "fromcurrent": true,
              "mode": "immediate",
              "transition": {
               "duration": 0,
               "easing": "linear"
              }
             }
            ],
            "label": "1827",
            "method": "animate"
           },
           {
            "args": [
             [
              "1828"
             ],
             {
              "frame": {
               "duration": 0,
               "redraw": false
              },
              "fromcurrent": true,
              "mode": "immediate",
              "transition": {
               "duration": 0,
               "easing": "linear"
              }
             }
            ],
            "label": "1828",
            "method": "animate"
           },
           {
            "args": [
             [
              "1829"
             ],
             {
              "frame": {
               "duration": 0,
               "redraw": false
              },
              "fromcurrent": true,
              "mode": "immediate",
              "transition": {
               "duration": 0,
               "easing": "linear"
              }
             }
            ],
            "label": "1829",
            "method": "animate"
           },
           {
            "args": [
             [
              "1830"
             ],
             {
              "frame": {
               "duration": 0,
               "redraw": false
              },
              "fromcurrent": true,
              "mode": "immediate",
              "transition": {
               "duration": 0,
               "easing": "linear"
              }
             }
            ],
            "label": "1830",
            "method": "animate"
           },
           {
            "args": [
             [
              "1831"
             ],
             {
              "frame": {
               "duration": 0,
               "redraw": false
              },
              "fromcurrent": true,
              "mode": "immediate",
              "transition": {
               "duration": 0,
               "easing": "linear"
              }
             }
            ],
            "label": "1831",
            "method": "animate"
           },
           {
            "args": [
             [
              "1832"
             ],
             {
              "frame": {
               "duration": 0,
               "redraw": false
              },
              "fromcurrent": true,
              "mode": "immediate",
              "transition": {
               "duration": 0,
               "easing": "linear"
              }
             }
            ],
            "label": "1832",
            "method": "animate"
           },
           {
            "args": [
             [
              "1833"
             ],
             {
              "frame": {
               "duration": 0,
               "redraw": false
              },
              "fromcurrent": true,
              "mode": "immediate",
              "transition": {
               "duration": 0,
               "easing": "linear"
              }
             }
            ],
            "label": "1833",
            "method": "animate"
           },
           {
            "args": [
             [
              "1834"
             ],
             {
              "frame": {
               "duration": 0,
               "redraw": false
              },
              "fromcurrent": true,
              "mode": "immediate",
              "transition": {
               "duration": 0,
               "easing": "linear"
              }
             }
            ],
            "label": "1834",
            "method": "animate"
           },
           {
            "args": [
             [
              "1835"
             ],
             {
              "frame": {
               "duration": 0,
               "redraw": false
              },
              "fromcurrent": true,
              "mode": "immediate",
              "transition": {
               "duration": 0,
               "easing": "linear"
              }
             }
            ],
            "label": "1835",
            "method": "animate"
           },
           {
            "args": [
             [
              "1836"
             ],
             {
              "frame": {
               "duration": 0,
               "redraw": false
              },
              "fromcurrent": true,
              "mode": "immediate",
              "transition": {
               "duration": 0,
               "easing": "linear"
              }
             }
            ],
            "label": "1836",
            "method": "animate"
           },
           {
            "args": [
             [
              "1837"
             ],
             {
              "frame": {
               "duration": 0,
               "redraw": false
              },
              "fromcurrent": true,
              "mode": "immediate",
              "transition": {
               "duration": 0,
               "easing": "linear"
              }
             }
            ],
            "label": "1837",
            "method": "animate"
           },
           {
            "args": [
             [
              "1838"
             ],
             {
              "frame": {
               "duration": 0,
               "redraw": false
              },
              "fromcurrent": true,
              "mode": "immediate",
              "transition": {
               "duration": 0,
               "easing": "linear"
              }
             }
            ],
            "label": "1838",
            "method": "animate"
           },
           {
            "args": [
             [
              "1839"
             ],
             {
              "frame": {
               "duration": 0,
               "redraw": false
              },
              "fromcurrent": true,
              "mode": "immediate",
              "transition": {
               "duration": 0,
               "easing": "linear"
              }
             }
            ],
            "label": "1839",
            "method": "animate"
           },
           {
            "args": [
             [
              "1840"
             ],
             {
              "frame": {
               "duration": 0,
               "redraw": false
              },
              "fromcurrent": true,
              "mode": "immediate",
              "transition": {
               "duration": 0,
               "easing": "linear"
              }
             }
            ],
            "label": "1840",
            "method": "animate"
           },
           {
            "args": [
             [
              "1841"
             ],
             {
              "frame": {
               "duration": 0,
               "redraw": false
              },
              "fromcurrent": true,
              "mode": "immediate",
              "transition": {
               "duration": 0,
               "easing": "linear"
              }
             }
            ],
            "label": "1841",
            "method": "animate"
           },
           {
            "args": [
             [
              "1842"
             ],
             {
              "frame": {
               "duration": 0,
               "redraw": false
              },
              "fromcurrent": true,
              "mode": "immediate",
              "transition": {
               "duration": 0,
               "easing": "linear"
              }
             }
            ],
            "label": "1842",
            "method": "animate"
           },
           {
            "args": [
             [
              "1843"
             ],
             {
              "frame": {
               "duration": 0,
               "redraw": false
              },
              "fromcurrent": true,
              "mode": "immediate",
              "transition": {
               "duration": 0,
               "easing": "linear"
              }
             }
            ],
            "label": "1843",
            "method": "animate"
           },
           {
            "args": [
             [
              "1844"
             ],
             {
              "frame": {
               "duration": 0,
               "redraw": false
              },
              "fromcurrent": true,
              "mode": "immediate",
              "transition": {
               "duration": 0,
               "easing": "linear"
              }
             }
            ],
            "label": "1844",
            "method": "animate"
           },
           {
            "args": [
             [
              "1845"
             ],
             {
              "frame": {
               "duration": 0,
               "redraw": false
              },
              "fromcurrent": true,
              "mode": "immediate",
              "transition": {
               "duration": 0,
               "easing": "linear"
              }
             }
            ],
            "label": "1845",
            "method": "animate"
           },
           {
            "args": [
             [
              "1846"
             ],
             {
              "frame": {
               "duration": 0,
               "redraw": false
              },
              "fromcurrent": true,
              "mode": "immediate",
              "transition": {
               "duration": 0,
               "easing": "linear"
              }
             }
            ],
            "label": "1846",
            "method": "animate"
           },
           {
            "args": [
             [
              "1847"
             ],
             {
              "frame": {
               "duration": 0,
               "redraw": false
              },
              "fromcurrent": true,
              "mode": "immediate",
              "transition": {
               "duration": 0,
               "easing": "linear"
              }
             }
            ],
            "label": "1847",
            "method": "animate"
           },
           {
            "args": [
             [
              "1848"
             ],
             {
              "frame": {
               "duration": 0,
               "redraw": false
              },
              "fromcurrent": true,
              "mode": "immediate",
              "transition": {
               "duration": 0,
               "easing": "linear"
              }
             }
            ],
            "label": "1848",
            "method": "animate"
           },
           {
            "args": [
             [
              "1849"
             ],
             {
              "frame": {
               "duration": 0,
               "redraw": false
              },
              "fromcurrent": true,
              "mode": "immediate",
              "transition": {
               "duration": 0,
               "easing": "linear"
              }
             }
            ],
            "label": "1849",
            "method": "animate"
           },
           {
            "args": [
             [
              "1850"
             ],
             {
              "frame": {
               "duration": 0,
               "redraw": false
              },
              "fromcurrent": true,
              "mode": "immediate",
              "transition": {
               "duration": 0,
               "easing": "linear"
              }
             }
            ],
            "label": "1850",
            "method": "animate"
           },
           {
            "args": [
             [
              "1851"
             ],
             {
              "frame": {
               "duration": 0,
               "redraw": false
              },
              "fromcurrent": true,
              "mode": "immediate",
              "transition": {
               "duration": 0,
               "easing": "linear"
              }
             }
            ],
            "label": "1851",
            "method": "animate"
           },
           {
            "args": [
             [
              "1852"
             ],
             {
              "frame": {
               "duration": 0,
               "redraw": false
              },
              "fromcurrent": true,
              "mode": "immediate",
              "transition": {
               "duration": 0,
               "easing": "linear"
              }
             }
            ],
            "label": "1852",
            "method": "animate"
           }
          ],
          "x": 0.1,
          "xanchor": "left",
          "y": 0,
          "yanchor": "top"
         }
        ],
        "template": {
         "data": {
          "bar": [
           {
            "error_x": {
             "color": "#2a3f5f"
            },
            "error_y": {
             "color": "#2a3f5f"
            },
            "marker": {
             "line": {
              "color": "#E5ECF6",
              "width": 0.5
             },
             "pattern": {
              "fillmode": "overlay",
              "size": 10,
              "solidity": 0.2
             }
            },
            "type": "bar"
           }
          ],
          "barpolar": [
           {
            "marker": {
             "line": {
              "color": "#E5ECF6",
              "width": 0.5
             },
             "pattern": {
              "fillmode": "overlay",
              "size": 10,
              "solidity": 0.2
             }
            },
            "type": "barpolar"
           }
          ],
          "carpet": [
           {
            "aaxis": {
             "endlinecolor": "#2a3f5f",
             "gridcolor": "white",
             "linecolor": "white",
             "minorgridcolor": "white",
             "startlinecolor": "#2a3f5f"
            },
            "baxis": {
             "endlinecolor": "#2a3f5f",
             "gridcolor": "white",
             "linecolor": "white",
             "minorgridcolor": "white",
             "startlinecolor": "#2a3f5f"
            },
            "type": "carpet"
           }
          ],
          "choropleth": [
           {
            "colorbar": {
             "outlinewidth": 0,
             "ticks": ""
            },
            "type": "choropleth"
           }
          ],
          "contour": [
           {
            "colorbar": {
             "outlinewidth": 0,
             "ticks": ""
            },
            "colorscale": [
             [
              0,
              "#0d0887"
             ],
             [
              0.1111111111111111,
              "#46039f"
             ],
             [
              0.2222222222222222,
              "#7201a8"
             ],
             [
              0.3333333333333333,
              "#9c179e"
             ],
             [
              0.4444444444444444,
              "#bd3786"
             ],
             [
              0.5555555555555556,
              "#d8576b"
             ],
             [
              0.6666666666666666,
              "#ed7953"
             ],
             [
              0.7777777777777778,
              "#fb9f3a"
             ],
             [
              0.8888888888888888,
              "#fdca26"
             ],
             [
              1,
              "#f0f921"
             ]
            ],
            "type": "contour"
           }
          ],
          "contourcarpet": [
           {
            "colorbar": {
             "outlinewidth": 0,
             "ticks": ""
            },
            "type": "contourcarpet"
           }
          ],
          "heatmap": [
           {
            "colorbar": {
             "outlinewidth": 0,
             "ticks": ""
            },
            "colorscale": [
             [
              0,
              "#0d0887"
             ],
             [
              0.1111111111111111,
              "#46039f"
             ],
             [
              0.2222222222222222,
              "#7201a8"
             ],
             [
              0.3333333333333333,
              "#9c179e"
             ],
             [
              0.4444444444444444,
              "#bd3786"
             ],
             [
              0.5555555555555556,
              "#d8576b"
             ],
             [
              0.6666666666666666,
              "#ed7953"
             ],
             [
              0.7777777777777778,
              "#fb9f3a"
             ],
             [
              0.8888888888888888,
              "#fdca26"
             ],
             [
              1,
              "#f0f921"
             ]
            ],
            "type": "heatmap"
           }
          ],
          "heatmapgl": [
           {
            "colorbar": {
             "outlinewidth": 0,
             "ticks": ""
            },
            "colorscale": [
             [
              0,
              "#0d0887"
             ],
             [
              0.1111111111111111,
              "#46039f"
             ],
             [
              0.2222222222222222,
              "#7201a8"
             ],
             [
              0.3333333333333333,
              "#9c179e"
             ],
             [
              0.4444444444444444,
              "#bd3786"
             ],
             [
              0.5555555555555556,
              "#d8576b"
             ],
             [
              0.6666666666666666,
              "#ed7953"
             ],
             [
              0.7777777777777778,
              "#fb9f3a"
             ],
             [
              0.8888888888888888,
              "#fdca26"
             ],
             [
              1,
              "#f0f921"
             ]
            ],
            "type": "heatmapgl"
           }
          ],
          "histogram": [
           {
            "marker": {
             "pattern": {
              "fillmode": "overlay",
              "size": 10,
              "solidity": 0.2
             }
            },
            "type": "histogram"
           }
          ],
          "histogram2d": [
           {
            "colorbar": {
             "outlinewidth": 0,
             "ticks": ""
            },
            "colorscale": [
             [
              0,
              "#0d0887"
             ],
             [
              0.1111111111111111,
              "#46039f"
             ],
             [
              0.2222222222222222,
              "#7201a8"
             ],
             [
              0.3333333333333333,
              "#9c179e"
             ],
             [
              0.4444444444444444,
              "#bd3786"
             ],
             [
              0.5555555555555556,
              "#d8576b"
             ],
             [
              0.6666666666666666,
              "#ed7953"
             ],
             [
              0.7777777777777778,
              "#fb9f3a"
             ],
             [
              0.8888888888888888,
              "#fdca26"
             ],
             [
              1,
              "#f0f921"
             ]
            ],
            "type": "histogram2d"
           }
          ],
          "histogram2dcontour": [
           {
            "colorbar": {
             "outlinewidth": 0,
             "ticks": ""
            },
            "colorscale": [
             [
              0,
              "#0d0887"
             ],
             [
              0.1111111111111111,
              "#46039f"
             ],
             [
              0.2222222222222222,
              "#7201a8"
             ],
             [
              0.3333333333333333,
              "#9c179e"
             ],
             [
              0.4444444444444444,
              "#bd3786"
             ],
             [
              0.5555555555555556,
              "#d8576b"
             ],
             [
              0.6666666666666666,
              "#ed7953"
             ],
             [
              0.7777777777777778,
              "#fb9f3a"
             ],
             [
              0.8888888888888888,
              "#fdca26"
             ],
             [
              1,
              "#f0f921"
             ]
            ],
            "type": "histogram2dcontour"
           }
          ],
          "mesh3d": [
           {
            "colorbar": {
             "outlinewidth": 0,
             "ticks": ""
            },
            "type": "mesh3d"
           }
          ],
          "parcoords": [
           {
            "line": {
             "colorbar": {
              "outlinewidth": 0,
              "ticks": ""
             }
            },
            "type": "parcoords"
           }
          ],
          "pie": [
           {
            "automargin": true,
            "type": "pie"
           }
          ],
          "scatter": [
           {
            "fillpattern": {
             "fillmode": "overlay",
             "size": 10,
             "solidity": 0.2
            },
            "type": "scatter"
           }
          ],
          "scatter3d": [
           {
            "line": {
             "colorbar": {
              "outlinewidth": 0,
              "ticks": ""
             }
            },
            "marker": {
             "colorbar": {
              "outlinewidth": 0,
              "ticks": ""
             }
            },
            "type": "scatter3d"
           }
          ],
          "scattercarpet": [
           {
            "marker": {
             "colorbar": {
              "outlinewidth": 0,
              "ticks": ""
             }
            },
            "type": "scattercarpet"
           }
          ],
          "scattergeo": [
           {
            "marker": {
             "colorbar": {
              "outlinewidth": 0,
              "ticks": ""
             }
            },
            "type": "scattergeo"
           }
          ],
          "scattergl": [
           {
            "marker": {
             "colorbar": {
              "outlinewidth": 0,
              "ticks": ""
             }
            },
            "type": "scattergl"
           }
          ],
          "scattermapbox": [
           {
            "marker": {
             "colorbar": {
              "outlinewidth": 0,
              "ticks": ""
             }
            },
            "type": "scattermapbox"
           }
          ],
          "scatterpolar": [
           {
            "marker": {
             "colorbar": {
              "outlinewidth": 0,
              "ticks": ""
             }
            },
            "type": "scatterpolar"
           }
          ],
          "scatterpolargl": [
           {
            "marker": {
             "colorbar": {
              "outlinewidth": 0,
              "ticks": ""
             }
            },
            "type": "scatterpolargl"
           }
          ],
          "scatterternary": [
           {
            "marker": {
             "colorbar": {
              "outlinewidth": 0,
              "ticks": ""
             }
            },
            "type": "scatterternary"
           }
          ],
          "surface": [
           {
            "colorbar": {
             "outlinewidth": 0,
             "ticks": ""
            },
            "colorscale": [
             [
              0,
              "#0d0887"
             ],
             [
              0.1111111111111111,
              "#46039f"
             ],
             [
              0.2222222222222222,
              "#7201a8"
             ],
             [
              0.3333333333333333,
              "#9c179e"
             ],
             [
              0.4444444444444444,
              "#bd3786"
             ],
             [
              0.5555555555555556,
              "#d8576b"
             ],
             [
              0.6666666666666666,
              "#ed7953"
             ],
             [
              0.7777777777777778,
              "#fb9f3a"
             ],
             [
              0.8888888888888888,
              "#fdca26"
             ],
             [
              1,
              "#f0f921"
             ]
            ],
            "type": "surface"
           }
          ],
          "table": [
           {
            "cells": {
             "fill": {
              "color": "#EBF0F8"
             },
             "line": {
              "color": "white"
             }
            },
            "header": {
             "fill": {
              "color": "#C8D4E3"
             },
             "line": {
              "color": "white"
             }
            },
            "type": "table"
           }
          ]
         },
         "layout": {
          "annotationdefaults": {
           "arrowcolor": "#2a3f5f",
           "arrowhead": 0,
           "arrowwidth": 1
          },
          "autotypenumbers": "strict",
          "coloraxis": {
           "colorbar": {
            "outlinewidth": 0,
            "ticks": ""
           }
          },
          "colorscale": {
           "diverging": [
            [
             0,
             "#8e0152"
            ],
            [
             0.1,
             "#c51b7d"
            ],
            [
             0.2,
             "#de77ae"
            ],
            [
             0.3,
             "#f1b6da"
            ],
            [
             0.4,
             "#fde0ef"
            ],
            [
             0.5,
             "#f7f7f7"
            ],
            [
             0.6,
             "#e6f5d0"
            ],
            [
             0.7,
             "#b8e186"
            ],
            [
             0.8,
             "#7fbc41"
            ],
            [
             0.9,
             "#4d9221"
            ],
            [
             1,
             "#276419"
            ]
           ],
           "sequential": [
            [
             0,
             "#0d0887"
            ],
            [
             0.1111111111111111,
             "#46039f"
            ],
            [
             0.2222222222222222,
             "#7201a8"
            ],
            [
             0.3333333333333333,
             "#9c179e"
            ],
            [
             0.4444444444444444,
             "#bd3786"
            ],
            [
             0.5555555555555556,
             "#d8576b"
            ],
            [
             0.6666666666666666,
             "#ed7953"
            ],
            [
             0.7777777777777778,
             "#fb9f3a"
            ],
            [
             0.8888888888888888,
             "#fdca26"
            ],
            [
             1,
             "#f0f921"
            ]
           ],
           "sequentialminus": [
            [
             0,
             "#0d0887"
            ],
            [
             0.1111111111111111,
             "#46039f"
            ],
            [
             0.2222222222222222,
             "#7201a8"
            ],
            [
             0.3333333333333333,
             "#9c179e"
            ],
            [
             0.4444444444444444,
             "#bd3786"
            ],
            [
             0.5555555555555556,
             "#d8576b"
            ],
            [
             0.6666666666666666,
             "#ed7953"
            ],
            [
             0.7777777777777778,
             "#fb9f3a"
            ],
            [
             0.8888888888888888,
             "#fdca26"
            ],
            [
             1,
             "#f0f921"
            ]
           ]
          },
          "colorway": [
           "#636efa",
           "#EF553B",
           "#00cc96",
           "#ab63fa",
           "#FFA15A",
           "#19d3f3",
           "#FF6692",
           "#B6E880",
           "#FF97FF",
           "#FECB52"
          ],
          "font": {
           "color": "#2a3f5f"
          },
          "geo": {
           "bgcolor": "white",
           "lakecolor": "white",
           "landcolor": "#E5ECF6",
           "showlakes": true,
           "showland": true,
           "subunitcolor": "white"
          },
          "hoverlabel": {
           "align": "left"
          },
          "hovermode": "closest",
          "mapbox": {
           "style": "light"
          },
          "paper_bgcolor": "white",
          "plot_bgcolor": "#E5ECF6",
          "polar": {
           "angularaxis": {
            "gridcolor": "white",
            "linecolor": "white",
            "ticks": ""
           },
           "bgcolor": "#E5ECF6",
           "radialaxis": {
            "gridcolor": "white",
            "linecolor": "white",
            "ticks": ""
           }
          },
          "scene": {
           "xaxis": {
            "backgroundcolor": "#E5ECF6",
            "gridcolor": "white",
            "gridwidth": 2,
            "linecolor": "white",
            "showbackground": true,
            "ticks": "",
            "zerolinecolor": "white"
           },
           "yaxis": {
            "backgroundcolor": "#E5ECF6",
            "gridcolor": "white",
            "gridwidth": 2,
            "linecolor": "white",
            "showbackground": true,
            "ticks": "",
            "zerolinecolor": "white"
           },
           "zaxis": {
            "backgroundcolor": "#E5ECF6",
            "gridcolor": "white",
            "gridwidth": 2,
            "linecolor": "white",
            "showbackground": true,
            "ticks": "",
            "zerolinecolor": "white"
           }
          },
          "shapedefaults": {
           "line": {
            "color": "#2a3f5f"
           }
          },
          "ternary": {
           "aaxis": {
            "gridcolor": "white",
            "linecolor": "white",
            "ticks": ""
           },
           "baxis": {
            "gridcolor": "white",
            "linecolor": "white",
            "ticks": ""
           },
           "bgcolor": "#E5ECF6",
           "caxis": {
            "gridcolor": "white",
            "linecolor": "white",
            "ticks": ""
           }
          },
          "title": {
           "x": 0.05
          },
          "xaxis": {
           "automargin": true,
           "gridcolor": "white",
           "linecolor": "white",
           "ticks": "",
           "title": {
            "standoff": 15
           },
           "zerolinecolor": "white",
           "zerolinewidth": 2
          },
          "yaxis": {
           "automargin": true,
           "gridcolor": "white",
           "linecolor": "white",
           "ticks": "",
           "title": {
            "standoff": 15
           },
           "zerolinecolor": "white",
           "zerolinewidth": 2
          }
         }
        },
        "updatemenus": [
         {
          "buttons": [
           {
            "args": [
             null,
             {
              "frame": {
               "duration": 500,
               "redraw": false
              },
              "fromcurrent": true,
              "mode": "immediate",
              "transition": {
               "duration": 500,
               "easing": "linear"
              }
             }
            ],
            "label": "&#9654;",
            "method": "animate"
           },
           {
            "args": [
             [
              null
             ],
             {
              "frame": {
               "duration": 0,
               "redraw": false
              },
              "fromcurrent": true,
              "mode": "immediate",
              "transition": {
               "duration": 0,
               "easing": "linear"
              }
             }
            ],
            "label": "&#9724;",
            "method": "animate"
           }
          ],
          "direction": "left",
          "pad": {
           "r": 10,
           "t": 70
          },
          "showactive": false,
          "type": "buttons",
          "x": 0.1,
          "xanchor": "right",
          "y": 0,
          "yanchor": "top"
         }
        ],
        "xaxis": {
         "anchor": "y",
         "domain": [
          0,
          1
         ],
         "title": {
          "text": "CO2 Emissions (Metric Tons per Capita)"
         }
        },
        "yaxis": {
         "anchor": "x",
         "domain": [
          0,
          1
         ],
         "title": {
          "text": "Fertility Rate"
         }
        }
       }
      }
     },
     "metadata": {},
     "output_type": "display_data"
    }
   ],
   "source": [
    "# Para co2 vs life\n",
    "fig_life = px.scatter(df_merge, x='co2_emissions', y='life', \n",
    "                      animation_frame=\"year\", animation_group=\"country\",\n",
    "                      color=\"life\", hover_name=\"country\",\n",
    "                      labels={'co2_emissions': 'CO2 Emissions (Metric Tons per Capita)', 'life': 'Life Expectancy (Years)'})\n",
    "fig_life.show()\n",
    "\n",
    "# Para co2 vs fertility\n",
    "fig_fertility = px.scatter(df_merge, x='co2_emissions', y='fertility', \n",
    "                           animation_frame=\"year\", animation_group=\"country\",\n",
    "                           color=\"fertility\", hover_name=\"country\",\n",
    "                           labels={'co2_emissions': 'CO2 Emissions (Metric Tons per Capita)', 'fertility': 'Fertility Rate'})\n",
    "fig_fertility.show()\n"
   ]
  },
  {
   "cell_type": "markdown",
   "metadata": {},
   "source": [
    "Las gráficas anteriores muestran la distribución de los datos atravez de los años. La primera tienen en el eje x la emisión de CO2 y en el eje y la esperanza de vida en años. Podemos observar que a lo largo del tiempo miestras más emision de CO2 hay menor es la esperanza de vida. \n",
    "\n",
    "En el segundo gráfico tenemos en el eje x la emisión de CO2 y en el eje y el fertility rate. Podemos observar que a lo largo del tiempo entre más emisión de CO2 la fertilidad va aumente poco, pero con una emisión baja la fertilidad se mantiene."
   ]
  },
  {
   "cell_type": "code",
   "execution_count": 7,
   "metadata": {},
   "outputs": [
    {
     "name": "stdout",
     "output_type": "stream",
     "text": [
      "Correlación entre CO2 y Esperanza de Vida:\n",
      "               co2_emissions      life\n",
      "co2_emissions       1.000000  0.002344\n",
      "life                0.002344  1.000000\n",
      "\n",
      "Correlación entre CO2 y Fertilidad:\n",
      "               co2_emissions  fertility\n",
      "co2_emissions       1.000000   0.007139\n",
      "fertility           0.007139   1.000000\n"
     ]
    }
   ],
   "source": [
    "# Calcular y mostrar la correlación entre co2_emissions y life\n",
    "correlation_co2_life = df_merge[['co2_emissions', 'life']].corr()\n",
    "print(\"Correlación entre CO2 y Esperanza de Vida:\")\n",
    "print(correlation_co2_life)\n",
    "\n",
    "# Calcular y mostrar la correlación entre co2_emissions y fertility\n",
    "correlation_co2_fertility = df_merge[['co2_emissions', 'fertility']].corr()\n",
    "print(\"\\nCorrelación entre CO2 y Fertilidad:\")\n",
    "print(correlation_co2_fertility)\n"
   ]
  },
  {
   "cell_type": "markdown",
   "metadata": {},
   "source": [
    "Con la matriz de correlación podemos observar que la correlación ente la esperanza de vida y la emisión de CO2 es muy bajo siendo 0,0023\n",
    "\n",
    "Y la correlación entre fertilidad y la emisión de CO2 es más alta de con la esperanza de vida pero sigue siendo una correlación muy baja de 0.007"
   ]
  },
  {
   "cell_type": "markdown",
   "metadata": {},
   "source": [
    "## Parte 2"
   ]
  },
  {
   "cell_type": "code",
   "execution_count": 47,
   "metadata": {},
   "outputs": [],
   "source": [
    "import matplotlib.pyplot as plt\n",
    "import seaborn as sns\n",
    "from sklearn.experimental import enable_iterative_imputer\n",
    "from sklearn.impute import IterativeImputer\n",
    "from sklearn.impute import IterativeImputer\n",
    "from sklearn.tree import DecisionTreeRegressor\n",
    "from sklearn.ensemble import ExtraTreesRegressor\n",
    "from sklearn.neighbors import KNeighborsRegressor\n",
    "from sklearn.linear_model import BayesianRidge\n",
    "from sklearn.model_selection import train_test_split\n",
    "from sklearn.linear_model import LogisticRegression\n",
    "from sklearn.metrics import accuracy_score, roc_auc_score, f1_score\n",
    "\n",
    "from scipy import stats"
   ]
  },
  {
   "cell_type": "code",
   "execution_count": 43,
   "metadata": {},
   "outputs": [],
   "source": [
    "url = \"https://raw.githubusercontent.com/lihkir/Data/main/diabetes.csv\"\n",
    "df = pd.read_csv(url)\n",
    "df_original = pd.read_csv(url)"
   ]
  },
  {
   "cell_type": "code",
   "execution_count": 8,
   "metadata": {},
   "outputs": [
    {
     "name": "stdout",
     "output_type": "stream",
     "text": [
      "<class 'pandas.core.frame.DataFrame'>\n",
      "RangeIndex: 768 entries, 0 to 767\n",
      "Data columns (total 9 columns):\n",
      " #   Column                    Non-Null Count  Dtype  \n",
      "---  ------                    --------------  -----  \n",
      " 0   Pregnancies               768 non-null    int64  \n",
      " 1   Glucose                   768 non-null    int64  \n",
      " 2   BloodPressure             768 non-null    int64  \n",
      " 3   SkinThickness             768 non-null    int64  \n",
      " 4   Insulin                   768 non-null    int64  \n",
      " 5   BMI                       768 non-null    float64\n",
      " 6   DiabetesPedigreeFunction  768 non-null    float64\n",
      " 7   Age                       768 non-null    int64  \n",
      " 8   Outcome                   768 non-null    int64  \n",
      "dtypes: float64(2), int64(7)\n",
      "memory usage: 54.1 KB\n"
     ]
    },
    {
     "data": {
      "text/plain": [
       "(   Pregnancies  Glucose  BloodPressure  SkinThickness  Insulin   BMI  \\\n",
       " 0            6      148             72             35        0  33.6   \n",
       " 1            1       85             66             29        0  26.6   \n",
       " 2            8      183             64              0        0  23.3   \n",
       " 3            1       89             66             23       94  28.1   \n",
       " 4            0      137             40             35      168  43.1   \n",
       " \n",
       "    DiabetesPedigreeFunction  Age  Outcome  \n",
       " 0                     0.627   50        1  \n",
       " 1                     0.351   31        0  \n",
       " 2                     0.672   32        1  \n",
       " 3                     0.167   21        0  \n",
       " 4                     2.288   33        1  ,\n",
       " None)"
      ]
     },
     "execution_count": 8,
     "metadata": {},
     "output_type": "execute_result"
    }
   ],
   "source": [
    "df_head = df.head()\n",
    "df_info = df.info()\n",
    "\n",
    "df_head, df_info"
   ]
  },
  {
   "cell_type": "code",
   "execution_count": 42,
   "metadata": {},
   "outputs": [],
   "source": [
    "df.loc[df['Glucose'] == 0, 'Glucose'] = np.nan\n",
    "df.loc[df['BloodPressure'] == 0, 'BloodPressure'] = np.nan \n",
    "df.loc[df['SkinThickness'] == 0, 'SkinThickness'] = np.nan\n",
    "df.loc[df['Insulin'] == 0, 'Insulin'] = np.nan\n",
    "df.loc[df['BMI'] == 0, 'BMI'] = np.nan"
   ]
  },
  {
   "cell_type": "code",
   "execution_count": 11,
   "metadata": {},
   "outputs": [
    {
     "data": {
      "image/png": "[encoded data removed]",
      "text/plain": [
       "<Figure size 1000x600 with 2 Axes>"
      ]
     },
     "metadata": {},
     "output_type": "display_data"
    }
   ],
   "source": [
    "plt.figure(figsize=(10, 6))\n",
    "sns.heatmap(df.isnull(), cmap='viridis')\n",
    "plt.show() "
   ]
  },
  {
   "cell_type": "markdown",
   "metadata": {},
   "source": [
    "La imagen muestra un gráfico de barras que muestra la distribución de valores faltantes (o valores potencialmente no faltantes) en diferentes columnas o características de un conjunto de datos. El eje x enumera los nombres de las funciones, mientras que el eje y representa los índices o recuentos de filas.\n",
    "\n",
    "Algunas observaciones clave:\n",
    "\n",
    "La función \"Embarazos\" tiene valores faltantes o no faltantes para las filas indexadas entre 26 y 754 aproximadamente.\n",
    "\n",
    "Las características \"Glucosa\", \"Presión arterial\", \"Espesor de la piel\", \"Insulina\" e \"IMC\" tienen un patrón similar de valores faltantes o no faltantes, con espacios o valores faltantes repartidos en las filas.\n",
    "\n",
    "La característica \"DiabetesPedigreeFunction\" parece tener menos valores faltantes o no faltantes, con una barra más pequeña que representa su distribución.\n",
    "\n",
    "Las características \"Edad\" y \"Resultado\" parecen tener valores faltantes o no faltantes concentrados en un rango más pequeño de filas, como lo indican las barras más cortas."
   ]
  },
  {
   "cell_type": "code",
   "execution_count": 12,
   "metadata": {},
   "outputs": [
    {
     "data": {
      "image/png": "[encoded data removed]",
      "text/plain": [
       "<Figure size 1200x800 with 9 Axes>"
      ]
     },
     "metadata": {},
     "output_type": "display_data"
    }
   ],
   "source": [
    "plt.figure(figsize=(12, 8))\n",
    "for i, col in enumerate(df.select_dtypes(include=['float64', 'int64']).columns, start=1):\n",
    "    plt.subplot(3, 3, i)\n",
    "    sns.boxplot(y=df[col])\n",
    "    plt.tight_layout()\n",
    "plt.show() "
   ]
  },
  {
   "cell_type": "markdown",
   "metadata": {},
   "source": [
    "Este gráfico presenta múltiples medidas e indicadores a través de varios paneles. Cada panel muestra un conjunto diferente de métricas o variables en forma de barras o puntos.\n",
    "\n",
    "En general, las barras azules representan valores o cantidades, mientras que los puntos negros parecen representar valores máximos, mínimos o rangos.\n",
    "\n",
    "Algunos de los paneles muestran medidas relacionadas con la gestación, como la edad gestacional y el peso al nacer. Otros paneles presentan recuentos o valores numéricos sin una interpretación obvia directa desde el gráfico.\n",
    "\n",
    "Se puede ver claramente que la gran cantidad de gráficos tienen valores atípicos entonces nos funcionara para después."
   ]
  },
  {
   "cell_type": "code",
   "execution_count": 15,
   "metadata": {},
   "outputs": [
    {
     "data": {
      "image/png": "[encoded data removed]",
      "text/plain": [
       "<Figure size 1200x600 with 9 Axes>"
      ]
     },
     "metadata": {},
     "output_type": "display_data"
    }
   ],
   "source": [
    "plt.figure(figsize=(12, 6))\n",
    "for i, col in enumerate(df.select_dtypes(include=['float64', 'int64']).columns, start=1):\n",
    "    plt.subplot(2, 5, i)\n",
    "    sns.histplot(data=df, x=col, kde=True)\n",
    "    plt.tight_layout()\n",
    "plt.show() "
   ]
  },
  {
   "cell_type": "markdown",
   "metadata": {},
   "source": [
    "Este gráfico muestra distribuciones de diferentes características o variables relacionadas con la salud, utilizando histogramas y gráficos de densidad. Cada panel representa una variable diferente, como el número de embarazos, niveles de glucosa, presión arterial, grosor de la piel, índice de masa corporal (BMI), función de pedigrí de diabetes, edad y niveles de insulina. Las distribuciones varían en forma, desde formas aproximadamente normales hasta distribuciones sesgadas o multimodales.\n",
    "\n",
    "El panel \"Outcome\" muestra una distribución bimodal, lo que sugiere que podría representar una variable binaria o categórica, posiblemente indicando la presencia o ausencia de una condición o resultado específico."
   ]
  },
  {
   "cell_type": "code",
   "execution_count": 28,
   "metadata": {},
   "outputs": [
    {
     "data": {
      "text/plain": [
       "Pregnancies                   0\n",
       "Glucose                       5\n",
       "BloodPressure                35\n",
       "SkinThickness               227\n",
       "Insulin                     374\n",
       "BMI                          11\n",
       "DiabetesPedigreeFunction      0\n",
       "Age                           0\n",
       "Outcome                       0\n",
       "dtype: int64"
      ]
     },
     "execution_count": 28,
     "metadata": {},
     "output_type": "execute_result"
    }
   ],
   "source": [
    "columns_with_zeros = ['Glucose', 'BloodPressure', 'SkinThickness', 'Insulin', 'BMI']\n",
    "for column in columns_with_zeros:\n",
    "    df.loc[df[column] == 0, column] = np.nan\n",
    "\n",
    "df.isnull().sum()"
   ]
  },
  {
   "cell_type": "markdown",
   "metadata": {},
   "source": [
    "El resultado muestra el recuento de valores NaN para cada columna en el DataFrame después de reemplazar 0 con NaN en las columnas especificadas. Por ejemplo:\n",
    "\n",
    "Embarazos: 0 valores NaN\n",
    "\n",
    "Glucosa: 5 valores NaN\n",
    "\n",
    "Presión arterial: 35 valores NaN\n",
    "\n",
    "Grosor de la piel: 227 valores NaN\n",
    "\n",
    "Insulina: 374 valores NaN\n",
    "\n",
    "IMC: 11 valores NaN\n",
    "\n",
    "DiabetesPedigreeFunción: 0 valores NaN\n",
    "\n",
    "Edad: 0 valores NaN\n",
    "Resultado: 0 valores NaN"
   ]
  },
  {
   "cell_type": "code",
   "execution_count": 29,
   "metadata": {},
   "outputs": [
    {
     "data": {
      "text/plain": [
       "Insulin                     0.486979\n",
       "SkinThickness               0.295573\n",
       "BloodPressure               0.045573\n",
       "BMI                         0.014323\n",
       "Glucose                     0.006510\n",
       "Pregnancies                 0.000000\n",
       "DiabetesPedigreeFunction    0.000000\n",
       "Age                         0.000000\n",
       "Outcome                     0.000000\n",
       "dtype: float64"
      ]
     },
     "execution_count": 29,
     "metadata": {},
     "output_type": "execute_result"
    }
   ],
   "source": [
    "missing_data_proportion = df.isnull().mean().sort_values(ascending=False)\n",
    "missing_data_proportion"
   ]
  },
  {
   "cell_type": "markdown",
   "metadata": {},
   "source": [
    "El resultado muestra la proporción de datos faltantes para cada columna del DataFrame, ordenados de mayor a menor:\n",
    "\n",
    "Insulina: 0,486979 (faltan aproximadamente el 48,7 % de los valores)\n",
    "\n",
    "Grosor de la piel: 0,295573 (faltan aproximadamente el 29,6 % de los valores)\n",
    "\n",
    "Presión arterial: 0,045573 (faltan aproximadamente el 4,6 % de los valores)\n",
    "\n",
    "IMC: 0,014323 (faltan aproximadamente el 1,4% de los valores)\n",
    "\n",
    "Glucosa: 0,006510 (faltan aproximadamente el 0,7 % de los valores)\n",
    "\n",
    "Embarazos, diabetesPedigreeFunción, edad, resultado: 0,000000 (no faltan valores)"
   ]
  },
  {
   "cell_type": "markdown",
   "metadata": {},
   "source": [
    "## TESTS"
   ]
  },
  {
   "cell_type": "markdown",
   "metadata": {},
   "source": [
    "### Rosner"
   ]
  },
  {
   "cell_type": "code",
   "execution_count": 55,
   "metadata": {},
   "outputs": [
    {
     "name": "stdout",
     "output_type": "stream",
     "text": [
      "Outliers en la variable 'Pregnancies':\n",
      "[17.0, 15.0, 14.0, 14.0]\n",
      "------------------------------\n",
      "Outliers en la variable 'Glucose':\n",
      "[]\n",
      "------------------------------\n",
      "Outliers en la variable 'BloodPressure':\n",
      "[122.0, 24.0, 30.0, 30.0, 114.0, 110.0, 110.0, 110.0, 108.0, 108.0, 38.0, 106.0, 106.0, 106.0]\n",
      "------------------------------\n",
      "Outliers en la variable 'SkinThickness':\n",
      "[99.0, 63.0, 60.0, 56.0]\n",
      "------------------------------\n",
      "Outliers en la variable 'Insulin':\n",
      "[846.0, 744.0, 680.0, 600.0, 579.0, 545.0, 543.0, 540.0, 510.0, 495.0, 495.0, 485.0, 480.0, 480.0, 478.0]\n",
      "------------------------------\n",
      "Outliers en la variable 'BMI':\n",
      "[67.1, 59.4, 57.3, 55.0, 53.2, 52.9, 52.3, 52.3]\n",
      "------------------------------\n",
      "Outliers en la variable 'DiabetesPedigreeFunction':\n",
      "[2.42, 2.329, 2.288, 2.137, 1.893, 1.781, 1.731, 1.699, 1.698, 1.6, 1.476, 1.461, 1.441, 1.4, 1.394]\n",
      "------------------------------\n",
      "Outliers en la variable 'Age':\n",
      "[81.0, 72.0, 70.0, 69.0, 69.0, 68.0, 67.0, 67.0, 67.0]\n",
      "------------------------------\n"
     ]
    }
   ],
   "source": [
    "def rosner_test(data, max_outliers):\n",
    "    data = np.array(data)\n",
    "    outliers = []\n",
    "    for _ in range(max_outliers):\n",
    "        mean = np.mean(data)\n",
    "        std = np.std(data, ddof=1)\n",
    "        z_scores = np.abs((data - mean) / std)\n",
    "        max_z_score = np.max(z_scores)\n",
    "        max_z_index = np.argmax(z_scores)\n",
    "        if max_z_score > 3:\n",
    "            outliers.append(data[max_z_index])\n",
    "            data = np.delete(data, max_z_index)\n",
    "        else:\n",
    "            break\n",
    "    return outliers\n",
    "\n",
    "for column in df.columns:\n",
    "    print(f\"Outliers en la variable '{column}':\")\n",
    "    outliers = rosner_test(df[column], 15)\n",
    "    print(outliers)\n",
    "    print(\"-\" * 30)"
   ]
  },
  {
   "cell_type": "markdown",
   "metadata": {},
   "source": [
    "Podemos observar con el test de rosner que la mayoria de las variables tienen valores atípicos, excepto Glucose. Y podemos analizar que las que tienen mayor número de datos atípicos es Insulin y Diabetes Pedigree Function, como ya habiamos visto anteriormente en los boxplots."
   ]
  },
  {
   "cell_type": "code",
   "execution_count": 57,
   "metadata": {},
   "outputs": [
    {
     "name": "stdout",
     "output_type": "stream",
     "text": [
      "Prueba de Grubbs para la variable 'Pregnancies':\n",
      "No se detectaron valores atípicos.\n",
      "------------------------------\n",
      "Prueba de Grubbs para la variable 'Glucose':\n",
      "No se detectaron valores atípicos.\n",
      "------------------------------\n",
      "Prueba de Grubbs para la variable 'BloodPressure':\n",
      "Valor atípico detectado: 122.0\n",
      "------------------------------\n",
      "Prueba de Grubbs para la variable 'SkinThickness':\n",
      "Valor atípico detectado: 99.0\n",
      "------------------------------\n",
      "Prueba de Grubbs para la variable 'Insulin':\n",
      "Valor atípico detectado: 846.0\n",
      "------------------------------\n",
      "Prueba de Grubbs para la variable 'BMI':\n",
      "Valor atípico detectado: 67.1\n",
      "------------------------------\n",
      "Prueba de Grubbs para la variable 'DiabetesPedigreeFunction':\n",
      "Valor atípico detectado: 2.42\n",
      "------------------------------\n",
      "Prueba de Grubbs para la variable 'Age':\n",
      "Valor atípico detectado: 81.0\n",
      "------------------------------\n"
     ]
    }
   ],
   "source": [
    "from scipy.stats import t\n",
    "\n",
    "def grubbs_test(data, alpha=0.05):\n",
    "    data = np.array(data)\n",
    "    mean = np.mean(data)\n",
    "    std = np.std(data, ddof=1)\n",
    "    G = np.max(np.abs(data - mean)) / std\n",
    "    n = len(data)\n",
    "    t_critical = t.ppf(1 - alpha / (2 * n), n - 2)\n",
    "    G_critical = (n - 1) * t_critical / np.sqrt(n * (n - 2 + t_critical**2))\n",
    "    if G > G_critical:\n",
    "        outlier = data[np.argmax(np.abs(data - mean))]\n",
    "        return outlier, True\n",
    "    else:\n",
    "        return None, False\n",
    "\n",
    "for column in df.columns:\n",
    "    print(f\"Prueba de Grubbs para la variable '{column}':\")\n",
    "    outlier, is_outlier = grubbs_test(df[column], 0.05)\n",
    "    if is_outlier:\n",
    "        print(f\"Valor atípico detectado: {outlier}\")\n",
    "    else:\n",
    "        print(\"No se detectaron valores atípicos.\")\n",
    "    print(\"-\" * 30)"
   ]
  },
  {
   "cell_type": "markdown",
   "metadata": {},
   "source": [
    "Para el test de Grubbs podemos ver que Pregnancies y Glucose no tienen valores atípicos detectados, el resto si podemos decir que con un nivel de significancia del %5 tienen por lo menos un dato atípico."
   ]
  },
  {
   "cell_type": "code",
   "execution_count": 69,
   "metadata": {},
   "outputs": [
    {
     "name": "stdout",
     "output_type": "stream",
     "text": [
      "Aplicando el filtro de Hampel a la variable 'Pregnancies':\n",
      "Índices de valores atípicos detectados por el filtro de Hampel: [10, 48, 49, 72, 88, 98, 102, 104, 159, 181, 223, 250, 254, 259, 270, 274, 284, 295, 310, 314, 319, 323, 327, 333, 353, 363, 370, 375, 397, 410, 414, 436, 450, 455, 461, 468, 469, 473, 486, 523, 533, 578, 585, 601, 608, 635, 648, 652, 658, 690, 712, 725, 731, 740, 756]\n",
      "--------------------------------------------------\n",
      "Aplicando el filtro de Hampel a la variable 'Glucose':\n",
      "Índices de valores atípicos detectados por el filtro de Hampel: [8, 22, 40, 88, 111, 113, 120, 129, 130, 144, 159, 175, 199, 206, 273, 312, 316, 317, 327, 332, 408, 409, 415, 433, 445, 506, 511, 520, 561, 568, 617, 622, 642, 687, 702, 732, 737]\n",
      "--------------------------------------------------\n",
      "Aplicando el filtro de Hampel a la variable 'BloodPressure':\n",
      "Índices de valores atípicos detectados por el filtro de Hampel: [4, 18, 29, 84, 106, 125, 169, 170, 177, 207, 250, 285, 313, 323, 328, 353, 362, 420, 500, 531, 549, 571, 593, 597, 605, 662, 664, 691, 702, 707, 729]\n",
      "--------------------------------------------------\n",
      "Aplicando el filtro de Hampel a la variable 'SkinThickness':\n",
      "Índices de valores atípicos detectados por el filtro de Hampel: [8, 57, 63, 86, 92, 99, 103, 125, 150, 169, 211, 229, 235, 275, 325, 353, 361, 367, 370, 376, 458, 519, 528, 579, 612, 625, 646, 652, 689, 725, 732, 742, 763]\n",
      "--------------------------------------------------\n",
      "Aplicando el filtro de Hampel a la variable 'Insulin':\n",
      "Índices de valores atípicos detectados por el filtro de Hampel: [8, 13, 53, 73, 95, 111, 123, 129, 153, 162, 201, 220, 227, 228, 247, 258, 262, 286, 349, 370, 375, 378, 382, 409, 424, 466, 470, 495, 528, 535, 579, 584, 589, 612, 617, 645, 655, 661, 687, 695, 707, 715, 753]\n",
      "--------------------------------------------------\n",
      "Aplicando el filtro de Hampel a la variable 'BMI':\n",
      "Índices de valores atípicos detectados por el filtro de Hampel: [4, 16, 67, 68, 92, 120, 125, 134, 145, 173, 177, 190, 247, 270, 303, 354, 376, 413, 438, 445, 531, 546, 638, 656, 673, 689, 717, 732]\n",
      "--------------------------------------------------\n",
      "Aplicando el filtro de Hampel a la variable 'DiabetesPedigreeFunction':\n",
      "Índices de valores atípicos detectados por el filtro de Hampel: [4, 12, 27, 31, 39, 45, 58, 63, 67, 82, 85, 94, 100, 104, 105, 131, 147, 202, 228, 243, 245, 268, 270, 279, 308, 323, 326, 330, 336, 353, 370, 371, 412, 419, 445, 453, 476, 487, 493, 499, 503, 508, 513, 523, 546, 584, 618, 622, 627, 657, 663, 679, 744, 750, 755, 760]\n",
      "--------------------------------------------------\n",
      "Aplicando el filtro de Hampel a la variable 'Age':\n",
      "Índices de valores atípicos detectados por el filtro de Hampel: [3, 8, 9, 53, 72, 76, 82, 99, 100, 107, 111, 123, 129, 133, 148, 186, 204, 212, 236, 250, 254, 259, 278, 294, 298, 299, 314, 319, 335, 369, 370, 375, 379, 424, 453, 473, 479, 509, 523, 529, 533, 537, 542, 552, 618, 622, 625, 628, 642, 665, 666, 671, 676, 684, 708, 730, 734, 763]\n",
      "--------------------------------------------------\n"
     ]
    }
   ],
   "source": [
    "import numpy as np\n",
    "import pandas as pd\n",
    "\n",
    "# Función para aplicar el test de Hampel a una serie de datos\n",
    "def hampel_filter_forloop(input_series, window_size, n_sigmas=3):\n",
    "    \"\"\"\n",
    "    input_series: pandas Series object. Data to filter.\n",
    "    window_size: int. The number of items in a window to examine.\n",
    "    n_sigmas: int or float. The number of standard deviations to use as the threshold for detecting an outlier.\n",
    "    \"\"\"\n",
    "    n = len(input_series)\n",
    "    new_series = input_series.copy()\n",
    "    k = 1.4826 \n",
    "\n",
    "    indices = []\n",
    "\n",
    "    for i in range((window_size), (n - window_size)):\n",
    "        x0 = np.median(input_series[(i - window_size):(i + window_size)])\n",
    "        S0 = k * np.median(np.abs(input_series[(i - window_size):(i + window_size)] - x0))\n",
    "        if np.abs(input_series.iloc[i] - x0) > n_sigmas * S0:\n",
    "            indices.append(i)\n",
    "    return indices\n",
    "\n",
    "# Asumiendo que 'df' es tu dataframe\n",
    "for column in df.columns:\n",
    "    print(f\"Aplicando el filtro de Hampel a la variable '{column}':\")\n",
    "    dato = df[column]\n",
    "    outlier_indices = hampel_filter_forloop(dato, window_size=3, n_sigmas=3)\n",
    "    print(\"Índices de valores atípicos detectados por el filtro de Hampel:\", outlier_indices)\n",
    "    print(\"-\" * 50)"
   ]
  },
  {
   "cell_type": "markdown",
   "metadata": {},
   "source": [
    "Para el test de hampel vemos que todos tienen datos atípicos pero debemos tener en cuenta que este test es muy sensible a los sesgos en los datos, entonces puede estar interpretando muchos datos como valores atípicos que no lo deberían ser. Y como observamos en el EDA, todos tienen algun tipo de sesgo."
   ]
  },
  {
   "cell_type": "code",
   "execution_count": 44,
   "metadata": {},
   "outputs": [
    {
     "name": "stdout",
     "output_type": "stream",
     "text": [
      "Imputation with BayesianRidge completed.\n",
      "Imputation with DecisionTreeRegressor completed.\n",
      "Imputation with ExtraTreesRegressor completed.\n",
      "Imputation with KNeighborsRegressor completed.\n"
     ]
    },
    {
     "data": {
      "text/plain": [
       "(0, 0, 0, 0)"
      ]
     },
     "execution_count": 44,
     "metadata": {},
     "output_type": "execute_result"
    }
   ],
   "source": [
    "for column in columns_with_zeros:\n",
    "    df.loc[df[column] == 0, column] = np.nan\n",
    "\n",
    "X_nan = df.drop('Outcome', axis=1)\n",
    "\n",
    "# Preparamos diferentes variantes del IterativeImputer con diferentes estimadores\n",
    "estimators_variants = {\n",
    "    'BayesianRidge': BayesianRidge(),\n",
    "    'DecisionTreeRegressor': DecisionTreeRegressor(random_state=42),\n",
    "    'ExtraTreesRegressor': ExtraTreesRegressor(n_estimators=10, random_state=42),\n",
    "    'KNeighborsRegressor': KNeighborsRegressor(n_neighbors=5)\n",
    "}\n",
    "\n",
    "imputed_variants = {}\n",
    "\n",
    "for name, estimator in estimators_variants.items():\n",
    "    imputer_variant = IterativeImputer(random_state=42, estimator=estimator)\n",
    "    imputed_data = imputer_variant.fit_transform(X_nan)\n",
    "    imputed_variants[name] = pd.DataFrame(imputed_data, columns=X_nan.columns)\n",
    "    print(f\"Imputation with {name} completed.\")\n",
    "\n",
    "imputed_variants['BayesianRidge'].isnull().sum().sum(), imputed_variants['DecisionTreeRegressor'].isnull().sum().sum(),imputed_variants['ExtraTreesRegressor'].isnull().sum().sum(), imputed_variants['KNeighborsRegressor'].isnull().sum().sum()\n"
   ]
  },
  {
   "cell_type": "markdown",
   "metadata": {},
   "source": [
    "Eso significa que la imputación se completó con éxito para cada uno de los estimadores (BayesianRidge, DecisionTreeRegressor, ExtraTreesRegressor, KNeighborsRegressor) y, al final, no quedaron valores NaN en el conjunto de datos para ninguno de los estimadores utilizados, esto lo podemos ver en la salida = (0, 0, 0, 0)"
   ]
  },
  {
   "cell_type": "code",
   "execution_count": 45,
   "metadata": {},
   "outputs": [],
   "source": [
    "# Creamos un diccionario para almacenar las estadísticas de todas las variables\n",
    "all_stats = {name: pd.DataFrame(index=['mean', 'median', '25%', '75%', 'IQR']) for name in imputed_variants.keys()}\n",
    "\n",
    "for name, df in imputed_variants.items():\n",
    "    for column in df.columns:\n",
    "        description = df[column].describe()\n",
    "        all_stats[name].loc[:, column] = [description['mean'], description['50%'], description['25%'], description['75%'], description['75%'] - description['25%']]"
   ]
  },
  {
   "cell_type": "code",
   "execution_count": 36,
   "metadata": {},
   "outputs": [
    {
     "name": "stdout",
     "output_type": "stream",
     "text": [
      "        Pregnancies     Glucose  BloodPressure  SkinThickness     Insulin  \\\n",
      "mean       3.845052  121.641941      72.352451      28.906892  152.650328   \n",
      "median     3.000000  117.000000      72.000000      28.447099  130.185304   \n",
      "25%        1.000000   99.000000      64.000000      22.120844   89.983889   \n",
      "75%        6.000000  140.250000      80.000000      35.000000  190.000000   \n",
      "IQR        5.000000   41.250000      16.000000      12.879156  100.016111   \n",
      "\n",
      "              BMI  DiabetesPedigreeFunction        Age  \n",
      "mean    32.443084                  0.471876  33.240885  \n",
      "median  32.150000                  0.372500  29.000000  \n",
      "25%     27.500000                  0.243750  24.000000  \n",
      "75%     36.600000                  0.626250  41.000000  \n",
      "IQR      9.100000                  0.382500  17.000000  \n"
     ]
    }
   ],
   "source": [
    "print(all_stats['BayesianRidge'])"
   ]
  },
  {
   "cell_type": "code",
   "execution_count": 37,
   "metadata": {},
   "outputs": [
    {
     "name": "stdout",
     "output_type": "stream",
     "text": [
      "        Pregnancies     Glucose  BloodPressure  SkinThickness     Insulin  \\\n",
      "mean       3.845052  121.848958      72.558594      28.977865  156.882812   \n",
      "median     3.000000  117.000000      72.000000      29.000000  125.000000   \n",
      "25%        1.000000   99.000000      64.000000      21.000000   76.000000   \n",
      "75%        6.000000  141.000000      80.000000      36.000000  190.000000   \n",
      "IQR        5.000000   42.000000      16.000000      15.000000  114.000000   \n",
      "\n",
      "              BMI  DiabetesPedigreeFunction        Age  \n",
      "mean    32.438932                  0.471876  33.240885  \n",
      "median  32.300000                  0.372500  29.000000  \n",
      "25%     27.500000                  0.243750  24.000000  \n",
      "75%     36.600000                  0.626250  41.000000  \n",
      "IQR      9.100000                  0.382500  17.000000  \n"
     ]
    }
   ],
   "source": [
    "print(all_stats['DecisionTreeRegressor'])"
   ]
  },
  {
   "cell_type": "code",
   "execution_count": 38,
   "metadata": {},
   "outputs": [
    {
     "name": "stdout",
     "output_type": "stream",
     "text": [
      "        Pregnancies     Glucose  BloodPressure  SkinThickness     Insulin  \\\n",
      "mean       3.845052  121.636328      72.389323       28.98776  155.391146   \n",
      "median     3.000000  117.000000      72.000000       29.00000  133.250000   \n",
      "25%        1.000000   99.000000      64.000000       22.00000   88.000000   \n",
      "75%        6.000000  141.000000      80.000000       35.80000  191.300000   \n",
      "IQR        5.000000   42.000000      16.000000       13.80000  103.300000   \n",
      "\n",
      "              BMI  DiabetesPedigreeFunction        Age  \n",
      "mean    32.447565                  0.471876  33.240885  \n",
      "median  32.300000                  0.372500  29.000000  \n",
      "25%     27.500000                  0.243750  24.000000  \n",
      "75%     36.600000                  0.626250  41.000000  \n",
      "IQR      9.100000                  0.382500  17.000000  \n"
     ]
    }
   ],
   "source": [
    "print(all_stats['ExtraTreesRegressor'])"
   ]
  },
  {
   "cell_type": "code",
   "execution_count": 39,
   "metadata": {},
   "outputs": [
    {
     "name": "stdout",
     "output_type": "stream",
     "text": [
      "        Pregnancies     Glucose  BloodPressure  SkinThickness     Insulin  \\\n",
      "mean       3.845052  121.595052      72.404427      29.019531  152.529948   \n",
      "median     3.000000  117.000000      72.000000      28.900000  133.600000   \n",
      "25%        1.000000   99.000000      64.000000      23.000000   88.000000   \n",
      "75%        6.000000  140.250000      80.000000      35.000000  188.400000   \n",
      "IQR        5.000000   41.250000      16.000000      12.000000  100.400000   \n",
      "\n",
      "              BMI  DiabetesPedigreeFunction        Age  \n",
      "mean    32.408073                  0.471876  33.240885  \n",
      "median  32.050000                  0.372500  29.000000  \n",
      "25%     27.400000                  0.243750  24.000000  \n",
      "75%     36.600000                  0.626250  41.000000  \n",
      "IQR      9.200000                  0.382500  17.000000  \n"
     ]
    }
   ],
   "source": [
    "print(all_stats['KNeighborsRegressor'])"
   ]
  },
  {
   "cell_type": "markdown",
   "metadata": {},
   "source": [
    "BayesianRidge: Este estimador tiende a producir resultados más suaves y regulares, lo que generalmente es una buena opción si se espera que los datos tengan relaciones lineales. En los resultados, parece que los valores de la mediana son consistentes y cercanos a la media, lo que sugiere una distribución simétrica y pocas variaciones extremas en la imputación.\n",
    "\n",
    "DecisionTreeRegressor: Es conocido por capturar relaciones no lineales y puede manejar variables categóricas naturalmente. Sin embargo, puede ser más sensible a los valores atípicos. Los resultados muestran un IQR ligeramente más amplio para algunas variables, lo que indica una mayor variabilidad en los valores imputados.\n",
    "\n",
    "ExtraTreesRegressor: Al ser un ensamble de árboles, generalmente proporciona predicciones más estables y menos propensas a sobreajustes. Los resultados aquí son similares a los de DecisionTreeRegressor, pero con ligeras diferencias que pueden indicar una imputación más robusta frente a variaciones y valores atípicos.\n",
    "\n",
    "KNeighborsRegressor: Este estimador toma un enfoque localizado, imputando valores basados en la similitud con los \"vecinos\" más cercanos. Esto puede ser particularmente útil para datos con agrupaciones naturales. Los valores imputados muestran coherencia con los otros estimadores, lo que sugiere que las características tienen una estructura bien definida que es capturada por la proximidad de los vecinos.\n",
    "\n",
    "Al comparar las estadísticas descriptivas de las diferentes imputaciones, puedes observar que no hay cambios dramáticos en los valores medios, lo que es un buen signo de que la imputación no está sesgando significativamente los datos. Sin embargo, hay ligeras variaciones en el IQR, lo que refleja diferencias en la dispersión de los valores imputados entre los estimadores."
   ]
  },
  {
   "cell_type": "code",
   "execution_count": 46,
   "metadata": {},
   "outputs": [
    {
     "name": "stdout",
     "output_type": "stream",
     "text": [
      "Metrics for BayesianRidge:\n",
      "Accuracy: 0.7359307359307359\n",
      "AUC: 0.7010347682119205\n",
      "F1 Score: 0.6064516129032258\n",
      "\n",
      "\n",
      "Metrics for DecisionTreeRegressor:\n",
      "Accuracy: 0.7532467532467533\n",
      "AUC: 0.7230960264900662\n",
      "F1 Score: 0.6369426751592356\n",
      "\n",
      "\n",
      "Metrics for ExtraTreesRegressor:\n",
      "Accuracy: 0.7359307359307359\n",
      "AUC: 0.7010347682119205\n",
      "F1 Score: 0.6064516129032258\n",
      "\n",
      "\n",
      "Metrics for KNeighborsRegressor:\n",
      "Accuracy: 0.7359307359307359\n",
      "AUC: 0.7010347682119205\n",
      "F1 Score: 0.6064516129032258\n",
      "\n",
      "\n"
     ]
    }
   ],
   "source": [
    "performance_metrics = {}\n",
    "\n",
    "for name, df in imputed_variants.items():\n",
    "    X = df.values\n",
    "    y = df_original['Outcome'].values  \n",
    "    \n",
    "    X_train, X_test, y_train, y_test = train_test_split(X, y, test_size=0.3, random_state=42)\n",
    "    \n",
    "    model = LogisticRegression()\n",
    "    model.fit(X_train, y_train)\n",
    "    \n",
    "    y_pred = model.predict(X_test)\n",
    "    \n",
    "    accuracy = accuracy_score(y_test, y_pred)\n",
    "    auc = roc_auc_score(y_test, y_pred)\n",
    "    f1 = f1_score(y_test, y_pred)\n",
    "    \n",
    "    performance_metrics[name] = {'Accuracy': accuracy, 'AUC': auc, 'F1 Score': f1}\n",
    "\n",
    "for name, metrics in performance_metrics.items():\n",
    "    print(f\"Metrics for {name}:\")\n",
    "    for metric_name, metric_value in metrics.items():\n",
    "        print(f\"{metric_name}: {metric_value}\")\n",
    "    print(\"\\n\")\n"
   ]
  },
  {
   "cell_type": "markdown",
   "metadata": {},
   "source": [
    "BayesianRidge: El rendimiento con la imputación utilizando BayesianRidge es comparable al de ExtraTreesRegressor y KNeighborsRegressor en términos de precisión, AUC y puntaje F1. Esto indica que el modelo con este estimador de imputación tiene un equilibrio razonable entre la sensibilidad y especificidad y una precisión aceptable.\n",
    "\n",
    "DecisionTreeRegressor: Ha mostrado un rendimiento ligeramente superior en todas las métricas en comparación con BayesianRidge, ExtraTreesRegressor, y KNeighborsRegressor. La precisión y el AUC son mayores, y el puntaje F1, que combina la precisión y la sensibilidad, también es el más alto de los cuatro, indicando un mejor equilibrio entre la precisión y la recuperación.\n",
    "\n",
    "ExtraTreesRegressor: Los resultados son idénticos a los obtenidos con BayesianRidge y KNeighborsRegressor. Esto puede sugerir que, para este conjunto de datos y el modelo utilizado, la elección del estimador de imputación no ha tenido un impacto significativo en el rendimiento del modelo.\n",
    "\n",
    "KNeighborsRegressor: Al igual que BayesianRidge y ExtraTreesRegressor, KNeighborsRegressor tiene las mismas métricas de rendimiento, lo que indica que la imputación mediante este método no ha proporcionado ninguna mejora ni deterioro en el rendimiento del modelo en comparación con los otros estimadores.\n",
    "\n",
    "En general, el modelo con datos imputados usando DecisionTreeRegressor ha logrado el mejor rendimiento. Sin embargo, la diferencia no es muy grande."
   ]
  }
 ],
 "metadata": {
  "kernelspec": {
   "display_name": "Python 3",
   "language": "python",
   "name": "python3"
  },
  "language_info": {
   "codemirror_mode": {
    "name": "ipython",
    "version": 3
   },
   "file_extension": ".py",
   "mimetype": "text/x-python",
   "name": "python",
   "nbconvert_exporter": "python",
   "pygments_lexer": "ipython3",
   "version": "3.10.6"
  }
 },
 "nbformat": 4,
 "nbformat_minor": 2
}
